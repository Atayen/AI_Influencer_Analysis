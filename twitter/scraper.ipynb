{
 "cells": [
  {
   "attachments": {},
   "cell_type": "markdown",
   "metadata": {},
   "source": [
    "# API Methode"
   ]
  },
  {
   "cell_type": "code",
   "execution_count": 2,
   "metadata": {},
   "outputs": [
    {
     "ename": "ValueError",
     "evalue": "time data 'None' does not match format '%Y-%m-%d %H:%M:%S'",
     "output_type": "error",
     "traceback": [
      "\u001b[0;31m---------------------------------------------------------------------------\u001b[0m",
      "\u001b[0;31mValueError\u001b[0m                                Traceback (most recent call last)",
      "Cell \u001b[0;32mIn[2], line 19\u001b[0m\n\u001b[1;32m     10\u001b[0m client \u001b[39m=\u001b[39m tweepy\u001b[39m.\u001b[39mClient(bearer_token, wait_on_rate_limit\u001b[39m=\u001b[39m\u001b[39mTrue\u001b[39;00m)\n\u001b[1;32m     12\u001b[0m user \u001b[39m=\u001b[39m client\u001b[39m.\u001b[39mget_user(username\u001b[39m=\u001b[39m\u001b[39m\"\u001b[39m\u001b[39mpaty_castroo\u001b[39m\u001b[39m\"\u001b[39m)\n\u001b[1;32m     14\u001b[0m profile_data \u001b[39m=\u001b[39m  {\n\u001b[1;32m     15\u001b[0m                     \u001b[39m'\u001b[39m\u001b[39mname\u001b[39m\u001b[39m'\u001b[39m : user\u001b[39m.\u001b[39mdata\u001b[39m.\u001b[39mname,\n\u001b[1;32m     16\u001b[0m                     \u001b[39m'\u001b[39m\u001b[39mid\u001b[39m\u001b[39m'\u001b[39m : user\u001b[39m.\u001b[39mdata\u001b[39m.\u001b[39mid,\n\u001b[1;32m     17\u001b[0m                     \u001b[39m'\u001b[39m\u001b[39musername\u001b[39m\u001b[39m'\u001b[39m : user\u001b[39m.\u001b[39mdata\u001b[39m.\u001b[39musername,\n\u001b[1;32m     18\u001b[0m                     \u001b[39m'\u001b[39m\u001b[39mcreated_at\u001b[39m\u001b[39m'\u001b[39m : user\u001b[39m.\u001b[39mdata\u001b[39m.\u001b[39mcreated_at,\n\u001b[0;32m---> 19\u001b[0m                     \u001b[39m'\u001b[39m\u001b[39mcreated_at_year\u001b[39m\u001b[39m'\u001b[39m:datetime\u001b[39m.\u001b[39;49mstrptime(\u001b[39mstr\u001b[39;49m(user\u001b[39m.\u001b[39;49mdata\u001b[39m.\u001b[39;49mcreated_at)[:\u001b[39m19\u001b[39;49m], \u001b[39m'\u001b[39;49m\u001b[39m%\u001b[39;49m\u001b[39mY-\u001b[39;49m\u001b[39m%\u001b[39;49m\u001b[39mm-\u001b[39;49m\u001b[39m%d\u001b[39;49;00m\u001b[39m \u001b[39;49m\u001b[39m%\u001b[39;49m\u001b[39mH:\u001b[39;49m\u001b[39m%\u001b[39;49m\u001b[39mM:\u001b[39;49m\u001b[39m%\u001b[39;49m\u001b[39mS\u001b[39;49m\u001b[39m'\u001b[39;49m)\u001b[39m.\u001b[39myear,\n\u001b[1;32m     20\u001b[0m                     \u001b[39m'\u001b[39m\u001b[39mdescription\u001b[39m\u001b[39m'\u001b[39m : user\u001b[39m.\u001b[39mdata\u001b[39m.\u001b[39mdescription,\n\u001b[1;32m     21\u001b[0m                     \u001b[39m'\u001b[39m\u001b[39mlocation\u001b[39m\u001b[39m'\u001b[39m : user\u001b[39m.\u001b[39mdata\u001b[39m.\u001b[39mlocation,\n\u001b[1;32m     22\u001b[0m                     \u001b[39m'\u001b[39m\u001b[39mprofile_image_url\u001b[39m\u001b[39m'\u001b[39m : user\u001b[39m.\u001b[39mdata\u001b[39m.\u001b[39mprofile_image_url,\n\u001b[1;32m     23\u001b[0m                     \u001b[39m'\u001b[39m\u001b[39mprotected\u001b[39m\u001b[39m'\u001b[39m : user\u001b[39m.\u001b[39mdata\u001b[39m.\u001b[39mprotected,\n\u001b[1;32m     24\u001b[0m                     \u001b[39m'\u001b[39m\u001b[39mfollowers_count\u001b[39m\u001b[39m'\u001b[39m : user\u001b[39m.\u001b[39mdata\u001b[39m.\u001b[39mpublic_metrics[\u001b[39m\"\u001b[39m\u001b[39mfollowers_count\u001b[39m\u001b[39m\"\u001b[39m],\n\u001b[1;32m     25\u001b[0m                     \u001b[39m'\u001b[39m\u001b[39mfollowing_count\u001b[39m\u001b[39m'\u001b[39m : user\u001b[39m.\u001b[39mdata\u001b[39m.\u001b[39mpublic_metrics[\u001b[39m\"\u001b[39m\u001b[39mfollowing_count\u001b[39m\u001b[39m\"\u001b[39m],\n\u001b[1;32m     26\u001b[0m                     \u001b[39m'\u001b[39m\u001b[39mtweet_count\u001b[39m\u001b[39m'\u001b[39m : user\u001b[39m.\u001b[39mdata\u001b[39m.\u001b[39mpublic_metrics[\u001b[39m\"\u001b[39m\u001b[39mtweet_count\u001b[39m\u001b[39m\"\u001b[39m],\n\u001b[1;32m     27\u001b[0m                      \u001b[39m'\u001b[39m\u001b[39mlisted_count\u001b[39m\u001b[39m'\u001b[39m : user\u001b[39m.\u001b[39mdata\u001b[39m.\u001b[39mpublic_metrics[\u001b[39m\"\u001b[39m\u001b[39mlisted_count\u001b[39m\u001b[39m\"\u001b[39m],\n\u001b[1;32m     28\u001b[0m                     \u001b[39m'\u001b[39m\u001b[39mverified\u001b[39m\u001b[39m'\u001b[39m : user\u001b[39m.\u001b[39mdata\u001b[39m.\u001b[39mverified,\n\u001b[1;32m     29\u001b[0m                     \u001b[39m'\u001b[39m\u001b[39mverified_type\u001b[39m\u001b[39m'\u001b[39m : user\u001b[39m.\u001b[39mdata\u001b[39m.\u001b[39mverified_type,\n\u001b[1;32m     30\u001b[0m                        \u001b[39m'\u001b[39m\u001b[39mwithheld\u001b[39m\u001b[39m'\u001b[39m : user\u001b[39m.\u001b[39mdata\u001b[39m.\u001b[39mwithheld,\n\u001b[1;32m     31\u001b[0m                        \u001b[39m'\u001b[39m\u001b[39mpinned_tweet_id\u001b[39m\u001b[39m'\u001b[39m:user\u001b[39m.\u001b[39mdata\u001b[39m.\u001b[39mpinned_tweet_id\n\u001b[1;32m     32\u001b[0m                 }\n\u001b[1;32m     33\u001b[0m \u001b[39mprint\u001b[39m(profile_data)\n",
      "File \u001b[0;32m/usr/lib/python3.8/_strptime.py:568\u001b[0m, in \u001b[0;36m_strptime_datetime\u001b[0;34m(cls, data_string, format)\u001b[0m\n\u001b[1;32m    565\u001b[0m \u001b[39mdef\u001b[39;00m \u001b[39m_strptime_datetime\u001b[39m(\u001b[39mcls\u001b[39m, data_string, \u001b[39mformat\u001b[39m\u001b[39m=\u001b[39m\u001b[39m\"\u001b[39m\u001b[39m%a\u001b[39;00m\u001b[39m \u001b[39m\u001b[39m%\u001b[39m\u001b[39mb \u001b[39m\u001b[39m%d\u001b[39;00m\u001b[39m \u001b[39m\u001b[39m%\u001b[39m\u001b[39mH:\u001b[39m\u001b[39m%\u001b[39m\u001b[39mM:\u001b[39m\u001b[39m%\u001b[39m\u001b[39mS \u001b[39m\u001b[39m%\u001b[39m\u001b[39mY\u001b[39m\u001b[39m\"\u001b[39m):\n\u001b[1;32m    566\u001b[0m \u001b[39m    \u001b[39m\u001b[39m\"\"\"Return a class cls instance based on the input string and the\u001b[39;00m\n\u001b[1;32m    567\u001b[0m \u001b[39m    format string.\"\"\"\u001b[39;00m\n\u001b[0;32m--> 568\u001b[0m     tt, fraction, gmtoff_fraction \u001b[39m=\u001b[39m _strptime(data_string, \u001b[39mformat\u001b[39;49m)\n\u001b[1;32m    569\u001b[0m     tzname, gmtoff \u001b[39m=\u001b[39m tt[\u001b[39m-\u001b[39m\u001b[39m2\u001b[39m:]\n\u001b[1;32m    570\u001b[0m     args \u001b[39m=\u001b[39m tt[:\u001b[39m6\u001b[39m] \u001b[39m+\u001b[39m (fraction,)\n",
      "File \u001b[0;32m/usr/lib/python3.8/_strptime.py:349\u001b[0m, in \u001b[0;36m_strptime\u001b[0;34m(data_string, format)\u001b[0m\n\u001b[1;32m    347\u001b[0m found \u001b[39m=\u001b[39m format_regex\u001b[39m.\u001b[39mmatch(data_string)\n\u001b[1;32m    348\u001b[0m \u001b[39mif\u001b[39;00m \u001b[39mnot\u001b[39;00m found:\n\u001b[0;32m--> 349\u001b[0m     \u001b[39mraise\u001b[39;00m \u001b[39mValueError\u001b[39;00m(\u001b[39m\"\u001b[39m\u001b[39mtime data \u001b[39m\u001b[39m%r\u001b[39;00m\u001b[39m does not match format \u001b[39m\u001b[39m%r\u001b[39;00m\u001b[39m\"\u001b[39m \u001b[39m%\u001b[39m\n\u001b[1;32m    350\u001b[0m                      (data_string, \u001b[39mformat\u001b[39m))\n\u001b[1;32m    351\u001b[0m \u001b[39mif\u001b[39;00m \u001b[39mlen\u001b[39m(data_string) \u001b[39m!=\u001b[39m found\u001b[39m.\u001b[39mend():\n\u001b[1;32m    352\u001b[0m     \u001b[39mraise\u001b[39;00m \u001b[39mValueError\u001b[39;00m(\u001b[39m\"\u001b[39m\u001b[39munconverted data remains: \u001b[39m\u001b[39m%s\u001b[39;00m\u001b[39m\"\u001b[39m \u001b[39m%\u001b[39m\n\u001b[1;32m    353\u001b[0m                       data_string[found\u001b[39m.\u001b[39mend():])\n",
      "\u001b[0;31mValueError\u001b[0m: time data 'None' does not match format '%Y-%m-%d %H:%M:%S'"
     ]
    }
   ],
   "source": [
    "import tweepy\n",
    "\n",
    "from datetime import datetime\n",
    "\n",
    "consumer_key= 'txGKpZibczbB3viciPGaIht1h'\n",
    "consumer_secret= 'LdBcAwDspNV2IoGdBrDC5wTiprqW4LiHPFTOWcq95a9FgkWc5M'\n",
    "access_token= '1622613622860967937-HtuI8jqgHy8P5fJgN1EKGLqqDqWCOw'\n",
    "access_token_secret= 'uEpId3rtrIdNZe9iylsohsu7xvoMHs8NHgfNOndfgh6Me'\n",
    "bearer_token=\"AAAAAAAAAAAAAAAAAAAAAJ%2BwlgEAAAAAApXZ%2BQkCOMMCUz8yA0Q2U7cIx4A%3D54C8m6MSpNmM1g4oeEH5ZpzknYFfJ4zYSWSaxVteTpfofyg5Ni\"\n",
    "client = tweepy.Client(bearer_token, wait_on_rate_limit=True)\n",
    "\n",
    "user = client.get_user(username=\"paty_castroo\",user_fields=[\"created_at\", \"description\",\"id\", \"location\", \"name\", \"pinned_tweet_id\", \"profile_image_url\", \"protected\", \"public_metrics\", \"url\", \"username\", \"verified\", \"verified_type\", \"withheld\"])\n",
    "\n",
    "profile_data =  {\n",
    "                    'name' : user.data.name,\n",
    "                    'id' : user.data.id,\n",
    "                    'username' : user.data.username,\n",
    "                    'created_at' : user.data.created_at,\n",
    "                    'created_at_year':datetime.strptime(str(user.data.created_at)[:19], '%Y-%m-%d %H:%M:%S').year,\n",
    "                    'description' : user.data.description,\n",
    "                    'location' : user.data.location,\n",
    "                    'profile_image_url' : user.data.profile_image_url,\n",
    "                    'protected' : user.data.protected,\n",
    "                    'followers_count' : user.data.public_metrics[\"followers_count\"],\n",
    "                    'following_count' : user.data.public_metrics[\"following_count\"],\n",
    "                    'tweet_count' : user.data.public_metrics[\"tweet_count\"],\n",
    "                     'listed_count' : user.data.public_metrics[\"listed_count\"],\n",
    "                    'verified' : user.data.verified,\n",
    "                    'verified_type' : user.data.verified_type,\n",
    "                       'withheld' : user.data.withheld,\n",
    "                       'pinned_tweet_id':user.data.pinned_tweet_id\n",
    "                }\n",
    "print(profile_data)\n",
    "\n",
    "\n"
   ]
  },
  {
   "attachments": {},
   "cell_type": "markdown",
   "metadata": {},
   "source": [
    "# scraping methode with selenium"
   ]
  },
  {
   "cell_type": "code",
   "execution_count": 6,
   "metadata": {},
   "outputs": [
    {
     "name": "stdout",
     "output_type": "stream",
     "text": [
      "Loading Page...\n",
      "wait script...\n",
      "get html\n",
      "{'@context': 'http://schema.org', '@type': 'ProfilePage', 'dateCreated': '2010-01-17T22:54:19.000Z', 'author': {'@type': 'Person', 'additionalName': 'CBirckner', 'description': 'Television producer. Emmy Award winner. Disney enthusiast. ZBB followers. Kitty crazy.', 'givenName': 'Carli Birckner', 'homeLocation': {'@type': 'Place', 'name': 'Baltimore, MD'}, 'identifier': '105916557', 'image': {'@type': 'ImageObject', 'contentUrl': 'https://pbs.twimg.com/profile_images/632916759557840896/35puTLF2_400x400.jpg', 'thumbnailUrl': 'https://pbs.twimg.com/profile_images/632916759557840896/35puTLF2_normal.jpg'}, 'interactionStatistic': [{'@type': 'InteractionCounter', 'interactionType': 'https://schema.org/FollowAction', 'name': 'Follows', 'userInteractionCount': 55}, {'@type': 'InteractionCounter', 'interactionType': 'https://schema.org/SubscribeAction', 'name': 'Friends', 'userInteractionCount': 131}, {'@type': 'InteractionCounter', 'interactionType': 'https://schema.org/WriteAction', 'name': 'Tweets', 'userInteractionCount': 270}], 'url': 'https://twitter.com/CBirckner'}, 'contentRating': ''}\n"
     ]
    }
   ],
   "source": [
    "from selenium import webdriver\n",
    "from webdriver_manager.chrome import ChromeDriverManager\n",
    "from selenium.webdriver.chrome.options import Options as ChromeOptions\n",
    "from fake_headers import Headers\n",
    "from selenium.webdriver.chrome.service import Service\n",
    "from bs4 import BeautifulSoup\n",
    "from selenium.webdriver.support.ui import WebDriverWait \n",
    "from selenium.webdriver.common.by import By\n",
    "from selenium.webdriver.support import expected_conditions as EC\n",
    "import json\n",
    "def set_properties(browser_option):\n",
    "            ua = Headers().generate()      #fake user agent\n",
    "            browser_option.add_argument('--headless')\n",
    "            browser_option.add_argument('--disable-extensions')\n",
    "            browser_option.add_argument('--incognito')\n",
    "            browser_option.add_argument('--disable-gpu')\n",
    "            browser_option.add_argument('--log-level=3')\n",
    "            browser_option.add_argument(f'user-agent={ua}')\n",
    "            browser_option.add_argument('--disable-notifications')\n",
    "            browser_option.add_argument('--disable-popup-blocking')\n",
    "\n",
    "            return browser_option\n",
    "browser_option = ChromeOptions()\n",
    "browser_option = set_properties(browser_option)\n",
    "driver = webdriver.Chrome(service=Service(ChromeDriverManager().install()),options=browser_option) #chromedriver's path in first argument\n",
    "print(\"Loading Page...\")\n",
    "driver.get(\"https://twitter.com/CBirckner\")\n",
    "print(\"wait script...\")\n",
    "WebDriverWait(driver,20).until(EC.presence_of_element_located((By.XPATH , \"//script[@data-testid='UserProfileSchema-test']\")))\n",
    "print(\"get html\")\n",
    "html1 = driver.execute_script(\"return document.documentElement.outerHTML\")\n",
    "# This will get the initial html - before javascript\n",
    "# html1 = driver.page_source\n",
    "\n",
    "# parse html content\n",
    "soup = BeautifulSoup(driver.page_source , 'html.parser')\n",
    "\n",
    "res=soup.find(\"head\").find('script', attrs={'data-testid': 'UserProfileSchema-test'})\n",
    "\n",
    "json_object = json.loads(res.contents[0])\n",
    "print(json_object)"
   ]
  },
  {
   "attachments": {},
   "cell_type": "markdown",
   "metadata": {},
   "source": [
    "# scraper methode with snscrape"
   ]
  },
  {
   "cell_type": "code",
   "execution_count": 66,
   "metadata": {},
   "outputs": [
    {
     "name": "stdout",
     "output_type": "stream",
     "text": [
      "<class 'snscrape.modules.twitter.User'>\n",
      "{'name': 'Carli Birckner', 'id': 105916557, 'username': 'CBirckner', 'created_at': datetime.datetime(2010, 1, 17, 22, 54, 19, tzinfo=datetime.timezone.utc), 'created_at_year': 2010, 'description': 'Television producer. Emmy Award winner. Disney enthusiast. ZBB followers. Kitty crazy.', 'location': 'Baltimore, MD', 'profile_image_url': 'https://pbs.twimg.com/profile_images/632916759557840896/35puTLF2_normal.jpg', 'protected': False, 'followers_count': 55, 'following_count': 131, 'tweet_count': 270, 'listed_count': 2, 'favourites_count': 1484, 'media_count': 2, 'verified': False}\n"
     ]
    }
   ],
   "source": [
    "import snscrape.modules.twitter as sntwitter\n",
    "data = sntwitter.TwitterUserScraper('CBirckner')._get_entity()\n",
    "print(type(data))\n",
    "\n",
    "profile_data =  {\n",
    "                    'name' : data.displayname,\n",
    "                    'id' : data.id,\n",
    "                    'username' : data.username,\n",
    "                    'created_at' : data.created,\n",
    "                    'created_at_year':datetime.strptime(str(data.created)[:19], '%Y-%m-%d %H:%M:%S').year,\n",
    "                    'description' : data.renderedDescription,\n",
    "                    'location' : data.location,\n",
    "                    'profile_image_url' : data.profileImageUrl,\n",
    "                    'protected' : data.protected,\n",
    "                    'followers_count' : data.followersCount,\n",
    "                    'following_count' : data.friendsCount,\n",
    "                    'tweet_count' :data.statusesCount,\n",
    "                    'listed_count' : data.listedCount,\n",
    "                     'favourites_count' :data.favouritesCount,\n",
    "                      'media_count' :data.mediaCount,\n",
    "                    'verified' :data.verified\n",
    "                }\n",
    "print(profile_data)\n",
    "\n",
    "\n"
   ]
  },
  {
   "cell_type": "code",
   "execution_count": null,
   "metadata": {},
   "outputs": [],
   "source": []
  }
 ],
 "metadata": {
  "kernelspec": {
   "display_name": "env",
   "language": "python",
   "name": "python3"
  },
  "language_info": {
   "codemirror_mode": {
    "name": "ipython",
    "version": 3
   },
   "file_extension": ".py",
   "mimetype": "text/x-python",
   "name": "python",
   "nbconvert_exporter": "python",
   "pygments_lexer": "ipython3",
   "version": "3.8.10"
  },
  "orig_nbformat": 4,
  "vscode": {
   "interpreter": {
    "hash": "19d2761fa1ea6cb7e49546003c2aca332118a5f9cc2218a9daa5172f81fee8a0"
   }
  }
 },
 "nbformat": 4,
 "nbformat_minor": 2
}
