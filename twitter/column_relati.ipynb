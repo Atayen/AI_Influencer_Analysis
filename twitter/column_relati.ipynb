{
 "cells": [
  {
   "cell_type": "code",
   "execution_count": 12,
   "metadata": {},
   "outputs": [],
   "source": [
    "import pandas as pd\n",
    "\n",
    "import numpy as np\n",
    "from datetime import datetime\n",
    "\n",
    "import requests"
   ]
  },
  {
   "cell_type": "code",
   "execution_count": 13,
   "metadata": {},
   "outputs": [],
   "source": [
    "data = pd.read_csv(\"./Data/datavf.csv\")\n",
    "# data=data.loc[:,['verified','statuses','location','date_joined','most_recent_post','following','followers','likes','lists','tweet_language','tweets_this_week','retweet_ratio','retweeted_count','URL works','userNameScore','avg_tweets_by_hour_of_day','avg_tweets_by_day_of_week','account_type']]\n",
    "\n"
   ]
  },
  {
   "cell_type": "code",
   "execution_count": null,
   "metadata": {},
   "outputs": [],
   "source": []
  },
  {
   "cell_type": "code",
   "execution_count": 14,
   "metadata": {},
   "outputs": [],
   "source": [
    "# data.rename(columns = {'retweet_ratio':'retweet'}, inplace = True)\n",
    "# data['retweet'] = data['retweet'].multiply(2)\n",
    "# data.to_csv('./Data/featuresfloatv3.csv', index=False)"
   ]
  },
  {
   "cell_type": "code",
   "execution_count": 15,
   "metadata": {},
   "outputs": [
    {
     "data": {
      "text/plain": [
       " 0    14148\n",
       " 1     7851\n",
       "-1        1\n",
       "Name: url, dtype: int64"
      ]
     },
     "execution_count": 15,
     "metadata": {},
     "output_type": "execute_result"
    }
   ],
   "source": [
    "data[\"url\"].value_counts(dropna=True)"
   ]
  },
  {
   "attachments": {},
   "cell_type": "markdown",
   "metadata": {},
   "source": [
    "crée une relation entre les annes de création (in years) et nombre de following"
   ]
  },
  {
   "cell_type": "code",
   "execution_count": 16,
   "metadata": {},
   "outputs": [
    {
     "data": {
      "text/plain": [
       " 1    21196\n",
       " 0      671\n",
       "-1      133\n",
       "Name: years_of_join, dtype: int64"
      ]
     },
     "execution_count": 16,
     "metadata": {},
     "output_type": "execute_result"
    }
   ],
   "source": [
    "from datetime import datetime\n",
    "currentYear = datetime.now().year\n",
    "\n",
    "data['years_of_join']=0\n",
    "data.loc[currentYear - data.date_joined==1,'years_of_join']=-1\n",
    "data.loc[(currentYear - data.date_joined>1) & (currentYear - data.date_joined<=5),'years_of_join']=0\n",
    "data.loc[currentYear - data.date_joined>5,'years_of_join']=1\n",
    "data[\"years_of_join\"].value_counts(dropna=True)\n"
   ]
  },
  {
   "attachments": {},
   "cell_type": "markdown",
   "metadata": {},
   "source": [
    "If a number is below the average, it means that it is lower than the typical or expected value of the data. \n",
    "\n",
    "Conversely, if a number is above the average, it means that it is higher than the typical or expected value of the data."
   ]
  },
  {
   "attachments": {},
   "cell_type": "markdown",
   "metadata": {},
   "source": [
    "the avarage of following that a humain account can have "
   ]
  },
  {
   "cell_type": "code",
   "execution_count": 17,
   "metadata": {},
   "outputs": [
    {
     "data": {
      "text/plain": [
       "years_of_join\n",
       "-1      78.923077\n",
       " 0     439.358382\n",
       " 1    4008.418252\n",
       "Name: following_avg, dtype: float64"
      ]
     },
     "execution_count": 17,
     "metadata": {},
     "output_type": "execute_result"
    }
   ],
   "source": [
    "following_years_avg = data[data['account_type'] == 1].groupby('years_of_join')['following'].mean()\n",
    "following_years_avg = following_years_avg.rename('following_avg')\n",
    "following_years_avg\n"
   ]
  },
  {
   "cell_type": "code",
   "execution_count": 18,
   "metadata": {},
   "outputs": [],
   "source": [
    "\n",
    "data=data.merge(following_years_avg, on='years_of_join')\n",
    "\n",
    "data['following/years']=data.following_avg-data.following\n",
    "# data.loc[data.followers==data.followers_avg,'followers/years']=0\n",
    "# data.loc[data.following>data.following_avg,'following/years']=-1"
   ]
  },
  {
   "cell_type": "code",
   "execution_count": 19,
   "metadata": {},
   "outputs": [
    {
     "data": {
      "text/html": [
       "<div>\n",
       "<style scoped>\n",
       "    .dataframe tbody tr th:only-of-type {\n",
       "        vertical-align: middle;\n",
       "    }\n",
       "\n",
       "    .dataframe tbody tr th {\n",
       "        vertical-align: top;\n",
       "    }\n",
       "\n",
       "    .dataframe thead th {\n",
       "        text-align: right;\n",
       "    }\n",
       "</style>\n",
       "<table border=\"1\" class=\"dataframe\">\n",
       "  <thead>\n",
       "    <tr style=\"text-align: right;\">\n",
       "      <th></th>\n",
       "      <th>verified</th>\n",
       "      <th>statuses</th>\n",
       "      <th>location</th>\n",
       "      <th>date_joined</th>\n",
       "      <th>most_recent_post</th>\n",
       "      <th>following</th>\n",
       "      <th>followers</th>\n",
       "      <th>favourites</th>\n",
       "      <th>lists</th>\n",
       "      <th>tweet_language</th>\n",
       "      <th>...</th>\n",
       "      <th>retweeted_count</th>\n",
       "      <th>url</th>\n",
       "      <th>userNameScore</th>\n",
       "      <th>avg_tweets_by_hour_of_day</th>\n",
       "      <th>avg_tweets_by_day_of_week</th>\n",
       "      <th>screen_name</th>\n",
       "      <th>account_type</th>\n",
       "      <th>years_of_join</th>\n",
       "      <th>following_avg</th>\n",
       "      <th>following/years</th>\n",
       "    </tr>\n",
       "  </thead>\n",
       "  <tbody>\n",
       "    <tr>\n",
       "      <th>0</th>\n",
       "      <td>0</td>\n",
       "      <td>270</td>\n",
       "      <td>1</td>\n",
       "      <td>2010</td>\n",
       "      <td>2022</td>\n",
       "      <td>131.0</td>\n",
       "      <td>55.0</td>\n",
       "      <td>1484</td>\n",
       "      <td>2</td>\n",
       "      <td>1</td>\n",
       "      <td>...</td>\n",
       "      <td>103418.0</td>\n",
       "      <td>0</td>\n",
       "      <td>0.642857</td>\n",
       "      <td>2.000</td>\n",
       "      <td>6.857</td>\n",
       "      <td>CBirckner</td>\n",
       "      <td>1</td>\n",
       "      <td>1</td>\n",
       "      <td>4008.418252</td>\n",
       "      <td>3877.418252</td>\n",
       "    </tr>\n",
       "    <tr>\n",
       "      <th>1</th>\n",
       "      <td>0</td>\n",
       "      <td>14302</td>\n",
       "      <td>0</td>\n",
       "      <td>2012</td>\n",
       "      <td>2023</td>\n",
       "      <td>440.0</td>\n",
       "      <td>557.0</td>\n",
       "      <td>2958</td>\n",
       "      <td>2</td>\n",
       "      <td>1</td>\n",
       "      <td>...</td>\n",
       "      <td>867392.0</td>\n",
       "      <td>0</td>\n",
       "      <td>0.000000</td>\n",
       "      <td>8.083</td>\n",
       "      <td>27.714</td>\n",
       "      <td>amf_jay</td>\n",
       "      <td>1</td>\n",
       "      <td>1</td>\n",
       "      <td>4008.418252</td>\n",
       "      <td>3568.418252</td>\n",
       "    </tr>\n",
       "    <tr>\n",
       "      <th>2</th>\n",
       "      <td>0</td>\n",
       "      <td>4585</td>\n",
       "      <td>1</td>\n",
       "      <td>2009</td>\n",
       "      <td>2023</td>\n",
       "      <td>288.0</td>\n",
       "      <td>111.0</td>\n",
       "      <td>7983</td>\n",
       "      <td>3</td>\n",
       "      <td>1</td>\n",
       "      <td>...</td>\n",
       "      <td>2996382.0</td>\n",
       "      <td>0</td>\n",
       "      <td>0.909091</td>\n",
       "      <td>8.167</td>\n",
       "      <td>28.000</td>\n",
       "      <td>SaraCavolo</td>\n",
       "      <td>1</td>\n",
       "      <td>1</td>\n",
       "      <td>4008.418252</td>\n",
       "      <td>3720.418252</td>\n",
       "    </tr>\n",
       "    <tr>\n",
       "      <th>3</th>\n",
       "      <td>1</td>\n",
       "      <td>15851</td>\n",
       "      <td>1</td>\n",
       "      <td>2010</td>\n",
       "      <td>2022</td>\n",
       "      <td>39.0</td>\n",
       "      <td>71644.0</td>\n",
       "      <td>20105</td>\n",
       "      <td>172</td>\n",
       "      <td>2</td>\n",
       "      <td>...</td>\n",
       "      <td>66477.0</td>\n",
       "      <td>1</td>\n",
       "      <td>0.600000</td>\n",
       "      <td>8.333</td>\n",
       "      <td>28.571</td>\n",
       "      <td>DavidHenaoModel</td>\n",
       "      <td>1</td>\n",
       "      <td>1</td>\n",
       "      <td>4008.418252</td>\n",
       "      <td>3969.418252</td>\n",
       "    </tr>\n",
       "    <tr>\n",
       "      <th>4</th>\n",
       "      <td>0</td>\n",
       "      <td>115</td>\n",
       "      <td>0</td>\n",
       "      <td>2016</td>\n",
       "      <td>2017</td>\n",
       "      <td>0.0</td>\n",
       "      <td>0.0</td>\n",
       "      <td>47</td>\n",
       "      <td>0</td>\n",
       "      <td>1</td>\n",
       "      <td>...</td>\n",
       "      <td>236220.0</td>\n",
       "      <td>0</td>\n",
       "      <td>0.785714</td>\n",
       "      <td>4.167</td>\n",
       "      <td>14.286</td>\n",
       "      <td>taina_griffith</td>\n",
       "      <td>1</td>\n",
       "      <td>1</td>\n",
       "      <td>4008.418252</td>\n",
       "      <td>4008.418252</td>\n",
       "    </tr>\n",
       "    <tr>\n",
       "      <th>...</th>\n",
       "      <td>...</td>\n",
       "      <td>...</td>\n",
       "      <td>...</td>\n",
       "      <td>...</td>\n",
       "      <td>...</td>\n",
       "      <td>...</td>\n",
       "      <td>...</td>\n",
       "      <td>...</td>\n",
       "      <td>...</td>\n",
       "      <td>...</td>\n",
       "      <td>...</td>\n",
       "      <td>...</td>\n",
       "      <td>...</td>\n",
       "      <td>...</td>\n",
       "      <td>...</td>\n",
       "      <td>...</td>\n",
       "      <td>...</td>\n",
       "      <td>...</td>\n",
       "      <td>...</td>\n",
       "      <td>...</td>\n",
       "      <td>...</td>\n",
       "    </tr>\n",
       "    <tr>\n",
       "      <th>21995</th>\n",
       "      <td>0</td>\n",
       "      <td>1</td>\n",
       "      <td>0</td>\n",
       "      <td>2022</td>\n",
       "      <td>2022</td>\n",
       "      <td>44.0</td>\n",
       "      <td>1.0</td>\n",
       "      <td>102</td>\n",
       "      <td>0</td>\n",
       "      <td>32</td>\n",
       "      <td>...</td>\n",
       "      <td>0.0</td>\n",
       "      <td>0</td>\n",
       "      <td>0.411765</td>\n",
       "      <td>0.042</td>\n",
       "      <td>0.143</td>\n",
       "      <td>HeldenG</td>\n",
       "      <td>0</td>\n",
       "      <td>-1</td>\n",
       "      <td>78.923077</td>\n",
       "      <td>34.923077</td>\n",
       "    </tr>\n",
       "    <tr>\n",
       "      <th>21996</th>\n",
       "      <td>0</td>\n",
       "      <td>2</td>\n",
       "      <td>0</td>\n",
       "      <td>2022</td>\n",
       "      <td>2022</td>\n",
       "      <td>8.0</td>\n",
       "      <td>1.0</td>\n",
       "      <td>1</td>\n",
       "      <td>0</td>\n",
       "      <td>7</td>\n",
       "      <td>...</td>\n",
       "      <td>5346.0</td>\n",
       "      <td>1</td>\n",
       "      <td>1.000000</td>\n",
       "      <td>0.083</td>\n",
       "      <td>0.286</td>\n",
       "      <td>AlHilalcom</td>\n",
       "      <td>0</td>\n",
       "      <td>-1</td>\n",
       "      <td>78.923077</td>\n",
       "      <td>70.923077</td>\n",
       "    </tr>\n",
       "    <tr>\n",
       "      <th>21997</th>\n",
       "      <td>0</td>\n",
       "      <td>0</td>\n",
       "      <td>0</td>\n",
       "      <td>2022</td>\n",
       "      <td>0</td>\n",
       "      <td>427.0</td>\n",
       "      <td>0.0</td>\n",
       "      <td>0</td>\n",
       "      <td>0</td>\n",
       "      <td>0</td>\n",
       "      <td>...</td>\n",
       "      <td>0.0</td>\n",
       "      <td>0</td>\n",
       "      <td>0.176471</td>\n",
       "      <td>0.000</td>\n",
       "      <td>0.000</td>\n",
       "      <td>NewbieHome</td>\n",
       "      <td>0</td>\n",
       "      <td>-1</td>\n",
       "      <td>78.923077</td>\n",
       "      <td>-348.076923</td>\n",
       "    </tr>\n",
       "    <tr>\n",
       "      <th>21998</th>\n",
       "      <td>0</td>\n",
       "      <td>726</td>\n",
       "      <td>1</td>\n",
       "      <td>2022</td>\n",
       "      <td>2022</td>\n",
       "      <td>1.0</td>\n",
       "      <td>32.0</td>\n",
       "      <td>0</td>\n",
       "      <td>0</td>\n",
       "      <td>10</td>\n",
       "      <td>...</td>\n",
       "      <td>26.0</td>\n",
       "      <td>1</td>\n",
       "      <td>0.478261</td>\n",
       "      <td>8.333</td>\n",
       "      <td>28.571</td>\n",
       "      <td>Contexto_Tuc</td>\n",
       "      <td>0</td>\n",
       "      <td>-1</td>\n",
       "      <td>78.923077</td>\n",
       "      <td>77.923077</td>\n",
       "    </tr>\n",
       "    <tr>\n",
       "      <th>21999</th>\n",
       "      <td>0</td>\n",
       "      <td>0</td>\n",
       "      <td>0</td>\n",
       "      <td>2022</td>\n",
       "      <td>0</td>\n",
       "      <td>0.0</td>\n",
       "      <td>0.0</td>\n",
       "      <td>0</td>\n",
       "      <td>0</td>\n",
       "      <td>0</td>\n",
       "      <td>...</td>\n",
       "      <td>0.0</td>\n",
       "      <td>0</td>\n",
       "      <td>0.066667</td>\n",
       "      <td>0.000</td>\n",
       "      <td>0.000</td>\n",
       "      <td>MarcePCsolution</td>\n",
       "      <td>0</td>\n",
       "      <td>-1</td>\n",
       "      <td>78.923077</td>\n",
       "      <td>78.923077</td>\n",
       "    </tr>\n",
       "  </tbody>\n",
       "</table>\n",
       "<p>22000 rows × 22 columns</p>\n",
       "</div>"
      ],
      "text/plain": [
       "       verified  statuses  location  date_joined  most_recent_post  following  \\\n",
       "0             0       270         1         2010              2022      131.0   \n",
       "1             0     14302         0         2012              2023      440.0   \n",
       "2             0      4585         1         2009              2023      288.0   \n",
       "3             1     15851         1         2010              2022       39.0   \n",
       "4             0       115         0         2016              2017        0.0   \n",
       "...         ...       ...       ...          ...               ...        ...   \n",
       "21995         0         1         0         2022              2022       44.0   \n",
       "21996         0         2         0         2022              2022        8.0   \n",
       "21997         0         0         0         2022                 0      427.0   \n",
       "21998         0       726         1         2022              2022        1.0   \n",
       "21999         0         0         0         2022                 0        0.0   \n",
       "\n",
       "       followers  favourites  lists  tweet_language  ...  retweeted_count  \\\n",
       "0           55.0        1484      2               1  ...         103418.0   \n",
       "1          557.0        2958      2               1  ...         867392.0   \n",
       "2          111.0        7983      3               1  ...        2996382.0   \n",
       "3        71644.0       20105    172               2  ...          66477.0   \n",
       "4            0.0          47      0               1  ...         236220.0   \n",
       "...          ...         ...    ...             ...  ...              ...   \n",
       "21995        1.0         102      0              32  ...              0.0   \n",
       "21996        1.0           1      0               7  ...           5346.0   \n",
       "21997        0.0           0      0               0  ...              0.0   \n",
       "21998       32.0           0      0              10  ...             26.0   \n",
       "21999        0.0           0      0               0  ...              0.0   \n",
       "\n",
       "       url  userNameScore  avg_tweets_by_hour_of_day  \\\n",
       "0        0       0.642857                      2.000   \n",
       "1        0       0.000000                      8.083   \n",
       "2        0       0.909091                      8.167   \n",
       "3        1       0.600000                      8.333   \n",
       "4        0       0.785714                      4.167   \n",
       "...    ...            ...                        ...   \n",
       "21995    0       0.411765                      0.042   \n",
       "21996    1       1.000000                      0.083   \n",
       "21997    0       0.176471                      0.000   \n",
       "21998    1       0.478261                      8.333   \n",
       "21999    0       0.066667                      0.000   \n",
       "\n",
       "       avg_tweets_by_day_of_week      screen_name  account_type years_of_join  \\\n",
       "0                          6.857        CBirckner             1             1   \n",
       "1                         27.714          amf_jay             1             1   \n",
       "2                         28.000       SaraCavolo             1             1   \n",
       "3                         28.571  DavidHenaoModel             1             1   \n",
       "4                         14.286   taina_griffith             1             1   \n",
       "...                          ...              ...           ...           ...   \n",
       "21995                      0.143          HeldenG             0            -1   \n",
       "21996                      0.286       AlHilalcom             0            -1   \n",
       "21997                      0.000       NewbieHome             0            -1   \n",
       "21998                     28.571     Contexto_Tuc             0            -1   \n",
       "21999                      0.000  MarcePCsolution             0            -1   \n",
       "\n",
       "       following_avg  following/years  \n",
       "0        4008.418252      3877.418252  \n",
       "1        4008.418252      3568.418252  \n",
       "2        4008.418252      3720.418252  \n",
       "3        4008.418252      3969.418252  \n",
       "4        4008.418252      4008.418252  \n",
       "...              ...              ...  \n",
       "21995      78.923077        34.923077  \n",
       "21996      78.923077        70.923077  \n",
       "21997      78.923077      -348.076923  \n",
       "21998      78.923077        77.923077  \n",
       "21999      78.923077        78.923077  \n",
       "\n",
       "[22000 rows x 22 columns]"
      ]
     },
     "execution_count": 19,
     "metadata": {},
     "output_type": "execute_result"
    }
   ],
   "source": [
    "data"
   ]
  },
  {
   "cell_type": "code",
   "execution_count": 20,
   "metadata": {},
   "outputs": [
    {
     "name": "stdout",
     "output_type": "stream",
     "text": [
      " 4008.418252     5277\n",
      " 4007.418252      175\n",
      " 4006.418252      107\n",
      " 439.358382       104\n",
      " 4005.418252       71\n",
      "                 ... \n",
      "-2580.581748        1\n",
      "-10634.581748       1\n",
      " 1816.418252        1\n",
      " 936.418252         1\n",
      "-348.076923         1\n",
      "Name: following/years, Length: 4221, dtype: int64\n"
     ]
    },
    {
     "data": {
      "text/plain": [
       "1    11000\n",
       "0    11000\n",
       "Name: account_type, dtype: int64"
      ]
     },
     "execution_count": 20,
     "metadata": {},
     "output_type": "execute_result"
    }
   ],
   "source": [
    "print(data[\"following/years\"].value_counts(dropna=True))\n",
    "data[\"account_type\"].value_counts(dropna=True)"
   ]
  },
  {
   "cell_type": "code",
   "execution_count": 21,
   "metadata": {},
   "outputs": [
    {
     "name": "stdout",
     "output_type": "stream",
     "text": [
      "       verified  statuses  location  date_joined  most_recent_post  following  \\\n",
      "0             0       270         1         2010              2022      131.0   \n",
      "1             0     14302         0         2012              2023      440.0   \n",
      "2             0      4585         1         2009              2023      288.0   \n",
      "3             1     15851         1         2010              2022       39.0   \n",
      "4             0       115         0         2016              2017        0.0   \n",
      "...         ...       ...       ...          ...               ...        ...   \n",
      "21995         0         1         0         2022              2022       44.0   \n",
      "21996         0         2         0         2022              2022        8.0   \n",
      "21997         0         0         0         2022                 0      427.0   \n",
      "21998         0       726         1         2022              2022        1.0   \n",
      "21999         0         0         0         2022                 0        0.0   \n",
      "\n",
      "       followers  favourites  lists  tweet_language  ...  retweeted_count  \\\n",
      "0           55.0        1484      2               1  ...         103418.0   \n",
      "1          557.0        2958      2               1  ...         867392.0   \n",
      "2          111.0        7983      3               1  ...        2996382.0   \n",
      "3        71644.0       20105    172               2  ...          66477.0   \n",
      "4            0.0          47      0               1  ...         236220.0   \n",
      "...          ...         ...    ...             ...  ...              ...   \n",
      "21995        1.0         102      0              32  ...              0.0   \n",
      "21996        1.0           1      0               7  ...           5346.0   \n",
      "21997        0.0           0      0               0  ...              0.0   \n",
      "21998       32.0           0      0              10  ...             26.0   \n",
      "21999        0.0           0      0               0  ...              0.0   \n",
      "\n",
      "       url  userNameScore  avg_tweets_by_hour_of_day  \\\n",
      "0        0       0.642857                      2.000   \n",
      "1        0       0.000000                      8.083   \n",
      "2        0       0.909091                      8.167   \n",
      "3        1       0.600000                      8.333   \n",
      "4        0       0.785714                      4.167   \n",
      "...    ...            ...                        ...   \n",
      "21995    0       0.411765                      0.042   \n",
      "21996    1       1.000000                      0.083   \n",
      "21997    0       0.176471                      0.000   \n",
      "21998    1       0.478261                      8.333   \n",
      "21999    0       0.066667                      0.000   \n",
      "\n",
      "       avg_tweets_by_day_of_week      screen_name  account_type years_of_join  \\\n",
      "0                          6.857        CBirckner             1             1   \n",
      "1                         27.714          amf_jay             1             1   \n",
      "2                         28.000       SaraCavolo             1             1   \n",
      "3                         28.571  DavidHenaoModel             1             1   \n",
      "4                         14.286   taina_griffith             1             1   \n",
      "...                          ...              ...           ...           ...   \n",
      "21995                      0.143          HeldenG             0            -1   \n",
      "21996                      0.286       AlHilalcom             0            -1   \n",
      "21997                      0.000       NewbieHome             0            -1   \n",
      "21998                     28.571     Contexto_Tuc             0            -1   \n",
      "21999                      0.000  MarcePCsolution             0            -1   \n",
      "\n",
      "       following_avg  following/years  \n",
      "0        4008.418252      3877.418252  \n",
      "1        4008.418252      3568.418252  \n",
      "2        4008.418252      3720.418252  \n",
      "3        4008.418252      3969.418252  \n",
      "4        4008.418252      4008.418252  \n",
      "...              ...              ...  \n",
      "21995      78.923077        34.923077  \n",
      "21996      78.923077        70.923077  \n",
      "21997      78.923077      -348.076923  \n",
      "21998      78.923077        77.923077  \n",
      "21999      78.923077        78.923077  \n",
      "\n",
      "[22000 rows x 22 columns]\n"
     ]
    }
   ],
   "source": [
    "print(data)"
   ]
  },
  {
   "cell_type": "code",
   "execution_count": 23,
   "metadata": {},
   "outputs": [],
   "source": []
  },
  {
   "cell_type": "code",
   "execution_count": 24,
   "metadata": {},
   "outputs": [],
   "source": []
  },
  {
   "attachments": {},
   "cell_type": "markdown",
   "metadata": {},
   "source": [
    "relation entre followers et years_of_last_post"
   ]
  },
  {
   "cell_type": "code",
   "execution_count": 25,
   "metadata": {},
   "outputs": [
    {
     "data": {
      "text/plain": [
       "-1    10254\n",
       " 1     8708\n",
       " 0     3038\n",
       "Name: years_of_last_post, dtype: int64"
      ]
     },
     "execution_count": 25,
     "metadata": {},
     "output_type": "execute_result"
    }
   ],
   "source": [
    "currentYear = datetime.now().year\n",
    "\n",
    "data['years_of_last_post']=0\n",
    "# 2023\n",
    "data.loc[currentYear - data.most_recent_post==0,'years_of_last_post']=1\n",
    "# 2022 2021\n",
    "data.loc[(currentYear - data.most_recent_post>0) & (currentYear - data.date_joined<=2),'years_of_last_post']=0\n",
    "# 2020 ....\n",
    "data.loc[currentYear - data.most_recent_post>2,'years_of_last_post']=-1\n",
    "data[\"years_of_last_post\"].value_counts(dropna=True)"
   ]
  },
  {
   "cell_type": "code",
   "execution_count": 26,
   "metadata": {},
   "outputs": [
    {
     "data": {
      "text/plain": [
       "years_of_last_post\n",
       "-1     66477.338872\n",
       " 0    412195.769784\n",
       " 1    781019.765866\n",
       "Name: followers_avg, dtype: float64"
      ]
     },
     "execution_count": 26,
     "metadata": {},
     "output_type": "execute_result"
    }
   ],
   "source": [
    "followers_years_avg = data[data['account_type'] == 1].groupby('years_of_last_post')['followers'].mean()\n",
    "followers_years_avg = followers_years_avg.rename('followers_avg')\n",
    "followers_years_avg"
   ]
  },
  {
   "cell_type": "code",
   "execution_count": 27,
   "metadata": {},
   "outputs": [],
   "source": [
    "data=data.merge(followers_years_avg, on='years_of_last_post')\n",
    "\n",
    "data['followers/lastpost']=data.followers_avg-data.followers\n",
    "# data.loc[data.followers==data.followers_avg,'followers/years']=0\n",
    "# data.loc[data.followers>data.followers_avg,'followers/lastpost']=-1"
   ]
  },
  {
   "cell_type": "code",
   "execution_count": 28,
   "metadata": {},
   "outputs": [
    {
     "name": "stdout",
     "output_type": "stream",
     "text": [
      " 6.647734e+04    1033\n",
      " 6.647634e+04     544\n",
      " 6.647534e+04     383\n",
      " 6.647334e+04     314\n",
      " 6.647434e+04     312\n",
      "                 ... \n",
      " 7.652768e+05       1\n",
      "-9.127522e+05       1\n",
      " 6.746478e+05       1\n",
      "-3.863841e+06       1\n",
      " 6.578534e+04       1\n",
      "Name: followers/lastpost, Length: 8835, dtype: int64\n"
     ]
    },
    {
     "data": {
      "text/plain": [
       "1    11000\n",
       "0    11000\n",
       "Name: account_type, dtype: int64"
      ]
     },
     "execution_count": 28,
     "metadata": {},
     "output_type": "execute_result"
    }
   ],
   "source": [
    "print(data[\"followers/lastpost\"].value_counts(dropna=True))\n",
    "data[\"account_type\"].value_counts(dropna=True)"
   ]
  },
  {
   "cell_type": "code",
   "execution_count": 30,
   "metadata": {},
   "outputs": [],
   "source": [
    "data =data.drop(['years_of_last_post'\t,'followers_avg'], axis=1)\n",
    "data.to_csv(\"./Data/datavf.csv\")"
   ]
  }
 ],
 "metadata": {
  "kernelspec": {
   "display_name": "venv",
   "language": "python",
   "name": "python3"
  },
  "language_info": {
   "codemirror_mode": {
    "name": "ipython",
    "version": 3
   },
   "file_extension": ".py",
   "mimetype": "text/x-python",
   "name": "python",
   "nbconvert_exporter": "python",
   "pygments_lexer": "ipython3",
   "version": "3.10.6"
  },
  "orig_nbformat": 4,
  "vscode": {
   "interpreter": {
    "hash": "0b269af9bc916de9a69a9129747e30eb936050c74c311d5baf33ccd4b86d3e37"
   }
  }
 },
 "nbformat": 4,
 "nbformat_minor": 2
}
