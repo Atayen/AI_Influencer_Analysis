{
 "cells": [
  {
   "cell_type": "code",
   "execution_count": 3,
   "metadata": {},
   "outputs": [],
   "source": [
    "\n",
    "import numpy as np # linear algebra\n",
    "import pandas as pd # data processing, CSV file I/O (e.g. pd.read_csv)\n",
    "from sklearn.model_selection import train_test_split\n",
    "from sklearn.ensemble import RandomForestClassifier\n",
    "from sklearn.model_selection import RandomizedSearchCV, GridSearchCV\n",
    "from sklearn import metrics\n",
    "\n",
    "data = pd.read_csv('./Data/featuresfloatv3.csv')\n",
    "# x=data.loc[:,['statuses' , 'date_joined' , 'most_recent_post' , 'following' , 'followers' , 'likes', 'retweet' , 'retweeted_count'  ,'avg_tweets_by_hour_of_day', 'avg_tweets_by_day_of_week']]\n",
    "x=data.iloc[:, :-1]\n",
    "y = data.account_type.values.tolist()\n",
    "x_train, x_test, y_train, y_test = train_test_split(x, y, test_size=0.2, random_state=42,stratify=y)"
   ]
  },
  {
   "attachments": {},
   "cell_type": "markdown",
   "metadata": {},
   "source": [
    "# RandomizedSearchCV"
   ]
  },
  {
   "cell_type": "code",
   "execution_count": 4,
   "metadata": {},
   "outputs": [
    {
     "data": {
      "text/plain": [
       "{'bootstrap': True,\n",
       " 'ccp_alpha': 0.0,\n",
       " 'class_weight': None,\n",
       " 'criterion': 'gini',\n",
       " 'max_depth': None,\n",
       " 'max_features': 'sqrt',\n",
       " 'max_leaf_nodes': None,\n",
       " 'max_samples': None,\n",
       " 'min_impurity_decrease': 0.0,\n",
       " 'min_samples_leaf': 1,\n",
       " 'min_samples_split': 2,\n",
       " 'min_weight_fraction_leaf': 0.0,\n",
       " 'n_estimators': 100,\n",
       " 'n_jobs': None,\n",
       " 'oob_score': False,\n",
       " 'random_state': None,\n",
       " 'verbose': 0,\n",
       " 'warm_start': False}"
      ]
     },
     "execution_count": 4,
     "metadata": {},
     "output_type": "execute_result"
    }
   ],
   "source": [
    "RandomForestClassifier().get_params()"
   ]
  },
  {
   "attachments": {},
   "cell_type": "markdown",
   "metadata": {},
   "source": [
    "Specify the range of values for some important hyperparameters"
   ]
  },
  {
   "cell_type": "code",
   "execution_count": 6,
   "metadata": {},
   "outputs": [
    {
     "name": "stdout",
     "output_type": "stream",
     "text": [
      "Number of combinations =  1600\n"
     ]
    },
    {
     "data": {
      "text/plain": [
       "{'n_estimators': [10, 60, 110, 160, 210],\n",
       " 'criterion': ['gini', 'entropy'],\n",
       " 'max_depth': [5, 15, 25, 35, None],\n",
       " 'min_samples_split': [0.005, 0.015, 0.025, 0.035],\n",
       " 'min_samples_leaf': [0.005, 0.015, 0.025, 0.035],\n",
       " 'max_features': ['sqrt', 'log2']}"
      ]
     },
     "execution_count": 6,
     "metadata": {},
     "output_type": "execute_result"
    }
   ],
   "source": [
    "n_estimators_list = list(range(10,220,50))\n",
    "criterion_list = ['gini', 'entropy']\n",
    "max_depth_list = list(range(5,41,10))\n",
    "max_depth_list.append(None)\n",
    "min_samples_split_list = [x/1000 for x in list(range(5, 41, 10))]\n",
    "min_samples_leaf_list = [x/1000 for x in list(range(5, 41, 10))]\n",
    "max_features_list = ['sqrt', 'log2']\n",
    "params_grid = {\n",
    "    'n_estimators': n_estimators_list,\n",
    "    'criterion': criterion_list,\n",
    "    'max_depth': max_depth_list,\n",
    "    'min_samples_split': min_samples_split_list,\n",
    "    'min_samples_leaf': min_samples_leaf_list,\n",
    "    'max_features': max_features_list\n",
    "}\n",
    "\n",
    "num_combinations = 1\n",
    "for k in params_grid.keys(): num_combinations *= len(params_grid[k])\n",
    "\n",
    "print('Number of combinations = ', num_combinations)\n",
    "params_grid"
   ]
  },
  {
   "cell_type": "code",
   "execution_count": null,
   "metadata": {},
   "outputs": [],
   "source": [
    "def my_roc_auc_score(model, x, y): return metrics.roc_auc_score(y, model.predict(x))\n",
    "\n",
    "model_rf = RandomizedSearchCV(estimator=RandomForestClassifier(class_weight='balanced'),\n",
    "                              param_distributions=params_grid,\n",
    "                              n_iter=50,\n",
    "                              cv=3,\n",
    "                              scoring=my_roc_auc_score,\n",
    "                              return_train_score=True,\n",
    "                              verbose=2)\n",
    "\n",
    "model_rf.fit(x,y)"
   ]
  }
 ],
 "metadata": {
  "kernelspec": {
   "display_name": "venv",
   "language": "python",
   "name": "python3"
  },
  "language_info": {
   "codemirror_mode": {
    "name": "ipython",
    "version": 3
   },
   "file_extension": ".py",
   "mimetype": "text/x-python",
   "name": "python",
   "nbconvert_exporter": "python",
   "pygments_lexer": "ipython3",
   "version": "3.10.6"
  },
  "orig_nbformat": 4,
  "vscode": {
   "interpreter": {
    "hash": "0b269af9bc916de9a69a9129747e30eb936050c74c311d5baf33ccd4b86d3e37"
   }
  }
 },
 "nbformat": 4,
 "nbformat_minor": 2
}
