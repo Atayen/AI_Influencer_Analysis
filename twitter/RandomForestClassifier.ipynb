{
 "cells": [
  {
   "attachments": {},
   "cell_type": "markdown",
   "metadata": {},
   "source": [
    "# import"
   ]
  },
  {
   "cell_type": "code",
   "execution_count": 31,
   "metadata": {},
   "outputs": [],
   "source": [
    "import numpy as np # linear algebra\n",
    "import pandas as pd # data processing, CSV file I/O (e.g. pd.read_csv)\n",
    "from sklearn.model_selection import train_test_split\n",
    "from sklearn.ensemble import RandomForestClassifier\n",
    "import gender_guesser.detector as gender\n",
    "import matplotlib.pyplot as plt \n",
    "from datetime import datetime\n",
    "from sklearn import metrics\n",
    "import seaborn as sns\n",
    "import matplotlib.pyplot as plt\n",
    "from sklearn.metrics import classification_report\n",
    "from imblearn.over_sampling import SMOTE\n",
    "from sklearn.pipeline import Pipeline"
   ]
  },
  {
   "cell_type": "code",
   "execution_count": 32,
   "metadata": {},
   "outputs": [],
   "source": [
    "def predict_sex(name):\n",
    "    name=str(name).split(' ')[0]\n",
    "    sex_prediction = gender.Detector(case_sensitive=False)\n",
    "    sex=sex_prediction.get_gender(name)\n",
    "    sex_dic={'female':2,\"male\":1,'unknown':0,'mostly_female':-2 ,'mostly_male':-1,'andy':-3}\n",
    "    return sex_dic[sex]\n",
    "\n",
    "def creation_year(year):\n",
    "    try:\n",
    "        dt = datetime.strptime(str(year), '%Y-%m-%d %H:%M:%S')\n",
    "        return dt.year\n",
    "    except:\n",
    "        return 0\n",
    "\n",
    "def set_sex_code(x):\n",
    "    x.loc[:,'sex_code']=predict_sex(x['name'])\n",
    "\n"
   ]
  },
  {
   "attachments": {},
   "cell_type": "markdown",
   "metadata": {},
   "source": [
    "\n",
    "# result"
   ]
  },
  {
   "attachments": {},
   "cell_type": "markdown",
   "metadata": {},
   "source": [
    "all the data"
   ]
  },
  {
   "cell_type": "code",
   "execution_count": 33,
   "metadata": {},
   "outputs": [
    {
     "name": "stdout",
     "output_type": "stream",
     "text": [
      "Accuracy: 89.98%\n",
      "\n",
      " Training Accuracy score: 0.9999632825408482\n",
      "Testing Accuracy score: 0.8998384491114702\n",
      "classification_report \n",
      "               precision    recall  f1-score   support\n",
      "\n",
      "           0       0.89      0.81      0.85      2309\n",
      "           1       0.91      0.95      0.93      4500\n",
      "\n",
      "    accuracy                           0.90      6809\n",
      "   macro avg       0.90      0.88      0.89      6809\n",
      "weighted avg       0.90      0.90      0.90      6809\n",
      "\n"
     ]
    },
    {
     "data": {
      "image/png": "[encoded data removed]",
      "text/plain": [
       "<Figure size 640x480 with 2 Axes>"
      ]
     },
     "metadata": {},
     "output_type": "display_data"
    }
   ],
   "source": [
    "import numpy as np # linear algebra\n",
    "import pandas as pd # data processing, CSV file I/O (e.g. pd.read_csv)\n",
    "from sklearn.model_selection import train_test_split\n",
    "from sklearn.ensemble import RandomForestClassifier\n",
    "import gender_guesser.detector as gender\n",
    "\n",
    "import matplotlib.pyplot as plt \n",
    "from datetime import datetime\n",
    "from sklearn import metrics\n",
    "import seaborn as sns\n",
    "import matplotlib.pyplot as plt\n",
    "from sklearn.metrics import classification_report\n",
    "from imblearn.under_sampling import TomekLinks\n",
    "df = pd.read_csv('./Data/data+descvf.csv')\n",
    "# tl = TomekLinks()\n",
    "x=df.iloc[:, :-3]\n",
    "y = df.account_type.values.tolist()\n",
    "# x, y = tl.fit_resample(x, y)\n",
    "\n",
    "x_train, x_test, y_train, y_test = train_test_split(x, y, test_size=0.2, random_state=42,stratify=y)\n",
    "\n",
    "clf=RandomForestClassifier()\n",
    "clf.fit(x_train,y_train)\n",
    "score = clf.score(x_test, y_test)\n",
    "print(\"Accuracy: %.2f%%\" % (score * 100))\n",
    "y_pred_train = clf.predict(x_train)\n",
    "y_pred_test = clf.predict(x_test)\n",
    "print(\"\\n Training Accuracy score:\",metrics.accuracy_score(y_train, y_pred_train))\n",
    "print(\"Testing Accuracy score:\",metrics.accuracy_score(y_test, y_pred_test))\n",
    "print(\"classification_report \\n \"+classification_report(y_test, y_pred_test))\n",
    "cm = metrics.confusion_matrix(y_test, y_pred_test)\n",
    "# print('Confusion matrix\\n', cm)\n",
    "\n",
    "cm_matrixNB = pd.DataFrame(data=cm, )\n",
    "sns.heatmap(cm_matrixNB, annot=True, fmt='d', cmap='YlGnBu')\n",
    "plt.show()\n",
    "   "
   ]
  },
  {
   "attachments": {},
   "cell_type": "markdown",
   "metadata": {},
   "source": [
    "random undersampling  + Standardizing"
   ]
  },
  {
   "cell_type": "code",
   "execution_count": 34,
   "metadata": {},
   "outputs": [],
   "source": [
    "# from sklearn.pipeline import Pipeline\n",
    "# from sklearn.preprocessing import StandardScaler\n",
    "# from sklearn.decomposition import PCA\n",
    "# from sklearn.ensemble import RandomForestClassifier\n",
    "# df = pd.read_csv('./Data/datavf.csv')\n",
    "\n",
    "# x=df.iloc[:, :-2]\n",
    "# y = df.account_type.values.tolist()\n",
    "# x_train, x_test, y_train, y_test = train_test_split(x, y, test_size=0.2, random_state=42,stratify=y)\n",
    "# pipeline = Pipeline([\n",
    "#     ('scaler', StandardScaler()), # Standardizing the data\n",
    "#     ('pca', PCA()), # Transforming the data with PCA\n",
    "#     ('rf', RandomForestClassifier()) # Training a random forest classifier on the data\n",
    "# ])\n",
    "\n",
    "# # Train the pipeline on the data\n",
    "# pipeline.fit(x_train, y_train)\n",
    "\n",
    "# score = pipeline.score(x_test, y_test)\n",
    "# print(\"Accuracy: %.2f%%\" % (score * 100))\n",
    "# y_pred_train = pipeline.predict(x_train)\n",
    "# y_pred_test = pipeline.predict(x_test)\n",
    "# print(\"\\n Training Accuracy score:\",metrics.accuracy_score(y_train, y_pred_train))\n",
    "# print(\"Testing Accuracy score:\",metrics.accuracy_score(y_test, y_pred_test))\n",
    "# print(\"classification_report \\n \"+classification_report(y_test, y_pred_test))\n",
    "# cm = metrics.confusion_matrix(y_test, y_pred_test)\n",
    "# # print('Confusion matrix\\n', cm)\n",
    "\n",
    "# cm_matrixNB = pd.DataFrame(data=cm, )\n",
    "# sns.heatmap(cm_matrixNB, annot=True, fmt='d', cmap='YlGnBu')\n",
    "# plt.show()"
   ]
  },
  {
   "attachments": {},
   "cell_type": "markdown",
   "metadata": {},
   "source": [
    "random undersampling "
   ]
  },
  {
   "cell_type": "code",
   "execution_count": 35,
   "metadata": {},
   "outputs": [],
   "source": [
    "# from sklearn.pipeline import Pipeline\n",
    "# from sklearn.preprocessing import StandardScaler\n",
    "# from sklearn.decomposition import PCA\n",
    "# from sklearn.ensemble import RandomForestClassifier\n",
    "# df = pd.read_csv('./Data/datavf.csv')\n",
    "\n",
    "# x=df.iloc[:, :-2]\n",
    "# y = df.account_type.values.tolist()\n",
    "# x_train, x_test, y_train, y_test = train_test_split(x, y, test_size=0.2, random_state=42,stratify=y)\n",
    "# pipeline = Pipeline([\n",
    "#     ('rf', RandomForestClassifier()) # Training a random forest classifier on the data\n",
    "# ])\n",
    "\n",
    "# # Train the pipeline on the data\n",
    "# pipeline.fit(x_train, y_train)\n",
    "\n",
    "# score = pipeline.score(x_test, y_test)\n",
    "# print(\"Accuracy: %.2f%%\" % (score * 100))\n",
    "# y_pred_train = pipeline.predict(x_train)\n",
    "# y_pred_test = pipeline.predict(x_test)\n",
    "# print(\"\\n Training Accuracy score:\",metrics.accuracy_score(y_train, y_pred_train))\n",
    "# print(\"Testing Accuracy score:\",metrics.accuracy_score(y_test, y_pred_test))\n",
    "# print(\"classification_report \\n \"+classification_report(y_test, y_pred_test))\n",
    "# cm = metrics.confusion_matrix(y_test, y_pred_test)\n",
    "# # print('Confusion matrix\\n', cm)\n",
    "\n",
    "# cm_matrixNB = pd.DataFrame(data=cm, )\n",
    "# sns.heatmap(cm_matrixNB, annot=True, fmt='d', cmap='YlGnBu')\n",
    "# plt.show()\n"
   ]
  },
  {
   "attachments": {},
   "cell_type": "markdown",
   "metadata": {},
   "source": [
    "TomekLinks undersimpling "
   ]
  },
  {
   "cell_type": "code",
   "execution_count": 36,
   "metadata": {},
   "outputs": [
    {
     "name": "stdout",
     "output_type": "stream",
     "text": [
      "1    20727\n",
      "0    11543\n",
      "dtype: int64\n",
      "Accuracy: 90.44%\n",
      "\n",
      " Training Accuracy score: 0.9999225286643941\n",
      "Testing Accuracy score: 0.904400371862411\n",
      "classification_report \n",
      "               precision    recall  f1-score   support\n",
      "\n",
      "           0       0.90      0.83      0.86      2309\n",
      "           1       0.91      0.95      0.93      4145\n",
      "\n",
      "    accuracy                           0.90      6454\n",
      "   macro avg       0.90      0.89      0.89      6454\n",
      "weighted avg       0.90      0.90      0.90      6454\n",
      "\n"
     ]
    },
    {
     "data": {
      "image/png": "[encoded data removed]",
      "text/plain": [
       "<Figure size 640x480 with 2 Axes>"
      ]
     },
     "metadata": {},
     "output_type": "display_data"
    }
   ],
   "source": [
    "import numpy as np # linear algebra\n",
    "import pandas as pd # data processing, CSV file I/O (e.g. pd.read_csv)\n",
    "from sklearn.model_selection import train_test_split\n",
    "from sklearn.ensemble import RandomForestClassifier\n",
    "import gender_guesser.detector as gender\n",
    "\n",
    "import matplotlib.pyplot as plt \n",
    "from datetime import datetime\n",
    "from sklearn import metrics\n",
    "import seaborn as sns\n",
    "import matplotlib.pyplot as plt\n",
    "from sklearn.metrics import classification_report\n",
    "from imblearn.under_sampling import TomekLinks\n",
    "df = pd.read_csv('./Data/data+descvf.csv')\n",
    "tl = TomekLinks()\n",
    "x=df.iloc[:, :-3]\n",
    "y = df.account_type.values.tolist()\n",
    "\n",
    "x, y = tl.fit_resample(x, y)\n",
    "my_series = pd.Series(y)\n",
    "value_counts = my_series.value_counts()\n",
    "print(value_counts)\n",
    "\n",
    "x_train, x_test, y_train, y_test = train_test_split(x, y, test_size=0.2, random_state=42,stratify=y)\n",
    "\n",
    "clf=RandomForestClassifier()\n",
    "clf.fit(x_train,y_train)\n",
    "score = clf.score(x_test, y_test)\n",
    "print(\"Accuracy: %.2f%%\" % (score * 100))\n",
    "y_pred_train = clf.predict(x_train)\n",
    "y_pred_test = clf.predict(x_test)\n",
    "print(\"\\n Training Accuracy score:\",metrics.accuracy_score(y_train, y_pred_train))\n",
    "print(\"Testing Accuracy score:\",metrics.accuracy_score(y_test, y_pred_test))\n",
    "print(\"classification_report \\n \"+classification_report(y_test, y_pred_test))\n",
    "cm = metrics.confusion_matrix(y_test, y_pred_test)\n",
    "# print('Confusion matrix\\n', cm)\n",
    "\n",
    "cm_matrixNB = pd.DataFrame(data=cm, )\n",
    "sns.heatmap(cm_matrixNB, annot=True, fmt='d', cmap='YlGnBu')\n",
    "plt.show()"
   ]
  },
  {
   "cell_type": "code",
   "execution_count": 37,
   "metadata": {},
   "outputs": [
    {
     "name": "stdout",
     "output_type": "stream",
     "text": [
      "Accuracy: 88.44%\n",
      "\n",
      " Training Accuracy score: 0.9998917045700672\n",
      "Testing Accuracy score: 0.884365526201819\n",
      "classification_report \n",
      "               precision    recall  f1-score   support\n",
      "\n",
      "           0       0.89      0.87      0.88      2309\n",
      "           1       0.88      0.90      0.89      2309\n",
      "\n",
      "    accuracy                           0.88      4618\n",
      "   macro avg       0.88      0.88      0.88      4618\n",
      "weighted avg       0.88      0.88      0.88      4618\n",
      "\n"
     ]
    },
    {
     "data": {
      "image/png": "[encoded data removed]",
      "text/plain": [
       "<Figure size 640x480 with 2 Axes>"
      ]
     },
     "metadata": {},
     "output_type": "display_data"
    }
   ],
   "source": [
    "# import numpy as np # linear algebra\n",
    "# import pandas as pd # data processing, CSV file I/O (e.g. pd.read_csv)\n",
    "# from sklearn.model_selection import train_test_split\n",
    "# from sklearn.ensemble import RandomForestClassifier\n",
    "# import gender_guesser.detector as gender\n",
    "\n",
    "# import matplotlib.pyplot as plt \n",
    "# from datetime import datetime\n",
    "# from sklearn import metrics\n",
    "# import seaborn as sns\n",
    "# import matplotlib.pyplot as plt\n",
    "# from sklearn.metrics import classification_report\n",
    "# from imblearn.under_sampling import TomekLinks\n",
    "# df = pd.read_csv('./Data/data+descvf.csv')\n",
    "# tl = TomekLinks()\n",
    "# x=df.iloc[:, :-3]\n",
    "# y = df.account_type.values.tolist()\n",
    "\n",
    "# x, y = tl.fit_resample(x, y)\n",
    "# # Convert the list to a DataFrame\n",
    "# y = pd.DataFrame({'account_type': y})\n",
    "\n",
    "# # Concatenate the two DataFrames\n",
    "# data = pd.concat([x, y], axis=1)\n",
    "# df1=data[data.account_type== 1].head(11543)\n",
    "# df2=data[data.account_type== 0].head(11543)\n",
    "# df = pd.concat([df1, df2], ignore_index=True)\n",
    "# x=df.iloc[:, :-3]\n",
    "# y = df.account_type.values.tolist()\n",
    "# x_train, x_test, y_train, y_test = train_test_split(x, y, test_size=0.2, random_state=42,stratify=y)\n",
    "\n",
    "# clf=RandomForestClassifier()\n",
    "# clf.fit(x_train,y_train)\n",
    "# score = clf.score(x_test, y_test)\n",
    "# print(\"Accuracy: %.2f%%\" % (score * 100))\n",
    "# y_pred_train = clf.predict(x_train)\n",
    "# y_pred_test = clf.predict(x_test)\n",
    "# print(\"\\n Training Accuracy score:\",metrics.accuracy_score(y_train, y_pred_train))\n",
    "# print(\"Testing Accuracy score:\",metrics.accuracy_score(y_test, y_pred_test))\n",
    "# print(\"classification_report \\n \"+classification_report(y_test, y_pred_test))\n",
    "# cm = metrics.confusion_matrix(y_test, y_pred_test)\n",
    "# # print('Confusion matrix\\n', cm)\n",
    "\n",
    "# cm_matrixNB = pd.DataFrame(data=cm, )\n",
    "# sns.heatmap(cm_matrixNB, annot=True, fmt='d', cmap='YlGnBu')\n",
    "# plt.show()"
   ]
  },
  {
   "attachments": {},
   "cell_type": "markdown",
   "metadata": {},
   "source": [
    "oversampling"
   ]
  },
  {
   "cell_type": "code",
   "execution_count": 38,
   "metadata": {},
   "outputs": [
    {
     "name": "stdout",
     "output_type": "stream",
     "text": [
      "Accuracy: 90.85%\n",
      "\n",
      " Training Accuracy score: 0.9998888919752229\n",
      "Testing Accuracy score: 0.9084546161537607\n",
      "classification_report \n",
      "               precision    recall  f1-score   support\n",
      "\n",
      "           0       0.92      0.90      0.91      4501\n",
      "           1       0.90      0.92      0.91      4500\n",
      "\n",
      "    accuracy                           0.91      9001\n",
      "   macro avg       0.91      0.91      0.91      9001\n",
      "weighted avg       0.91      0.91      0.91      9001\n",
      "\n"
     ]
    },
    {
     "data": {
      "image/png": "[encoded data removed]",
      "text/plain": [
       "<Figure size 640x480 with 2 Axes>"
      ]
     },
     "metadata": {},
     "output_type": "display_data"
    }
   ],
   "source": [
    "\n",
    "import numpy as np # linear algebra\n",
    "import pandas as pd # data processing, CSV file I/O (e.g. pd.read_csv)\n",
    "from sklearn.model_selection import train_test_split\n",
    "from sklearn.ensemble import RandomForestClassifier\n",
    "import gender_guesser.detector as gender\n",
    "import matplotlib.pyplot as plt \n",
    "from datetime import datetime\n",
    "from sklearn import metrics\n",
    "import seaborn as sns\n",
    "import matplotlib.pyplot as plt\n",
    "from sklearn.metrics import classification_report\n",
    "from imblearn.over_sampling import SMOTE\n",
    "df = pd.read_csv('./Data/data+descvf.csv')\n",
    "\n",
    "smote = SMOTE(random_state=10)\n",
    "x=df.iloc[:, :-3]\n",
    "y = df.account_type.values.tolist()\n",
    "x, y =smote.fit_resample(x, y)\n",
    "\n",
    "x_train, x_test, y_train, y_test = train_test_split(x, y, test_size=0.2, random_state=42,stratify=y)\n",
    "\n",
    "\n",
    "clf=RandomForestClassifier()\n",
    "clf.fit(x_train,y_train)\n",
    "score = clf.score(x_test, y_test)\n",
    "print(\"Accuracy: %.2f%%\" % (score * 100))\n",
    "y_pred_train = clf.predict(x_train)\n",
    "y_pred_test = clf.predict(x_test)\n",
    "print(\"\\n Training Accuracy score:\",metrics.accuracy_score(y_train, y_pred_train))\n",
    "print(\"Testing Accuracy score:\",metrics.accuracy_score(y_test, y_pred_test))\n",
    "print(\"classification_report \\n \"+classification_report(y_test, y_pred_test))\n",
    "cm = metrics.confusion_matrix(y_test, y_pred_test)\n",
    "# print('Confusion matrix\\n', cm)\n",
    "\n",
    "cm_matrixNB = pd.DataFrame(data=cm, )\n",
    "sns.heatmap(cm_matrixNB, annot=True, fmt='d', cmap='YlGnBu')\n",
    "plt.show()"
   ]
  },
  {
   "attachments": {},
   "cell_type": "markdown",
   "metadata": {},
   "source": [
    "# with column relation"
   ]
  },
  {
   "attachments": {},
   "cell_type": "markdown",
   "metadata": {},
   "source": [
    "-oversimpling"
   ]
  },
  {
   "cell_type": "code",
   "execution_count": 39,
   "metadata": {},
   "outputs": [
    {
     "name": "stdout",
     "output_type": "stream",
     "text": [
      "Accuracy: 90.49%\n",
      "\n",
      " Training Accuracy score: 0.9999444459876115\n",
      "Testing Accuracy score: 0.9048994556160427\n",
      "classification_report \n",
      "               precision    recall  f1-score   support\n",
      "\n",
      "           0       0.91      0.90      0.90      4501\n",
      "           1       0.90      0.91      0.91      4500\n",
      "\n",
      "    accuracy                           0.90      9001\n",
      "   macro avg       0.90      0.90      0.90      9001\n",
      "weighted avg       0.90      0.90      0.90      9001\n",
      "\n"
     ]
    },
    {
     "data": {
      "image/png": "[encoded data removed]",
      "text/plain": [
       "<Figure size 640x480 with 2 Axes>"
      ]
     },
     "metadata": {},
     "output_type": "display_data"
    }
   ],
   "source": [
    "\n",
    "import numpy as np # linear algebra\n",
    "import pandas as pd # data processing, CSV file I/O (e.g. pd.read_csv)\n",
    "from sklearn.model_selection import train_test_split\n",
    "from sklearn.ensemble import RandomForestClassifier\n",
    "import gender_guesser.detector as gender\n",
    "import matplotlib.pyplot as plt \n",
    "from datetime import datetime\n",
    "from sklearn import metrics\n",
    "import seaborn as sns\n",
    "import matplotlib.pyplot as plt\n",
    "from sklearn.metrics import classification_report\n",
    "from imblearn.over_sampling import SMOTE\n",
    "from sklearn.pipeline import Pipeline\n",
    "df = pd.read_csv('./Data/data+column_relation.csv')\n",
    "\n",
    "x=df.iloc[:, :-3]\n",
    "y = df.account_type.values.tolist()\n",
    "smote = SMOTE(random_state=10)\n",
    "x, y =smote.fit_resample(x, y)\n",
    "x_train, x_test, y_train, y_test = train_test_split(x, y, test_size=0.2, random_state=42,stratify=y)\n",
    "pipeline = Pipeline([\n",
    "    ('rf', RandomForestClassifier()) # Training a random forest classifier on the data\n",
    "])\n",
    "\n",
    "# Train the pipeline on the data\n",
    "pipeline.fit(x_train, y_train)\n",
    "# feat_importances = pd.Series(pipeline['rf'].feature_importances_, index=x.columns)\n",
    "# feat_importances.nlargest(20).plot(kind='barh')\n",
    "# plt.show()\n",
    "score = pipeline.score(x_test, y_test)\n",
    "print(\"Accuracy: %.2f%%\" % (score * 100))\n",
    "y_pred_train = pipeline.predict(x_train)\n",
    "y_pred_test = pipeline.predict(x_test)\n",
    "print(\"\\n Training Accuracy score:\",metrics.accuracy_score(y_train, y_pred_train))\n",
    "print(\"Testing Accuracy score:\",metrics.accuracy_score(y_test, y_pred_test))\n",
    "print(\"classification_report \\n \"+classification_report(y_test, y_pred_test))\n",
    "cm = metrics.confusion_matrix(y_test, y_pred_test)\n",
    "# print('Confusion matrix\\n', cm)\n",
    "\n",
    "cm_matrixNB = pd.DataFrame(data=cm, )\n",
    "sns.heatmap(cm_matrixNB, annot=True, fmt='d', cmap='YlGnBu')\n",
    "plt.show()"
   ]
  },
  {
   "attachments": {},
   "cell_type": "markdown",
   "metadata": {},
   "source": [
    "-random undersimpling"
   ]
  },
  {
   "cell_type": "code",
   "execution_count": 40,
   "metadata": {},
   "outputs": [],
   "source": [
    "\n",
    "# import numpy as np # linear algebra\n",
    "# import pandas as pd # data processing, CSV file I/O (e.g. pd.read_csv)\n",
    "# from sklearn.model_selection import train_test_split\n",
    "# from sklearn.ensemble import RandomForestClassifier\n",
    "# import gender_guesser.detector as gender\n",
    "# import matplotlib.pyplot as plt \n",
    "# from datetime import datetime\n",
    "# from sklearn import metrics\n",
    "# import seaborn as sns\n",
    "# import matplotlib.pyplot as plt\n",
    "# from sklearn.metrics import classification_report\n",
    "# from imblearn.over_sampling import SMOTE\n",
    "# data1 = pd.read_csv('./Data/data+column_relation.csv')\n",
    "# data1=data1.drop(labels=['Unnamed: 0'],axis=1)\n",
    "# df1=data1[data1.account_type== 1].head(11000)\n",
    "# df2=data1[data1.account_type== 0].head(11000)\n",
    "# df = pd.concat([df1, df2], ignore_index=True)\n",
    "# x=df.iloc[:, :-3]\n",
    "# y = df.account_type.values.tolist()\n",
    "# x_train, x_test, y_train, y_test = train_test_split(x, y, test_size=0.2, random_state=42,stratify=y)\n",
    "# pipeline = Pipeline([\n",
    "#     ('rf', RandomForestClassifier()) # Training a random forest classifier on the data\n",
    "# ])\n",
    "# # Train the pipeline on the data\n",
    "# pipeline.fit(x_train, y_train)\n",
    "# score = pipeline.score(x_test, y_test)\n",
    "# print(\"Accuracy: %.2f%%\" % (score * 100))\n",
    "# y_pred_train = pipeline.predict(x_train)\n",
    "# y_pred_test = pipeline.predict(x_test)\n",
    "# print(\"\\n Training Accuracy score:\",metrics.accuracy_score(y_train, y_pred_train))\n",
    "# print(\"Testing Accuracy score:\",metrics.accuracy_score(y_test, y_pred_test))\n",
    "# print(\"classification_report \\n \"+classification_report(y_test, y_pred_test))\n",
    "# cm = metrics.confusion_matrix(y_test, y_pred_test)\n",
    "# # print('Confusion matrix\\n', cm)\n",
    "\n",
    "# cm_matrixNB = pd.DataFrame(data=cm, )\n",
    "# sns.heatmap(cm_matrixNB, annot=True, fmt='d', cmap='YlGnBu')\n",
    "# plt.show()"
   ]
  },
  {
   "attachments": {},
   "cell_type": "markdown",
   "metadata": {},
   "source": [
    "tomklink undersimpling"
   ]
  },
  {
   "cell_type": "code",
   "execution_count": 41,
   "metadata": {},
   "outputs": [
    {
     "name": "stdout",
     "output_type": "stream",
     "text": [
      "Accuracy: 90.09%\n",
      "\n",
      " Training Accuracy score: 0.9998446058816673\n",
      "Testing Accuracy score: 0.9008701056556868\n",
      "classification_report \n",
      "               precision    recall  f1-score   support\n",
      "\n",
      "           0       0.89      0.82      0.86      2309\n",
      "           1       0.91      0.94      0.92      4127\n",
      "\n",
      "    accuracy                           0.90      6436\n",
      "   macro avg       0.90      0.88      0.89      6436\n",
      "weighted avg       0.90      0.90      0.90      6436\n",
      "\n"
     ]
    },
    {
     "data": {
      "image/png": "[encoded data removed]",
      "text/plain": [
       "<Figure size 640x480 with 2 Axes>"
      ]
     },
     "metadata": {},
     "output_type": "display_data"
    }
   ],
   "source": [
    "import numpy as np # linear algebra\n",
    "import pandas as pd # data processing, CSV file I/O (e.g. pd.read_csv)\n",
    "from sklearn.model_selection import train_test_split\n",
    "from sklearn.ensemble import RandomForestClassifier\n",
    "import gender_guesser.detector as gender\n",
    "\n",
    "import matplotlib.pyplot as plt \n",
    "from datetime import datetime\n",
    "from sklearn import metrics\n",
    "import seaborn as sns\n",
    "import matplotlib.pyplot as plt\n",
    "from sklearn.metrics import classification_report\n",
    "from imblearn.under_sampling import TomekLinks\n",
    "df = pd.read_csv('./Data/data+column_relation.csv')\n",
    "\n",
    "tl = TomekLinks()\n",
    "x=df.iloc[:, :-3]\n",
    "y = df.account_type.values.tolist()\n",
    "x, y = tl.fit_resample(x, y)\n",
    "\n",
    "x_train, x_test, y_train, y_test = train_test_split(x, y, test_size=0.2, random_state=42,stratify=y)\n",
    "\n",
    "clf=RandomForestClassifier()\n",
    "clf.fit(x_train,y_train)\n",
    "score = clf.score(x_test, y_test)\n",
    "print(\"Accuracy: %.2f%%\" % (score * 100))\n",
    "y_pred_train = clf.predict(x_train)\n",
    "y_pred_test = clf.predict(x_test)\n",
    "print(\"\\n Training Accuracy score:\",metrics.accuracy_score(y_train, y_pred_train))\n",
    "print(\"Testing Accuracy score:\",metrics.accuracy_score(y_test, y_pred_test))\n",
    "print(\"classification_report \\n \"+classification_report(y_test, y_pred_test))\n",
    "cm = metrics.confusion_matrix(y_test, y_pred_test)\n",
    "# print('Confusion matrix\\n', cm)\n",
    "\n",
    "cm_matrixNB = pd.DataFrame(data=cm, )\n",
    "sns.heatmap(cm_matrixNB, annot=True, fmt='d', cmap='YlGnBu')\n",
    "plt.show()\n",
    "   "
   ]
  },
  {
   "attachments": {},
   "cell_type": "markdown",
   "metadata": {},
   "source": [
    "# with features selection"
   ]
  },
  {
   "cell_type": "code",
   "execution_count": 42,
   "metadata": {},
   "outputs": [],
   "source": [
    "import numpy as np # linear algebra\n",
    "import pandas as pd # data processing, CSV file I/O (e.g. pd.read_csv)\n",
    "from sklearn.model_selection import train_test_split\n",
    "from sklearn.ensemble import RandomForestClassifier\n",
    "import gender_guesser.detector as gender\n",
    "import matplotlib.pyplot as plt \n",
    "from datetime import datetime\n",
    "from sklearn import metrics\n",
    "import seaborn as sns\n",
    "import matplotlib.pyplot as plt\n",
    "from sklearn.metrics import classification_report\n",
    "from imblearn.over_sampling import SMOTE\n",
    "data1 = pd.read_csv('./Data/data+column_relation.csv')\n",
    "data1=data1.loc[:,[ 'statuses', 'date_joined',\n",
    "       'most_recent_post', 'following', 'followers',  'favourites', 'lists',\n",
    "          'tweets_this_week','retweet', 'retweeted_count',\n",
    "        'userNameScore', \n",
    "       'avg_tweets_by_day_of_week', \n",
    "       'engagment_rate', 'description', 'screen_name', 'account_type']]\n",
    "\n",
    "# followers/lastpost - followers :negative \n",
    "# engagment rate - followers :positive \n",
    "# following - following/years:negative\n",
    "# followers/lastpost - engagment rate : negative \n",
    "# tweet by houre -tweet by day : positive \n",
    "\n",
    "\n",
    "# 'verified', 'statuses', 'location', 'date_joined',\n",
    "#        'most_recent_post', 'following', 'followers', 'favourites', 'lists',\n",
    "#        'tweet_language', 'tweets_this_week', 'retweet', 'retweeted_count',\n",
    "#        'url', 'userNameScore', 'avg_tweets_by_hour_of_day',\n",
    "#        'avg_tweets_by_day_of_week', 'following/years', 'followers/lastpost',\n",
    "#        'engagment_rate', 'description', 'screen_name', 'account_type'\n",
    "\n",
    "# df=df.loc[:,['verified', 'statuses', 'location', 'date_joined',\n",
    "#        'most_recent_post', 'following', 'followers', 'favourites', 'lists',\n",
    "#        'tweet_language', 'tweets_this_week', 'retweet', 'retweeted_count',\n",
    "#        'url', 'userNameScore', 'avg_tweets_by_hour_of_day',\n",
    "#        'avg_tweets_by_day_of_week','description','screen_name','account_type']]\n",
    "\n"
   ]
  },
  {
   "attachments": {},
   "cell_type": "markdown",
   "metadata": {},
   "source": [
    "# the best"
   ]
  },
  {
   "attachments": {},
   "cell_type": "markdown",
   "metadata": {},
   "source": [
    "- random undersimpling "
   ]
  },
  {
   "cell_type": "code",
   "execution_count": 43,
   "metadata": {},
   "outputs": [],
   "source": [
    "# df1=data1[data1.account_type== 1].head(11000)\n",
    "# df2=data1[data1.account_type== 0].head(11000)\n",
    "# df = pd.concat([df1, df2], ignore_index=True)\n",
    "# x=df.iloc[:, :-3]\n",
    "# y = df.account_type.values.tolist()\n",
    "\n",
    "# x_train, x_test, y_train, y_test = train_test_split(x, y, test_size=0.2, random_state=42,stratify=y)\n",
    "# pipeline = Pipeline([\n",
    "#     ('rf', RandomForestClassifier()) # Training a random forest classifier on the data\n",
    "# ])\n",
    "\n",
    "# # Train the pipeline on the data\n",
    "# pipeline.fit(x_train, y_train)\n",
    "\n",
    "# score = pipeline.score(x_test, y_test)\n",
    "# print(\"Accuracy: %.2f%%\" % (score * 100))\n",
    "# y_pred_train = pipeline.predict(x_train)\n",
    "# y_pred_test = pipeline.predict(x_test)\n",
    "# print(\"\\n Training Accuracy score:\",metrics.accuracy_score(y_train, y_pred_train))\n",
    "# print(\"Testing Accuracy score:\",metrics.accuracy_score(y_test, y_pred_test))\n",
    "# print(\"classification_report \\n \"+classification_report(y_test, y_pred_test))\n",
    "# cm = metrics.confusion_matrix(y_test, y_pred_test)\n",
    "# # print('Confusion matrix\\n', cm)\n",
    "\n",
    "# cm_matrixNB = pd.DataFrame(data=cm, )\n",
    "# sns.heatmap(cm_matrixNB, annot=True, fmt='d', cmap='YlGnBu')\n",
    "# plt.show()"
   ]
  },
  {
   "attachments": {},
   "cell_type": "markdown",
   "metadata": {},
   "source": [
    "- oversimpling"
   ]
  },
  {
   "cell_type": "code",
   "execution_count": 44,
   "metadata": {},
   "outputs": [
    {
     "name": "stdout",
     "output_type": "stream",
     "text": [
      "Accuracy: 90.83%\n",
      "\n",
      " Training Accuracy score: 0.9999444459876115\n",
      "Testing Accuracy score: 0.908343517386957\n",
      "classification_report \n",
      "               precision    recall  f1-score   support\n",
      "\n",
      "           0       0.92      0.90      0.91      4501\n",
      "           1       0.90      0.92      0.91      4500\n",
      "\n",
      "    accuracy                           0.91      9001\n",
      "   macro avg       0.91      0.91      0.91      9001\n",
      "weighted avg       0.91      0.91      0.91      9001\n",
      "\n"
     ]
    },
    {
     "data": {
      "image/png": "[encoded data removed]",
      "text/plain": [
       "<Figure size 640x480 with 2 Axes>"
      ]
     },
     "metadata": {},
     "output_type": "display_data"
    }
   ],
   "source": [
    "from imblearn.over_sampling import SMOTE\n",
    "df=data1\n",
    "x=df.iloc[:, :-3]\n",
    "y = df.account_type.values.tolist()\n",
    "\n",
    "smote = SMOTE(random_state=10)\n",
    "x, y =smote.fit_resample(x, y)\n",
    "x_train, x_test, y_train, y_test = train_test_split(x, y, test_size=0.2, random_state=42,stratify=y)\n",
    "pipeline = Pipeline([\n",
    "    ('rf', RandomForestClassifier()) # Training a random forest classifier on the data\n",
    "])\n",
    "\n",
    "# Train the pipeline on the data\n",
    "pipeline.fit(x_train, y_train)\n",
    "score = pipeline.score(x_test, y_test)\n",
    "print(\"Accuracy: %.2f%%\" % (score * 100))\n",
    "y_pred_train = pipeline.predict(x_train)\n",
    "y_pred_test = pipeline.predict(x_test)\n",
    "print(\"\\n Training Accuracy score:\",metrics.accuracy_score(y_train, y_pred_train))\n",
    "print(\"Testing Accuracy score:\",metrics.accuracy_score(y_test, y_pred_test))\n",
    "print(\"classification_report \\n \"+classification_report(y_test, y_pred_test))\n",
    "cm = metrics.confusion_matrix(y_test, y_pred_test)\n",
    "# print('Confusion matrix\\n', cm)\n",
    "cm_matrixNB = pd.DataFrame(data=cm, )\n",
    "sns.heatmap(cm_matrixNB, annot=True, fmt='d', cmap='YlGnBu')\n",
    "plt.show()"
   ]
  },
  {
   "attachments": {},
   "cell_type": "markdown",
   "metadata": {},
   "source": [
    "tomklink undersimpling"
   ]
  },
  {
   "cell_type": "code",
   "execution_count": 45,
   "metadata": {},
   "outputs": [
    {
     "name": "stdout",
     "output_type": "stream",
     "text": [
      "Accuracy: 89.42%\n",
      "\n",
      " Training Accuracy score: 0.9999219603558608\n",
      "Testing Accuracy score: 0.8941947565543071\n",
      "classification_report \n",
      "               precision    recall  f1-score   support\n",
      "\n",
      "           0       0.88      0.81      0.85      2309\n",
      "           1       0.90      0.94      0.92      4099\n",
      "\n",
      "    accuracy                           0.89      6408\n",
      "   macro avg       0.89      0.88      0.88      6408\n",
      "weighted avg       0.89      0.89      0.89      6408\n",
      "\n"
     ]
    },
    {
     "data": {
      "image/png": "[encoded data removed]",
      "text/plain": [
       "<Figure size 640x480 with 2 Axes>"
      ]
     },
     "metadata": {},
     "output_type": "display_data"
    }
   ],
   "source": [
    "import numpy as np # linear algebra\n",
    "import pandas as pd # data processing, CSV file I/O (e.g. pd.read_csv)\n",
    "from sklearn.model_selection import train_test_split\n",
    "from sklearn.ensemble import RandomForestClassifier\n",
    "import gender_guesser.detector as gender\n",
    "\n",
    "import matplotlib.pyplot as plt \n",
    "from datetime import datetime\n",
    "from sklearn import metrics\n",
    "import seaborn as sns\n",
    "import matplotlib.pyplot as plt\n",
    "from sklearn.metrics import classification_report\n",
    "from imblearn.under_sampling import TomekLinks\n",
    "df=data1\n",
    "x=df.iloc[:, :-3]\n",
    "y = df.account_type.values.tolist()\n",
    "tl = TomekLinks()\n",
    "x, y = tl.fit_resample(x, y)\n",
    "x_train, x_test, y_train, y_test = train_test_split(x, y, test_size=0.2, random_state=42,stratify=y)\n",
    "clf=RandomForestClassifier()\n",
    "clf.fit(x_train,y_train)\n",
    "score = clf.score(x_test, y_test)\n",
    "print(\"Accuracy: %.2f%%\" % (score * 100))\n",
    "y_pred_train = clf.predict(x_train)\n",
    "y_pred_test = clf.predict(x_test)\n",
    "print(\"\\n Training Accuracy score:\",metrics.accuracy_score(y_train, y_pred_train))\n",
    "print(\"Testing Accuracy score:\",metrics.accuracy_score(y_test, y_pred_test))\n",
    "print(\"classification_report \\n \"+classification_report(y_test, y_pred_test))\n",
    "cm = metrics.confusion_matrix(y_test, y_pred_test)\n",
    "# print('Confusion matrix\\n', cm)\n",
    "\n",
    "cm_matrixNB = pd.DataFrame(data=cm, )\n",
    "sns.heatmap(cm_matrixNB, annot=True, fmt='d', cmap='YlGnBu')\n",
    "plt.show()\n",
    "   "
   ]
  },
  {
   "attachments": {},
   "cell_type": "markdown",
   "metadata": {},
   "source": [
    "#  cross validation"
   ]
  },
  {
   "attachments": {},
   "cell_type": "markdown",
   "metadata": {},
   "source": [
    "oversimpling"
   ]
  },
  {
   "cell_type": "code",
   "execution_count": 47,
   "metadata": {},
   "outputs": [
    {
     "name": "stdout",
     "output_type": "stream",
     "text": [
      "Average CV Score:  0.7295917465960572\n"
     ]
    }
   ],
   "source": [
    "import numpy as np # linear algebra\n",
    "import pandas as pd # data processing, CSV file I/O (e.g. pd.read_csv)\n",
    "from sklearn.model_selection import train_test_split\n",
    "from sklearn.ensemble import RandomForestClassifier\n",
    "import gender_guesser.detector as gender\n",
    "import matplotlib.pyplot as plt \n",
    "from datetime import datetime\n",
    "from sklearn import metrics\n",
    "import seaborn as sns\n",
    "import matplotlib.pyplot as plt\n",
    "from sklearn.metrics import classification_report\n",
    "from imblearn.over_sampling import SMOTE\n",
    "data1 = pd.read_csv('./Data/data+column_relation.csv')\n",
    "df=data1.loc[:,[ 'statuses', 'date_joined',\n",
    "       'most_recent_post', 'following', 'followers',  'favourites', 'lists',\n",
    "          'tweets_this_week','retweet', 'retweeted_count',\n",
    "        'userNameScore', \n",
    "       'avg_tweets_by_day_of_week', \n",
    "       'engagment_rate', 'description', 'screen_name', 'account_type']]\n",
    "from sklearn.model_selection import KFold, cross_val_score\n",
    "from imblearn.over_sampling import SMOTE\n",
    "\n",
    "\n",
    "x=df.iloc[:, :-3]\n",
    "y = df.account_type.values.tolist()\n",
    "\n",
    "smote = SMOTE(random_state=10)\n",
    "x, y =smote.fit_resample(x, y)\n",
    "k_folds = KFold(n_splits = 5)\n",
    "clf=RandomForestClassifier( random_state=42 )\n",
    "scores = cross_val_score(clf, x, y, cv = k_folds)\n",
    "\n",
    "print(\"Average CV Score: \", scores.mean())\n",
    "# Average CV Score:  0.8398758843713743 /90"
   ]
  },
  {
   "attachments": {},
   "cell_type": "markdown",
   "metadata": {},
   "source": [
    "random undersimpling"
   ]
  },
  {
   "cell_type": "code",
   "execution_count": 1,
   "metadata": {},
   "outputs": [
    {
     "name": "stdout",
     "output_type": "stream",
     "text": [
      "Average CV Score:  0.7206363636363636\n"
     ]
    }
   ],
   "source": [
    "# import numpy as np # linear algebra\n",
    "# import pandas as pd # data processing, CSV file I/O (e.g. pd.read_csv)\n",
    "# from sklearn.model_selection import train_test_split\n",
    "# from sklearn.ensemble import RandomForestClassifier\n",
    "# import gender_guesser.detector as gender\n",
    "# import matplotlib.pyplot as plt \n",
    "# from datetime import datetime\n",
    "# from sklearn import metrics\n",
    "# import seaborn as sns\n",
    "# import matplotlib.pyplot as plt\n",
    "# from sklearn.metrics import classification_report\n",
    "# from imblearn.over_sampling import SMOTE\n",
    "# data1 = pd.read_csv('./Data/data+column_relation.csv')\n",
    "# data1=data1.loc[:,[ 'statuses', 'date_joined',\n",
    "#        'most_recent_post', 'following', 'followers',  'favourites', 'lists',\n",
    "#           'tweets_this_week','retweet', 'retweeted_count',\n",
    "#         'userNameScore', \n",
    "#        'avg_tweets_by_day_of_week', \n",
    "#        'engagment_rate', 'description', 'screen_name', 'account_type']]\n",
    "# from sklearn.model_selection import KFold, cross_val_score\n",
    "# df1=data1[data1.account_type== 1].head(11000)\n",
    "# df2=data1[data1.account_type== 0].head(11000)\n",
    "# df = pd.concat([df1, df2], ignore_index=True)\n",
    "# x=df.iloc[:, :-3]\n",
    "# y = df.account_type.values.tolist()\n",
    "\n",
    "# k_folds = KFold(n_splits = 10)\n",
    "# clf=RandomForestClassifier()\n",
    "# scores = cross_val_score(clf, x, y, cv = k_folds)\n",
    "\n",
    "# print(\"Average CV Score: \", scores.mean())\n",
    "# # Average CV Score:  0.7206363636363636 /93\n"
   ]
  }
 ],
 "metadata": {
  "kernelspec": {
   "display_name": "venv",
   "language": "python",
   "name": "python3"
  },
  "language_info": {
   "codemirror_mode": {
    "name": "ipython",
    "version": 3
   },
   "file_extension": ".py",
   "mimetype": "text/x-python",
   "name": "python",
   "nbconvert_exporter": "python",
   "pygments_lexer": "ipython3",
   "version": "3.10.11"
  },
  "orig_nbformat": 4,
  "vscode": {
   "interpreter": {
    "hash": "919f1a12e43db5d5accd328457ee16aa753b873ae7a9cf7fbc94ca5438fe0a95"
   }
  }
 },
 "nbformat": 4,
 "nbformat_minor": 2
}
