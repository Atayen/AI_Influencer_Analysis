{
 "cells": [
  {
   "attachments": {},
   "cell_type": "markdown",
   "metadata": {},
   "source": [
    "# import"
   ]
  },
  {
   "cell_type": "code",
   "execution_count": 1,
   "metadata": {},
   "outputs": [],
   "source": [
    "import numpy as np # linear algebra\n",
    "import pandas as pd # data processing, CSV file I/O (e.g. pd.read_csv)\n",
    "from sklearn.model_selection import train_test_split\n",
    "from sklearn.ensemble import RandomForestClassifier\n",
    "import gender_guesser.detector as gender\n",
    "\n",
    "import matplotlib.pyplot as plt \n",
    "from datetime import datetime\n",
    "from sklearn import metrics\n",
    "import seaborn as sns\n",
    "import matplotlib.pyplot as plt\n",
    "from sklearn.metrics import classification_report"
   ]
  },
  {
   "cell_type": "code",
   "execution_count": 3,
   "metadata": {},
   "outputs": [],
   "source": [
    "def predict_sex(name):\n",
    "    name=str(name).split(' ')[0]\n",
    "    sex_prediction = gender.Detector(case_sensitive=False)\n",
    "    sex=sex_prediction.get_gender(name)\n",
    "    sex_dic={'female':2,\"male\":1,'unknown':0,'mostly_female':-2 ,'mostly_male':-1,'andy':-3}\n",
    "    return sex_dic[sex]\n",
    "\n",
    "def creation_year(year):\n",
    "    try:\n",
    "        dt = datetime.strptime(str(year), '%Y-%m-%d %H:%M:%S')\n",
    "        return dt.year\n",
    "    except:\n",
    "        return 0\n",
    "\n",
    "def set_sex_code(x):\n",
    "    x.loc[:,'sex_code']=predict_sex(x['name'])\n",
    "\n"
   ]
  },
  {
   "attachments": {},
   "cell_type": "markdown",
   "metadata": {},
   "source": [
    "# load data"
   ]
  },
  {
   "cell_type": "code",
   "execution_count": 3,
   "metadata": {},
   "outputs": [],
   "source": [
    "data = pd.read_csv('./Data/featuresfloatv3.csv')\n",
    "def extract_features(x):\n",
    "    # x.loc[:,'sex_code']=x.apply(lambda row :predict_sex(row[\"display_name\"]), axis=1)\n",
    "    # print('sex code done')\n",
    "    # x.loc[:,'created'] = x.apply(lambda row :creation_year(row[\"date_joined\"]), axis=1)\n",
    "    # print('created done')\n",
    "    # x.loc[:,'most_recent_post'] = x.apply(lambda row :creation_year(row[\"most_recent_post\"]), axis=1)\n",
    "    # print('most_recent_post done')\n",
    "    x=x.loc[:,['statuses' , 'date_joined' , 'most_recent_post' , 'following' , 'followers' , 'likes', 'retweet' , 'retweeted_count'  ,'avg_tweets_by_hour_of_day', 'avg_tweets_by_day_of_week']]\n",
    "    return x\n"
   ]
  },
  {
   "cell_type": "code",
   "execution_count": 4,
   "metadata": {},
   "outputs": [],
   "source": [
    "x=extract_features(data)\n",
    "\n"
   ]
  },
  {
   "attachments": {},
   "cell_type": "markdown",
   "metadata": {},
   "source": [
    "scale features"
   ]
  },
  {
   "cell_type": "code",
   "execution_count": 5,
   "metadata": {},
   "outputs": [],
   "source": [
    "\n",
    "from sklearn.preprocessing import StandardScaler\n",
    "\n",
    "# Create an instance of StandardScaler\n",
    "scaler = StandardScaler()\n",
    "\n",
    "# Fit the scaler to your data\n",
    "scaler.fit(x)\n",
    "\n",
    "# Transform your data using the scaler\n",
    "X_scaled = scaler.transform(x)\n",
    "\n"
   ]
  },
  {
   "cell_type": "code",
   "execution_count": 6,
   "metadata": {},
   "outputs": [
    {
     "name": "stdout",
     "output_type": "stream",
     "text": [
      "\n",
      " Training Accuracy score: 0.9992289333578116\n",
      "Testing Accuracy score: 0.8973417535614627\n",
      "RandomForestClassifier score: 0.9992289333578116\n",
      "classification_report \n",
      "               precision    recall  f1-score   support\n",
      "\n",
      "         bot       0.88      0.80      0.84      2309\n",
      "       human       0.90      0.95      0.92      4500\n",
      "\n",
      "    accuracy                           0.90      6809\n",
      "   macro avg       0.89      0.87      0.88      6809\n",
      "weighted avg       0.90      0.90      0.90      6809\n",
      "\n"
     ]
    },
    {
     "data": {
      "image/png": "[encoded data removed]",
      "text/plain": [
       "<Figure size 640x480 with 2 Axes>"
      ]
     },
     "metadata": {},
     "output_type": "display_data"
    }
   ],
   "source": [
    "\n",
    "clf=RandomForestClassifier()\n",
    "# ,'description','location','url','sex_code','verified','created','sex_code','tweet_language','tweets_by_day_of_week','tweets_by_hour_of_day'\n",
    "\n",
    "y = data.account_type.values.tolist()\n",
    "x_train, x_test, y_train, y_test = train_test_split(X_scaled, y, test_size=0.2, random_state=42,stratify=y)\n",
    "clf.fit(x_train,y_train)\n",
    "y_pred_train = clf.predict(x_train)\n",
    "y_pred_test = clf.predict(x_test)\n",
    "print(\"\\n Training Accuracy score:\",metrics.accuracy_score(y_train, y_pred_train))\n",
    "print(\"Testing Accuracy score:\",metrics.accuracy_score(y_test, y_pred_test))\n",
    "print(\"RandomForestClassifier score:\",clf.score(x_train, y_train))\n",
    "print(\"classification_report \\n \"+classification_report(y_test, y_pred_test))\n",
    "cm = metrics.confusion_matrix(y_test, y_pred_test,labels=[ 'human', 'bot'])\n",
    "# print('Confusion matrix\\n', cm)\n",
    "\n",
    "cm_matrixNB = pd.DataFrame(data=cm, columns=[ 'human', 'bot'], \n",
    "                        index=[ 'human', 'bot'])\n",
    "sns.heatmap(cm_matrixNB, annot=True, fmt='d', cmap='YlGnBu')\n",
    "plt.show()\n",
    "   \n"
   ]
  },
  {
   "cell_type": "code",
   "execution_count": 23,
   "metadata": {},
   "outputs": [],
   "source": []
  },
  {
   "cell_type": "code",
   "execution_count": 66,
   "metadata": {},
   "outputs": [
    {
     "name": "stdout",
     "output_type": "stream",
     "text": [
      "\n",
      " Training Accuracy score: 0.9999632825408482\n",
      "Testing Accuracy score: 0.9021882802173594\n",
      "classification_report \n",
      "               precision    recall  f1-score   support\n",
      "\n",
      "           0       0.89      0.81      0.85      2309\n",
      "           1       0.91      0.95      0.93      4500\n",
      "\n",
      "    accuracy                           0.90      6809\n",
      "   macro avg       0.90      0.88      0.89      6809\n",
      "weighted avg       0.90      0.90      0.90      6809\n",
      "\n"
     ]
    },
    {
     "data": {
      "image/png": "[encoded data removed]",
      "text/plain": [
       "<Figure size 640x480 with 2 Axes>"
      ]
     },
     "metadata": {},
     "output_type": "display_data"
    }
   ],
   "source": [
    "from sklearn.preprocessing import StandardScaler\n",
    "from sklearn.decomposition import PCA\n",
    "from imblearn.over_sampling import ADASYN\n",
    "data = pd.read_csv('./Data/featuresfloatv3.csv')\n",
    "data =data.drop('Unnamed: 0', axis=1)\n",
    "# x=data.loc[:,['statuses' , 'date_joined' , 'most_recent_post' , 'following' , 'followers' , 'likes', 'retweet' , 'retweeted_count'  ,'avg_tweets_by_hour_of_day', 'avg_tweets_by_day_of_week']]\n",
    "x=data.iloc[:, :-1]\n",
    "y = data.account_type.values.tolist()\n",
    "x_train, x_test, y_train, y_test = train_test_split(x, y, test_size=0.2, random_state=42,stratify=y)\n",
    "\n",
    "# # # scale features\n",
    "# # # Create an instance of StandardScaler\n",
    "# scaler = StandardScaler()\n",
    "# # Fit the scaler to your data\n",
    "# x_train = scaler.fit_transform(x_train)\n",
    "# x_test = scaler.transform(x_test)\n",
    "# sm = ADASYN(random_state=42)\n",
    "# x_train,y_train = sm.fit_resample(x_train,y_train)\n",
    "\n",
    "clf=RandomForestClassifier()\n",
    "clf.fit(x_train,y_train)\n",
    "score = clf.score(x_test, y_test)\n",
    "\n",
    "y_pred_train = clf.predict(x_train)\n",
    "y_pred_test = clf.predict(x_test)\n",
    "print(\"\\n Training Accuracy score:\",metrics.accuracy_score(y_train, y_pred_train))\n",
    "print(\"Testing Accuracy score:\",metrics.accuracy_score(y_test, y_pred_test))\n",
    "print(\"classification_report \\n \"+classification_report(y_test, y_pred_test))\n",
    "cm = metrics.confusion_matrix(y_test, y_pred_test)\n",
    "# print('Confusion matrix\\n', cm)\n",
    "\n",
    "cm_matrixNB = pd.DataFrame(data=cm, )\n",
    "sns.heatmap(cm_matrixNB, annot=True, fmt='d', cmap='YlGnBu')\n",
    "plt.show()"
   ]
  },
  {
   "cell_type": "code",
   "execution_count": 69,
   "metadata": {},
   "outputs": [],
   "source": [
    "data = pd.read_csv('./Data/features+screen_name.csv')\n",
    "\n",
    "df1=data[data.account_type== 1].head(11000)\n",
    "df2=data[data.account_type== 0].head(11000)\n",
    "df = pd.concat([df1, df2], ignore_index=True)\n",
    "df.to_csv('./Data/featuresfloatvf.csv', index=False)\n"
   ]
  },
  {
   "attachments": {},
   "cell_type": "markdown",
   "metadata": {},
   "source": [
    "\n",
    "# result"
   ]
  },
  {
   "cell_type": "code",
   "execution_count": 5,
   "metadata": {},
   "outputs": [
    {
     "name": "stdout",
     "output_type": "stream",
     "text": [
      "Accuracy: 88.41%\n",
      "\n",
      " Training Accuracy score: 0.9999431818181819\n",
      "Testing Accuracy score: 0.884090909090909\n",
      "classification_report \n",
      "               precision    recall  f1-score   support\n",
      "\n",
      "           0       0.89      0.87      0.88      2200\n",
      "           1       0.88      0.90      0.89      2200\n",
      "\n",
      "    accuracy                           0.88      4400\n",
      "   macro avg       0.88      0.88      0.88      4400\n",
      "weighted avg       0.88      0.88      0.88      4400\n",
      "\n"
     ]
    },
    {
     "data": {
      "image/png": "[encoded data removed]",
      "text/plain": [
       "<Figure size 640x480 with 2 Axes>"
      ]
     },
     "metadata": {},
     "output_type": "display_data"
    }
   ],
   "source": [
    "import numpy as np # linear algebra\n",
    "import pandas as pd # data processing, CSV file I/O (e.g. pd.read_csv)\n",
    "from sklearn.model_selection import train_test_split\n",
    "from sklearn.ensemble import RandomForestClassifier\n",
    "import gender_guesser.detector as gender\n",
    "\n",
    "import matplotlib.pyplot as plt \n",
    "from datetime import datetime\n",
    "from sklearn import metrics\n",
    "import seaborn as sns\n",
    "import matplotlib.pyplot as plt\n",
    "from sklearn.metrics import classification_report\n",
    "\n",
    "df = pd.read_csv('./Data/datavf.csv')\n",
    "\n",
    "x=df.iloc[:, :-2]\n",
    "y = df.account_type.values.tolist()\n",
    "x_train, x_test, y_train, y_test = train_test_split(x, y, test_size=0.2, random_state=42,stratify=y)\n",
    "\n",
    "\n",
    "clf=RandomForestClassifier()\n",
    "clf.fit(x_train,y_train)\n",
    "score = clf.score(x_test, y_test)\n",
    "print(\"Accuracy: %.2f%%\" % (score * 100))\n",
    "y_pred_train = clf.predict(x_train)\n",
    "y_pred_test = clf.predict(x_test)\n",
    "print(\"\\n Training Accuracy score:\",metrics.accuracy_score(y_train, y_pred_train))\n",
    "print(\"Testing Accuracy score:\",metrics.accuracy_score(y_test, y_pred_test))\n",
    "print(\"classification_report \\n \"+classification_report(y_test, y_pred_test))\n",
    "cm = metrics.confusion_matrix(y_test, y_pred_test)\n",
    "# print('Confusion matrix\\n', cm)\n",
    "\n",
    "cm_matrixNB = pd.DataFrame(data=cm, )\n",
    "sns.heatmap(cm_matrixNB, annot=True, fmt='d', cmap='YlGnBu')\n",
    "plt.show()\n",
    "   "
   ]
  },
  {
   "cell_type": "code",
   "execution_count": null,
   "metadata": {},
   "outputs": [],
   "source": []
  }
 ],
 "metadata": {
  "kernelspec": {
   "display_name": "venv",
   "language": "python",
   "name": "python3"
  },
  "language_info": {
   "codemirror_mode": {
    "name": "ipython",
    "version": 3
   },
   "file_extension": ".py",
   "mimetype": "text/x-python",
   "name": "python",
   "nbconvert_exporter": "python",
   "pygments_lexer": "ipython3",
   "version": "3.10.6"
  },
  "orig_nbformat": 4,
  "vscode": {
   "interpreter": {
    "hash": "0b269af9bc916de9a69a9129747e30eb936050c74c311d5baf33ccd4b86d3e37"
   }
  }
 },
 "nbformat": 4,
 "nbformat_minor": 2
}
