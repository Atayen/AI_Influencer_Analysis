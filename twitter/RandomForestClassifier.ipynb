{
 "cells": [
  {
   "attachments": {},
   "cell_type": "markdown",
   "metadata": {},
   "source": [
    "# import"
   ]
  },
  {
   "cell_type": "code",
   "execution_count": 1,
   "metadata": {},
   "outputs": [],
   "source": [
    "import numpy as np # linear algebra\n",
    "import pandas as pd # data processing, CSV file I/O (e.g. pd.read_csv)\n",
    "from sklearn.model_selection import train_test_split\n",
    "from sklearn.ensemble import RandomForestClassifier\n",
    "import gender_guesser.detector as gender\n",
    "\n",
    "import matplotlib.pyplot as plt \n",
    "from datetime import datetime\n",
    "from sklearn import metrics\n",
    "import seaborn as sns\n",
    "import matplotlib.pyplot as plt\n",
    "from sklearn.metrics import classification_report"
   ]
  },
  {
   "cell_type": "code",
   "execution_count": 2,
   "metadata": {},
   "outputs": [],
   "source": [
    "def predict_sex(name):\n",
    "    name=str(name).split(' ')[0]\n",
    "    sex_prediction = gender.Detector(case_sensitive=False)\n",
    "    sex=sex_prediction.get_gender(name)\n",
    "    sex_dic={'female':2,\"male\":1,'unknown':0,'mostly_female':-2 ,'mostly_male':-1,'andy':-3}\n",
    "    return sex_dic[sex]\n",
    "\n",
    "def creation_year(year):\n",
    "    try:\n",
    "        dt = datetime.strptime(str(year), '%Y-%m-%d %H:%M:%S')\n",
    "        return dt.year\n",
    "    except:\n",
    "        return 0\n",
    "\n",
    "def set_sex_code(x):\n",
    "    x.loc[:,'sex_code']=predict_sex(x['name'])\n",
    "\n"
   ]
  },
  {
   "attachments": {},
   "cell_type": "markdown",
   "metadata": {},
   "source": [
    "# load data"
   ]
  },
  {
   "cell_type": "code",
   "execution_count": 16,
   "metadata": {},
   "outputs": [],
   "source": [
    "data1 = pd.read_csv('cleandatafromAPI.csv')\n",
    "def extract_features(x):\n",
    "    x.loc[:,'sex_code']=x.apply(lambda row :predict_sex(row[\"display_name\"]), axis=1)\n",
    "    print('sex code done')\n",
    "    x.loc[:,'created'] = x.apply(lambda row :creation_year(row[\"date_joined\"]), axis=1)\n",
    "    print('created done')\n",
    "    x.loc[:,'most_recent_post'] = x.apply(lambda row :creation_year(row[\"most_recent_post\"]), axis=1)\n",
    "    print('most_recent_post done')\n",
    "    x=x.loc[:]\n",
    "    return x\n"
   ]
  },
  {
   "cell_type": "code",
   "execution_count": 17,
   "metadata": {},
   "outputs": [
    {
     "name": "stdout",
     "output_type": "stream",
     "text": [
      "sex code done\n",
      "created done\n"
     ]
    },
    {
     "name": "stderr",
     "output_type": "stream",
     "text": [
      "/tmp/ipykernel_55892/3438781138.py:7: DeprecationWarning: In a future version, `df.iloc[:, i] = newvals` will attempt to set the values inplace instead of always setting a new array. To retain the old behavior, use either `df[df.columns[i]] = newvals` or, if columns are non-unique, `df.isetitem(i, newvals)`\n",
      "  x.loc[:,'most_recent_post'] = x.apply(lambda row :creation_year(row[\"most_recent_post\"]), axis=1)\n"
     ]
    },
    {
     "name": "stdout",
     "output_type": "stream",
     "text": [
      "most_recent_post done\n"
     ]
    }
   ],
   "source": [
    "data=extract_features(data1)\n",
    "data.to_csv('features.csv', index=False)\n"
   ]
  },
  {
   "attachments": {},
   "cell_type": "markdown",
   "metadata": {},
   "source": [
    "split data"
   ]
  },
  {
   "cell_type": "code",
   "execution_count": 79,
   "metadata": {},
   "outputs": [],
   "source": []
  },
  {
   "cell_type": "code",
   "execution_count": 9,
   "metadata": {},
   "outputs": [
    {
     "name": "stdout",
     "output_type": "stream",
     "text": [
      "<class 'pandas.core.frame.DataFrame'>\n",
      "\n",
      " Training Accuracy score: 0.9992289333578116\n",
      "Testing Accuracy score: 0.8911734469085034\n",
      "RandomForestClassifier score: 0.9992289333578116\n",
      "classification_report \n",
      "               precision    recall  f1-score   support\n",
      "\n",
      "         bot       0.87      0.79      0.83      2309\n",
      "       human       0.90      0.94      0.92      4500\n",
      "\n",
      "    accuracy                           0.89      6809\n",
      "   macro avg       0.89      0.87      0.88      6809\n",
      "weighted avg       0.89      0.89      0.89      6809\n",
      "\n"
     ]
    },
    {
     "data": {
      "image/png": "[encoded data removed]",
      "text/plain": [
       "<Figure size 640x480 with 2 Axes>"
      ]
     },
     "metadata": {},
     "output_type": "display_data"
    }
   ],
   "source": [
    "data = pd.read_csv('./features.csv')\n",
    "print(type(data))\n",
    "clf=RandomForestClassifier()\n",
    "# ,'description','location','url','sex_code','verified','created','sex_code','tweet_language','tweets_by_day_of_week','tweets_by_hour_of_day'\n",
    "x=data.loc[:,['statuses','most_recent_post','following','followers','created','likes','lists','tweets_this_week','retweeted_count']]\n",
    "y = data.account_type.values.tolist()\n",
    "x_train, x_test, y_train, y_test = train_test_split(x, y, test_size=0.2, random_state=42,stratify=y)\n",
    "clf.fit(x_train,y_train)\n",
    "y_pred_train = clf.predict(x_train)\n",
    "y_pred_test = clf.predict(x_test)\n",
    "print(\"\\n Training Accuracy score:\",metrics.accuracy_score(y_train, y_pred_train))\n",
    "print(\"Testing Accuracy score:\",metrics.accuracy_score(y_test, y_pred_test))\n",
    "print(\"RandomForestClassifier score:\",clf.score(x_train, y_train))\n",
    "print(\"classification_report \\n \"+classification_report(y_test, y_pred_test))\n",
    "cm = metrics.confusion_matrix(y_test, y_pred_test)\n",
    "# print('Confusion matrix\\n', cm)\n",
    "\n",
    "cm_matrixNB = pd.DataFrame(data=cm, columns=[ 'human', 'bot'], \n",
    "                        index=[ 'human', 'bot'])\n",
    "sns.heatmap(cm_matrixNB, annot=True, fmt='d', cmap='YlGnBu')\n",
    "plt.show()\n",
    "   \n"
   ]
  }
 ],
 "metadata": {
  "kernelspec": {
   "display_name": "venv",
   "language": "python",
   "name": "python3"
  },
  "language_info": {
   "codemirror_mode": {
    "name": "ipython",
    "version": 3
   },
   "file_extension": ".py",
   "mimetype": "text/x-python",
   "name": "python",
   "nbconvert_exporter": "python",
   "pygments_lexer": "ipython3",
   "version": "3.10.10"
  },
  "orig_nbformat": 4,
  "vscode": {
   "interpreter": {
    "hash": "919f1a12e43db5d5accd328457ee16aa753b873ae7a9cf7fbc94ca5438fe0a95"
   }
  }
 },
 "nbformat": 4,
 "nbformat_minor": 2
}
