{
 "cells": [
  {
   "cell_type": "code",
   "execution_count": 27,
   "metadata": {},
   "outputs": [
    {
     "ename": "TweepError",
     "evalue": "[{'message': 'Could not authenticate you', 'code': 32}]",
     "output_type": "error",
     "traceback": [
      "\u001b[0;31m---------------------------------------------------------------------------\u001b[0m",
      "\u001b[0;31mTweepError\u001b[0m                                Traceback (most recent call last)",
      "Cell \u001b[0;32mIn[27], line 16\u001b[0m\n\u001b[1;32m     13\u001b[0m api \u001b[39m=\u001b[39m tweepy\u001b[39m.\u001b[39mAPI(auth, wait_on_rate_limit\u001b[39m=\u001b[39m\u001b[39mTrue\u001b[39;00m)\n\u001b[1;32m     14\u001b[0m \u001b[39m# timeline = api.user_timeline(count=200, include_rts=True, tweet_mode=\"extended\")\u001b[39;00m\n\u001b[1;32m     15\u001b[0m \u001b[39m# timeline\u001b[39;00m\n\u001b[0;32m---> 16\u001b[0m settings \u001b[39m=\u001b[39m api\u001b[39m.\u001b[39;49mget_settings()\n\u001b[1;32m     17\u001b[0m settings\n",
      "File \u001b[0;32m~/Documents/AI/venv/lib/python3.10/site-packages/tweepy/binder.py:253\u001b[0m, in \u001b[0;36mbind_api.<locals>._call\u001b[0;34m(*args, **kwargs)\u001b[0m\n\u001b[1;32m    251\u001b[0m         \u001b[39mreturn\u001b[39;00m method\n\u001b[1;32m    252\u001b[0m     \u001b[39melse\u001b[39;00m:\n\u001b[0;32m--> 253\u001b[0m         \u001b[39mreturn\u001b[39;00m method\u001b[39m.\u001b[39;49mexecute()\n\u001b[1;32m    254\u001b[0m \u001b[39mfinally\u001b[39;00m:\n\u001b[1;32m    255\u001b[0m     method\u001b[39m.\u001b[39msession\u001b[39m.\u001b[39mclose()\n",
      "File \u001b[0;32m~/Documents/AI/venv/lib/python3.10/site-packages/tweepy/binder.py:234\u001b[0m, in \u001b[0;36mbind_api.<locals>.APIMethod.execute\u001b[0;34m(self)\u001b[0m\n\u001b[1;32m    232\u001b[0m         \u001b[39mraise\u001b[39;00m RateLimitError(error_msg, resp)\n\u001b[1;32m    233\u001b[0m     \u001b[39melse\u001b[39;00m:\n\u001b[0;32m--> 234\u001b[0m         \u001b[39mraise\u001b[39;00m TweepError(error_msg, resp, api_code\u001b[39m=\u001b[39mapi_error_code)\n\u001b[1;32m    236\u001b[0m \u001b[39m# Parse the response payload\u001b[39;00m\n\u001b[1;32m    237\u001b[0m \u001b[39mself\u001b[39m\u001b[39m.\u001b[39mreturn_cursors \u001b[39m=\u001b[39m (\u001b[39mself\u001b[39m\u001b[39m.\u001b[39mreturn_cursors \u001b[39mor\u001b[39;00m\n\u001b[1;32m    238\u001b[0m                        \u001b[39m'\u001b[39m\u001b[39mcursor\u001b[39m\u001b[39m'\u001b[39m \u001b[39min\u001b[39;00m \u001b[39mself\u001b[39m\u001b[39m.\u001b[39msession\u001b[39m.\u001b[39mparams \u001b[39mor\u001b[39;00m \u001b[39m'\u001b[39m\u001b[39mnext\u001b[39m\u001b[39m'\u001b[39m \u001b[39min\u001b[39;00m \u001b[39mself\u001b[39m\u001b[39m.\u001b[39msession\u001b[39m.\u001b[39mparams)\n",
      "\u001b[0;31mTweepError\u001b[0m: [{'message': 'Could not authenticate you', 'code': 32}]"
     ]
    }
   ],
   "source": [
    "import tweepy\n",
    "from decouple import config\n",
    "consumer_key = config('consumer_key')\n",
    "consumer_secret = config('consumer_secret')\n",
    "\n",
    "\n",
    "access_key = config('access_key')\n",
    "access_secret = config('access_secret')\n",
    "access_key ='1620785941534183426-F0yH9Y2yr926vyYm15NYjXAE6HldvR'\n",
    "access_secret = \"Gl9LNwx9VFQwXVq2yNTQ88tlNx7flnjp2Y2Wy0K9T80lG\"\n",
    "auth = tweepy.OAuthHandler(consumer_key, consumer_secret)\n",
    "auth.set_access_token(access_key, access_secret)\n",
    "api = tweepy.API(auth, wait_on_rate_limit=True)\n",
    "# timeline = api.user_timeline(count=200, include_rts=True, tweet_mode=\"extended\")\n",
    "# timeline\n",
    "settings = api.get_settings()\n",
    "settings"
   ]
  }
 ],
 "metadata": {
  "kernelspec": {
   "display_name": "venv",
   "language": "python",
   "name": "python3"
  },
  "language_info": {
   "codemirror_mode": {
    "name": "ipython",
    "version": 3
   },
   "file_extension": ".py",
   "mimetype": "text/x-python",
   "name": "python",
   "nbconvert_exporter": "python",
   "pygments_lexer": "ipython3",
   "version": "3.10.6"
  },
  "orig_nbformat": 4,
  "vscode": {
   "interpreter": {
    "hash": "0b269af9bc916de9a69a9129747e30eb936050c74c311d5baf33ccd4b86d3e37"
   }
  }
 },
 "nbformat": 4,
 "nbformat_minor": 2
}
