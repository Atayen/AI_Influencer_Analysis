{
  "cells": [
    {
      "attachments": {},
      "cell_type": "markdown",
      "metadata": {},
      "source": [
        "Import"
      ]
    },
    {
      "cell_type": "code",
      "execution_count": 4,
      "metadata": {
        "trusted": true
      },
      "outputs": [],
      "source": [
        "import pandas as pd\n",
        "from sklearn.model_selection import train_test_split\n",
        "from sklearn.tree import DecisionTreeClassifier\n",
        "from sklearn.metrics import accuracy_score\n",
        "from sklearn import tree\n",
        "from sklearn import metrics\n",
        "from sklearn.metrics import classification_report\n",
        "from matplotlib import pyplot as plt\n",
        "import seaborn as sns\n",
        "from sklearn.pipeline import Pipeline\n",
        "from sklearn.preprocessing import StandardScaler\n",
        "from sklearn.decomposition import PCA\n",
        "from sklearn.tree import DecisionTreeClassifier"
      ]
    },
    {
      "attachments": {},
      "cell_type": "markdown",
      "metadata": {},
      "source": [
        "TomekLinks undersimpling"
      ]
    },
    {
      "cell_type": "code",
      "execution_count": 5,
      "metadata": {},
      "outputs": [
        {
          "name": "stdout",
          "output_type": "stream",
          "text": [
            "\n",
            "Training Accuracy score: 0.9999225286643941\n",
            "Testing Accuracy score: 0.8410288193368454\n",
            "DecisionTreeClassifier score: 0.9999225286643941\n",
            "classification_report \n",
            "               precision    recall  f1-score   support\n",
            "\n",
            "           0       0.77      0.78      0.78      2296\n",
            "           1       0.88      0.87      0.88      4158\n",
            "\n",
            "    accuracy                           0.84      6454\n",
            "   macro avg       0.83      0.83      0.83      6454\n",
            "weighted avg       0.84      0.84      0.84      6454\n",
            "\n"
          ]
        },
        {
          "data": {
            "image/png": "[encoded data removed]",
            "text/plain": [
              "<Figure size 640x480 with 2 Axes>"
            ]
          },
          "metadata": {},
          "output_type": "display_data"
        }
      ],
      "source": [
        "\n",
        "from imblearn.under_sampling import TomekLinks\n",
        "df = pd.read_csv('./Data/data+descvf.csv')\n",
        "tl = TomekLinks()\n",
        "x=df.iloc[:, :-3]\n",
        "y = df.account_type.values.tolist()\n",
        "\n",
        "x, y = tl.fit_resample(x, y)\n",
        "\n",
        "x_train, x_test, y_train, y_test = train_test_split(x, y, test_size=0.2, random_state=48)\n",
        "clt = DecisionTreeClassifier()\n",
        "clt.fit(x_train,y_train)\n",
        "y_pred_train = clt.predict(x_train)\n",
        "y_pred_test = clt.predict(x_test)\n",
        "print(\"\\nTraining Accuracy score:\",accuracy_score(y_train, y_pred_train))\n",
        "print(\"Testing Accuracy score:\",accuracy_score(y_test, y_pred_test))\n",
        "print(\"DecisionTreeClassifier score:\",clt.score(x_train, y_train))\n",
        "print(\"classification_report \\n \"+classification_report(y_test, y_pred_test))\n",
        "\n",
        "from sklearn.metrics import confusion_matrix\n",
        "cm = metrics.confusion_matrix(y_test,  y_pred_test)\n",
        "\n",
        "cm_matrixNB = pd.DataFrame(data=cm)\n",
        "sns.heatmap(cm_matrixNB, annot=True, fmt='d', cmap='YlGnBu')\n",
        "plt.show()"
      ]
    },
    {
      "attachments": {},
      "cell_type": "markdown",
      "metadata": {},
      "source": [
        "random undersimpling"
      ]
    },
    {
      "cell_type": "code",
      "execution_count": 6,
      "metadata": {},
      "outputs": [],
      "source": [
        "# from sklearn.pipeline import Pipeline\n",
        "# from sklearn.preprocessing import StandardScaler\n",
        "# from sklearn.decomposition import PCA\n",
        "# from sklearn.tree import DecisionTreeClassifier\n",
        "# df = pd.read_csv('./Data/datavf.csv')\n",
        "\n",
        "# x=df.iloc[:, :-4]\n",
        "# y = df.account_type.values.tolist()\n",
        "# x_train, x_test, y_train, y_test = train_test_split(x, y, test_size=0.2, random_state=42,stratify=y)\n",
        "# pipeline = Pipeline([\n",
        "#     ('rf', DecisionTreeClassifier()) # Training a random forest classifier on the data\n",
        "# ])\n",
        "\n",
        "# pipeline.fit(x_train, y_train)\n",
        "\n",
        "# score = pipeline.score(x_test, y_test)\n",
        "# print(\"Accuracy: %.2f%%\" % (score * 100))\n",
        "# y_pred_train = pipeline.predict(x_train)\n",
        "# y_pred_test = pipeline.predict(x_test)\n",
        "\n",
        "# print(\"\\nTraining Accuracy score:\",accuracy_score(y_train, y_pred_train))\n",
        "# print(\"Testing Accuracy score:\",accuracy_score(y_test, y_pred_test))\n",
        "# print(\"DecisionTreeClassifier score:\",pipeline.score(x_train, y_train))\n",
        "# print(\"classification_report \\n \"+classification_report(y_test, y_pred_test))\n",
        "\n",
        "# from sklearn.metrics import confusion_matrix\n",
        "# cm = metrics.confusion_matrix(y_test,  y_pred_test)\n",
        "\n",
        "# cm_matrixNB = pd.DataFrame(data=cm)\n",
        "# sns.heatmap(cm_matrixNB, annot=True, fmt='d', cmap='YlGnBu')\n",
        "# plt.show()"
      ]
    },
    {
      "attachments": {},
      "cell_type": "markdown",
      "metadata": {},
      "source": [
        "with StandardScaler et dimensionality reduction techniques."
      ]
    },
    {
      "cell_type": "code",
      "execution_count": 7,
      "metadata": {},
      "outputs": [],
      "source": [
        "# from sklearn.pipeline import Pipeline\n",
        "# from sklearn.preprocessing import StandardScaler\n",
        "# from sklearn.decomposition import PCA\n",
        "# from sklearn.tree import DecisionTreeClassifier\n",
        "# df = pd.read_csv('./Data/datavf.csv')\n",
        "\n",
        "# x=df.iloc[:, :-4]\n",
        "# y = df.account_type.values.tolist()\n",
        "# x_train, x_test, y_train, y_test = train_test_split(x, y, test_size=0.2, random_state=42,stratify=y)\n",
        "# pipeline = Pipeline([\n",
        "#     ('scaler', StandardScaler()), # Standardizing the data\n",
        "#     ('pca', PCA()), # Transforming the data with PCA\n",
        "#     ('rf', DecisionTreeClassifier()) # Training a random forest classifier on the data\n",
        "# ])\n",
        "\n",
        "# pipeline.fit(x_train, y_train)\n",
        "\n",
        "# score = pipeline.score(x_test, y_test)\n",
        "# print(\"Accuracy: %.2f%%\" % (score * 100))\n",
        "# y_pred_train = pipeline.predict(x_train)\n",
        "# y_pred_test = pipeline.predict(x_test)\n",
        "\n",
        "# print(\"\\nTraining Accuracy score:\",accuracy_score(y_train, y_pred_train))\n",
        "# print(\"Testing Accuracy score:\",accuracy_score(y_test, y_pred_test))\n",
        "# print(\"DecisionTreeClassifier score:\",pipeline.score(x_train, y_train))\n",
        "# print(\"classification_report \\n \"+classification_report(y_test, y_pred_test))\n",
        "\n",
        "# from sklearn.metrics import confusion_matrix\n",
        "# cm = metrics.confusion_matrix(y_test,  y_pred_test)\n",
        "\n",
        "# cm_matrixNB = pd.DataFrame(data=cm)\n",
        "# sns.heatmap(cm_matrixNB, annot=True, fmt='d', cmap='YlGnBu')\n",
        "# plt.show()"
      ]
    },
    {
      "attachments": {},
      "cell_type": "markdown",
      "metadata": {},
      "source": [
        "oversimpling"
      ]
    },
    {
      "cell_type": "code",
      "execution_count": 8,
      "metadata": {},
      "outputs": [
        {
          "name": "stdout",
          "output_type": "stream",
          "text": [
            "Accuracy: 84.77%\n",
            "\n",
            " Training Accuracy score: 0.9999166689814172\n",
            "Testing Accuracy score: 0.847683590712143\n",
            "classification_report \n",
            "               precision    recall  f1-score   support\n",
            "\n",
            "           0       0.84      0.86      0.85      4501\n",
            "           1       0.86      0.84      0.85      4500\n",
            "\n",
            "    accuracy                           0.85      9001\n",
            "   macro avg       0.85      0.85      0.85      9001\n",
            "weighted avg       0.85      0.85      0.85      9001\n",
            "\n"
          ]
        },
        {
          "data": {
            "image/png": "[encoded data removed]",
            "text/plain": [
              "<Figure size 640x480 with 2 Axes>"
            ]
          },
          "metadata": {},
          "output_type": "display_data"
        }
      ],
      "source": [
        "\n",
        "import numpy as np # linear algebra\n",
        "import pandas as pd # data processing, CSV file I/O (e.g. pd.read_csv)\n",
        "from sklearn.model_selection import train_test_split\n",
        "from sklearn.ensemble import RandomForestClassifier\n",
        "import gender_guesser.detector as gender\n",
        "import matplotlib.pyplot as plt \n",
        "from datetime import datetime\n",
        "from sklearn import metrics\n",
        "import seaborn as sns\n",
        "import matplotlib.pyplot as plt\n",
        "from sklearn.metrics import classification_report\n",
        "from imblearn.over_sampling import SMOTE\n",
        "df = pd.read_csv('./Data/data+descvf.csv')\n",
        "\n",
        "x=df.iloc[:, :-3]\n",
        "y = df.account_type.values.tolist()\n",
        "smote = SMOTE(random_state=10)\n",
        "x, y =smote.fit_resample(x, y)\n",
        "x_train, x_test, y_train, y_test = train_test_split(x, y, test_size=0.2, random_state=42,stratify=y)\n",
        "pipeline = Pipeline([\n",
        "    ('rf', DecisionTreeClassifier()) # Training a random forest classifier on the data\n",
        "])\n",
        "\n",
        "# Train the pipeline on the data\n",
        "pipeline.fit(x_train, y_train)\n",
        "# feat_importances = pd.Series(pipeline['rf'].feature_importances_, index=x.columns)\n",
        "# feat_importances.nlargest(20).plot(kind='barh')\n",
        "# plt.show()\n",
        "score = pipeline.score(x_test, y_test)\n",
        "print(\"Accuracy: %.2f%%\" % (score * 100))\n",
        "y_pred_train = pipeline.predict(x_train)\n",
        "y_pred_test = pipeline.predict(x_test)\n",
        "print(\"\\n Training Accuracy score:\",metrics.accuracy_score(y_train, y_pred_train))\n",
        "print(\"Testing Accuracy score:\",metrics.accuracy_score(y_test, y_pred_test))\n",
        "print(\"classification_report \\n \"+classification_report(y_test, y_pred_test))\n",
        "cm = metrics.confusion_matrix(y_test, y_pred_test)\n",
        "# print('Confusion matrix\\n', cm)\n",
        "\n",
        "cm_matrixNB = pd.DataFrame(data=cm, )\n",
        "sns.heatmap(cm_matrixNB, annot=True, fmt='d', cmap='YlGnBu')\n",
        "plt.show()"
      ]
    },
    {
      "attachments": {},
      "cell_type": "markdown",
      "metadata": {},
      "source": [
        "# with feature selection "
      ]
    },
    {
      "attachments": {},
      "cell_type": "markdown",
      "metadata": {},
      "source": [
        " oversimplings"
      ]
    },
    {
      "cell_type": "code",
      "execution_count": 9,
      "metadata": {},
      "outputs": [],
      "source": [
        "from sklearn.pipeline import Pipeline"
      ]
    },
    {
      "cell_type": "code",
      "execution_count": 10,
      "metadata": {},
      "outputs": [
        {
          "name": "stdout",
          "output_type": "stream",
          "text": [
            "Accuracy: 85.13%\n",
            "\n",
            " Training Accuracy score: 0.9999444459876115\n",
            "Testing Accuracy score: 0.8513498500166649\n",
            "classification_report \n",
            "               precision    recall  f1-score   support\n",
            "\n",
            "           0       0.85      0.86      0.85      4501\n",
            "           1       0.86      0.84      0.85      4500\n",
            "\n",
            "    accuracy                           0.85      9001\n",
            "   macro avg       0.85      0.85      0.85      9001\n",
            "weighted avg       0.85      0.85      0.85      9001\n",
            "\n"
          ]
        },
        {
          "data": {
            "image/png": "[encoded data removed]",
            "text/plain": [
              "<Figure size 640x480 with 2 Axes>"
            ]
          },
          "metadata": {},
          "output_type": "display_data"
        }
      ],
      "source": [
        "import numpy as np # linear algebra\n",
        "import pandas as pd # data processing, CSV file I/O (e.g. pd.read_csv)\n",
        "from sklearn.model_selection import train_test_split\n",
        "from sklearn.tree import DecisionTreeClassifier\n",
        "import matplotlib.pyplot as plt \n",
        "from datetime import datetime\n",
        "from sklearn import metrics\n",
        "import seaborn as sns\n",
        "import matplotlib.pyplot as plt\n",
        "from sklearn.metrics import classification_report\n",
        "from imblearn.over_sampling import SMOTE\n",
        "data1 = pd.read_csv('./Data/data+column_relation.csv')\n",
        "# verified  location tweet_language url avg_tweets_by_hour_of_day following/years followers/lastpost \n",
        "data1=data1.loc[:,[ 'statuses', 'date_joined',\n",
        "       'most_recent_post', 'following', 'followers',  'favourites', 'lists',\n",
        "          'tweets_this_week','retweet', 'retweeted_count',\n",
        "        'userNameScore', \n",
        "       'avg_tweets_by_day_of_week', \n",
        "       'engagment_rate', 'description', 'screen_name', 'account_type']]\n",
        "from imblearn.over_sampling import SMOTE\n",
        "df=data1\n",
        "x=df.iloc[:, :-3]\n",
        "y = df.account_type.values.tolist()\n",
        "\n",
        "smote = SMOTE(random_state=10)\n",
        "x, y =smote.fit_resample(x, y)\n",
        "x_train, x_test, y_train, y_test = train_test_split(x, y, test_size=0.2, random_state=42,stratify=y)\n",
        "pipeline = Pipeline([\n",
        "    ('rf', DecisionTreeClassifier( random_state=42)) # Training a random forest classifier on the data\n",
        "])\n",
        "\n",
        "# Train the pipeline on the data\n",
        "pipeline.fit(x_train, y_train)\n",
        "score = pipeline.score(x_test, y_test)\n",
        "print(\"Accuracy: %.2f%%\" % (score * 100))\n",
        "y_pred_train = pipeline.predict(x_train)\n",
        "y_pred_test = pipeline.predict(x_test)\n",
        "print(\"\\n Training Accuracy score:\",metrics.accuracy_score(y_train, y_pred_train))\n",
        "print(\"Testing Accuracy score:\",metrics.accuracy_score(y_test, y_pred_test))\n",
        "print(\"classification_report \\n \"+classification_report(y_test, y_pred_test))\n",
        "cm = metrics.confusion_matrix(y_test, y_pred_test)\n",
        "# print('Confusion matrix\\n', cm)\n",
        "cm_matrixNB = pd.DataFrame(data=cm, )\n",
        "sns.heatmap(cm_matrixNB, annot=True, fmt='d', cmap='YlGnBu')\n",
        "plt.show()"
      ]
    },
    {
      "attachments": {},
      "cell_type": "markdown",
      "metadata": {},
      "source": [
        "undersampling"
      ]
    },
    {
      "cell_type": "code",
      "execution_count": 11,
      "metadata": {},
      "outputs": [
        {
          "name": "stdout",
          "output_type": "stream",
          "text": [
            "Accuracy: 84.21%\n",
            "\n",
            " Training Accuracy score: 0.9999219603558608\n",
            "Testing Accuracy score: 0.8420724094881398\n",
            "classification_report \n",
            "               precision    recall  f1-score   support\n",
            "\n",
            "           0       0.78      0.77      0.78      2309\n",
            "           1       0.87      0.88      0.88      4099\n",
            "\n",
            "    accuracy                           0.84      6408\n",
            "   macro avg       0.83      0.83      0.83      6408\n",
            "weighted avg       0.84      0.84      0.84      6408\n",
            "\n"
          ]
        },
        {
          "data": {
            "image/png": "[encoded data removed]",
            "text/plain": [
              "<Figure size 640x480 with 2 Axes>"
            ]
          },
          "metadata": {},
          "output_type": "display_data"
        }
      ],
      "source": [
        "import numpy as np # linear algebra\n",
        "import pandas as pd # data processing, CSV file I/O (e.g. pd.read_csv)\n",
        "from sklearn.model_selection import train_test_split\n",
        "from sklearn.tree import DecisionTreeClassifier\n",
        "import matplotlib.pyplot as plt \n",
        "from datetime import datetime\n",
        "from sklearn import metrics\n",
        "import seaborn as sns\n",
        "import matplotlib.pyplot as plt\n",
        "from sklearn.metrics import classification_report\n",
        "from imblearn.over_sampling import SMOTE\n",
        "data1 = pd.read_csv('./Data/data+column_relation.csv')\n",
        "# verified  location tweet_language url avg_tweets_by_hour_of_day following/years followers/lastpost \n",
        "data1=data1.loc[:,[ 'statuses', 'date_joined',\n",
        "       'most_recent_post', 'following', 'followers',  'favourites', 'lists',\n",
        "          'tweets_this_week','retweet', 'retweeted_count',\n",
        "        'userNameScore', \n",
        "       'avg_tweets_by_day_of_week', \n",
        "       'engagment_rate', 'description', 'screen_name', 'account_type']]\n",
        "from imblearn.over_sampling import SMOTE\n",
        "df=data1\n",
        "x=df.iloc[:, :-3]\n",
        "y = df.account_type.values.tolist()\n",
        "\n",
        "tmk =TomekLinks()\n",
        "x, y =tmk.fit_resample(x, y)\n",
        "x_train, x_test, y_train, y_test = train_test_split(x, y, test_size=0.2, random_state=42,stratify=y)\n",
        "pipeline = Pipeline([\n",
        "    ('rf', DecisionTreeClassifier( random_state=42)) # Training a random forest classifier on the data\n",
        "])\n",
        "\n",
        "# Train the pipeline on the data\n",
        "pipeline.fit(x_train, y_train)\n",
        "score = pipeline.score(x_test, y_test)\n",
        "print(\"Accuracy: %.2f%%\" % (score * 100))\n",
        "y_pred_train = pipeline.predict(x_train)\n",
        "y_pred_test = pipeline.predict(x_test)\n",
        "print(\"\\n Training Accuracy score:\",metrics.accuracy_score(y_train, y_pred_train))\n",
        "print(\"Testing Accuracy score:\",metrics.accuracy_score(y_test, y_pred_test))\n",
        "print(\"classification_report \\n \"+classification_report(y_test, y_pred_test))\n",
        "cm = metrics.confusion_matrix(y_test, y_pred_test)\n",
        "# print('Confusion matrix\\n', cm)\n",
        "cm_matrixNB = pd.DataFrame(data=cm, )\n",
        "sns.heatmap(cm_matrixNB, annot=True, fmt='d', cmap='YlGnBu')\n",
        "plt.show()"
      ]
    },
    {
      "attachments": {},
      "cell_type": "markdown",
      "metadata": {},
      "source": [
        "random undersimpling"
      ]
    },
    {
      "cell_type": "code",
      "execution_count": 12,
      "metadata": {},
      "outputs": [],
      "source": [
        "# data1 = pd.read_csv('./Data/data+column_relation.csv')\n",
        "# # verified  location tweet_language url avg_tweets_by_hour_of_day following/years followers/lastpost \n",
        "# data1=data1.loc[:,[ 'statuses', 'date_joined',\n",
        "#        'most_recent_post', 'following', 'followers',  'favourites', 'lists',\n",
        "#           'tweets_this_week','retweet', 'retweeted_count',\n",
        "#         'userNameScore', \n",
        "#        'avg_tweets_by_day_of_week', \n",
        "#        'engagment_rate', 'description', 'screen_name', 'account_type']]\n",
        "\n",
        "\n",
        "\n",
        "# df1=data1[data1.account_type== 1].head(11000)\n",
        "# df2=data1[data1.account_type== 0].head(11000)\n",
        "# df = pd.concat([df1, df2], ignore_index=True)\n",
        "# x=df.iloc[:, :-3]\n",
        "# y = df.account_type.values.tolist()\n",
        "\n",
        "# x_train, x_test, y_train, y_test = train_test_split(x, y, test_size=0.2, random_state=42,stratify=y)\n",
        "# pipeline = Pipeline([\n",
        "#     ('rf', DecisionTreeClassifier( random_state=42)) # Training a random forest classifier on the data\n",
        "# ])\n",
        "\n",
        "# # Train the pipeline on the data\n",
        "# pipeline.fit(x_train, y_train)\n",
        "\n",
        "# score = pipeline.score(x_test, y_test)\n",
        "# print(\"Accuracy: %.2f%%\" % (score * 100))\n",
        "# y_pred_train = pipeline.predict(x_train)\n",
        "# y_pred_test = pipeline.predict(x_test)\n",
        "# print(\"\\n Training Accuracy score:\",metrics.accuracy_score(y_train, y_pred_train))\n",
        "# print(\"Testing Accuracy score:\",metrics.accuracy_score(y_test, y_pred_test))\n",
        "# print(\"classification_report \\n \"+classification_report(y_test, y_pred_test))\n",
        "# cm = metrics.confusion_matrix(y_test, y_pred_test)\n",
        "# # print('Confusion matrix\\n', cm)\n",
        "\n",
        "# cm_matrixNB = pd.DataFrame(data=cm, )\n",
        "# sns.heatmap(cm_matrixNB, annot=True, fmt='d', cmap='YlGnBu')\n",
        "# plt.show()"
      ]
    },
    {
      "attachments": {},
      "cell_type": "markdown",
      "metadata": {},
      "source": [
        "# hyperparametre\n"
      ]
    },
    {
      "attachments": {},
      "cell_type": "markdown",
      "metadata": {},
      "source": [
        "oversimpling"
      ]
    },
    {
      "cell_type": "code",
      "execution_count": 13,
      "metadata": {},
      "outputs": [
        {
          "data": {
            "text/plain": [
              "{'criterion': 'gini',\n",
              " 'max_depth': 5,\n",
              " 'max_features': 'sqrt',\n",
              " 'min_samples_leaf': 4,\n",
              " 'min_samples_split': 2}"
            ]
          },
          "execution_count": 13,
          "metadata": {},
          "output_type": "execute_result"
        }
      ],
      "source": [
        "from sklearn.model_selection import GridSearchCV\n",
        "data1 = pd.read_csv('./Data/data+column_relation.csv')\n",
        "# verified  location tweet_language url avg_tweets_by_hour_of_day following/years followers/lastpost \n",
        "data1=data1.loc[:,[ 'statuses', 'date_joined',\n",
        "       'most_recent_post', 'following', 'followers',  'favourites', 'lists',\n",
        "          'tweets_this_week','retweet', 'retweeted_count',\n",
        "        'userNameScore', \n",
        "       'avg_tweets_by_day_of_week', \n",
        "       'engagment_rate', 'description', 'screen_name', 'account_type']]\n",
        "\n",
        "x=data1.iloc[:, :-3]\n",
        "y = data1.account_type.values.tolist()\n",
        "smote = SMOTE(random_state=10)\n",
        "x, y =smote.fit_resample(x, y)\n",
        "param_grid = {\n",
        "    'criterion': ['gini', 'entropy'],\n",
        "    'max_depth': [None, 5, 10, 15],\n",
        "    'min_samples_split': [2, 5, 10],\n",
        "    'min_samples_leaf': [1, 2, 4],\n",
        "    'max_features': [None, 'sqrt', 'log2']\n",
        "}\n",
        "# Conducting Parameter Optmization With Pipeline\n",
        "# Creating a grid search object\n",
        "clf_GS = GridSearchCV(estimator = DecisionTreeClassifier(), param_grid=param_grid, cv = 3)\n",
        "\n",
        "# Fitting the grid search\n",
        "clf_GS.fit(x, y)\n",
        "\n",
        "clf_GS.best_params_"
      ]
    },
    {
      "attachments": {},
      "cell_type": "markdown",
      "metadata": {},
      "source": [
        "with hyperparametre "
      ]
    },
    {
      "attachments": {},
      "cell_type": "markdown",
      "metadata": {},
      "source": [
        "oversimpling"
      ]
    },
    {
      "cell_type": "code",
      "execution_count": 28,
      "metadata": {},
      "outputs": [
        {
          "name": "stdout",
          "output_type": "stream",
          "text": [
            "Accuracy: 80.84%\n",
            "\n",
            " Training Accuracy score: 0.813894058498375\n",
            "Testing Accuracy score: 0.8083546272636374\n",
            "classification_report \n",
            "               precision    recall  f1-score   support\n",
            "\n",
            "           0       0.83      0.78      0.80      4501\n",
            "           1       0.79      0.84      0.81      4500\n",
            "\n",
            "    accuracy                           0.81      9001\n",
            "   macro avg       0.81      0.81      0.81      9001\n",
            "weighted avg       0.81      0.81      0.81      9001\n",
            "\n"
          ]
        },
        {
          "data": {
            "image/png": "[encoded data removed]",
            "text/plain": [
              "<Figure size 640x480 with 2 Axes>"
            ]
          },
          "metadata": {},
          "output_type": "display_data"
        }
      ],
      "source": [
        "data1 = pd.read_csv('./Data/data+column_relation.csv')\n",
        "# verified  location tweet_language url avg_tweets_by_hour_of_day following/years followers/lastpost \n",
        "data1=data1.loc[:,[ 'statuses', 'date_joined',\n",
        "       'most_recent_post', 'following', 'followers',  'favourites', 'lists',\n",
        "          'tweets_this_week','retweet', 'retweeted_count',\n",
        "        'userNameScore', \n",
        "       'avg_tweets_by_day_of_week', \n",
        "       'engagment_rate', 'description', 'screen_name', 'account_type']]\n",
        "\n",
        "\n",
        "#  for oversimpling\n",
        "{'criterion': 'gini',\n",
        " 'max_depth': 5,\n",
        " 'max_features': 'sqrt',\n",
        " 'min_samples_leaf': 4,\n",
        " 'min_samples_split': 2}\n",
        "\n",
        "from imblearn.over_sampling import SMOTE\n",
        "df=data1\n",
        "x=df.iloc[:, :-3]\n",
        "y = df.account_type.values.tolist()\n",
        "\n",
        "smote = SMOTE(random_state=10)\n",
        "x, y =smote.fit_resample(x, y)\n",
        "x_train, x_test, y_train, y_test = train_test_split(x, y, test_size=0.2, random_state=42,stratify=y)\n",
        "pipeline = Pipeline([\n",
        "    ('rf', DecisionTreeClassifier(criterion='gini',random_state=42,max_depth=5,max_features='sqrt',\n",
        "                                 min_samples_leaf=4,min_samples_split=2 )) # Training a random forest classifier on the data\n",
        "])\n",
        "\n",
        "# Train the pipeline on the data\n",
        "pipeline.fit(x_train, y_train)\n",
        "score = pipeline.score(x_test, y_test)\n",
        "print(\"Accuracy: %.2f%%\" % (score * 100))\n",
        "y_pred_train = pipeline.predict(x_train)\n",
        "y_pred_test = pipeline.predict(x_test)\n",
        "print(\"\\n Training Accuracy score:\",metrics.accuracy_score(y_train, y_pred_train))\n",
        "print(\"Testing Accuracy score:\",metrics.accuracy_score(y_test, y_pred_test))\n",
        "print(\"classification_report \\n \"+classification_report(y_test, y_pred_test))\n",
        "cm = metrics.confusion_matrix(y_test, y_pred_test)\n",
        "# print('Confusion matrix\\n', cm)\n",
        "cm_matrixNB = pd.DataFrame(data=cm, )\n",
        "sns.heatmap(cm_matrixNB, annot=True, fmt='d', cmap='YlGnBu')\n",
        "plt.show()"
      ]
    },
    {
      "attachments": {},
      "cell_type": "markdown",
      "metadata": {},
      "source": [
        "#  cross validation"
      ]
    },
    {
      "attachments": {},
      "cell_type": "markdown",
      "metadata": {},
      "source": [
        "random undersimpling"
      ]
    },
    {
      "cell_type": "code",
      "execution_count": 31,
      "metadata": {},
      "outputs": [
        {
          "name": "stdout",
          "output_type": "stream",
          "text": [
            "Average CV Score:  0.6761818181818182\n"
          ]
        }
      ],
      "source": [
        "\n",
        "# import numpy as np # linear algebra\n",
        "# import pandas as pd # data processing, CSV file I/O (e.g. pd.read_csv)\n",
        "# from sklearn.model_selection import train_test_split\n",
        "# from sklearn.tree import DecisionTreeClassifier\n",
        "# import gender_guesser.detector as gender\n",
        "# import matplotlib.pyplot as plt \n",
        "# from datetime import datetime\n",
        "# from sklearn import metrics\n",
        "# import seaborn as sns\n",
        "# import matplotlib.pyplot as plt\n",
        "# from sklearn.metrics import classification_report\n",
        "\n",
        "# data1 = pd.read_csv('./Data/data+column_relation.csv')\n",
        "# data1=data1.loc[:,[ 'statuses', 'date_joined',\n",
        "#        'most_recent_post', 'following', 'followers',  'favourites', 'lists',\n",
        "#           'tweets_this_week','retweet', 'retweeted_count',\n",
        "#         'userNameScore', \n",
        "#        'avg_tweets_by_day_of_week', \n",
        "#        'engagment_rate', 'description', 'screen_name', 'account_type']]\n",
        "# from sklearn.model_selection import KFold, cross_val_score\n",
        "# df1=data1[data1.account_type== 1].head(11000)\n",
        "# df2=data1[data1.account_type== 0].head(11000)\n",
        "# df = pd.concat([df1, df2], ignore_index=True)\n",
        "# x=df.iloc[:, :-3]\n",
        "# y = df.account_type.values.tolist()\n",
        "# k_folds = KFold(n_splits = 10)\n",
        "# clf=DecisionTreeClassifier()\n",
        "# scores = cross_val_score(clf, x, y, cv = k_folds)\n",
        "\n",
        "# print(\"Average CV Score: \", scores.mean())\n",
        "# # Average CV Score:  0.6761818181818182"
      ]
    },
    {
      "attachments": {},
      "cell_type": "markdown",
      "metadata": {},
      "source": [
        "oversimpling"
      ]
    },
    {
      "cell_type": "code",
      "execution_count": 13,
      "metadata": {},
      "outputs": [
        {
          "name": "stdout",
          "output_type": "stream",
          "text": [
            "Average CV Score:  0.653887284128924\n"
          ]
        }
      ],
      "source": [
        "import numpy as np # linear algebra\n",
        "import pandas as pd # data processing, CSV file I/O (e.g. pd.read_csv)\n",
        "from sklearn.model_selection import train_test_split\n",
        "from sklearn.tree import DecisionTreeClassifier\n",
        "import gender_guesser.detector as gender\n",
        "import matplotlib.pyplot as plt \n",
        "from datetime import datetime\n",
        "from sklearn import metrics\n",
        "import seaborn as sns\n",
        "import matplotlib.pyplot as plt\n",
        "from sklearn.metrics import classification_report\n",
        "from imblearn.over_sampling import SMOTE\n",
        "data1 = pd.read_csv('./Data/data+column_relation.csv')\n",
        "data1=data1.loc[:,[ 'statuses', 'date_joined',\n",
        "       'most_recent_post', 'following', 'followers',  'favourites', 'lists',\n",
        "          'tweets_this_week','retweet', 'retweeted_count',\n",
        "        'userNameScore', \n",
        "       'avg_tweets_by_day_of_week', \n",
        "       'engagment_rate', 'description', 'screen_name', 'account_type']]\n",
        "from sklearn.model_selection import KFold, cross_val_score\n",
        "from imblearn.over_sampling import SMOTE\n",
        "\n",
        "df=data1\n",
        "x=df.iloc[:, :-3]\n",
        "y = df.account_type.values.tolist()\n",
        "\n",
        "smote = SMOTE(random_state=10)\n",
        "x, y =smote.fit_resample(x, y)\n",
        "k_folds = KFold(n_splits = 5)\n",
        "clf=DecisionTreeClassifier()\n",
        "scores = cross_val_score(clf, x, y, cv = k_folds)\n",
        "\n",
        "print(\"Average CV Score: \", scores.mean())\n",
        "# Average CV Score:  0.653887284128924"
      ]
    }
  ],
  "metadata": {
    "kernelspec": {
      "display_name": "venv",
      "language": "python",
      "name": "python3"
    },
    "language_info": {
      "codemirror_mode": {
        "name": "ipython",
        "version": 3
      },
      "file_extension": ".py",
      "mimetype": "text/x-python",
      "name": "python",
      "nbconvert_exporter": "python",
      "pygments_lexer": "ipython3",
      "version": "3.10.11"
    },
    "vscode": {
      "interpreter": {
        "hash": "919f1a12e43db5d5accd328457ee16aa753b873ae7a9cf7fbc94ca5438fe0a95"
      }
    }
  },
  "nbformat": 4,
  "nbformat_minor": 4
}
