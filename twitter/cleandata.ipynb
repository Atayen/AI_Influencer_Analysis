{
 "cells": [
  {
   "cell_type": "code",
   "execution_count": 5,
   "metadata": {},
   "outputs": [
    {
     "name": "stderr",
     "output_type": "stream",
     "text": [
      "/tmp/ipykernel_30786/1307295824.py:4: DtypeWarning: Columns (23,25) have mixed types. Specify dtype option on import or set low_memory=False.\n",
      "  data = pd.read_csv(\"./twitterdataset/twitter_human_bots_dataset.csv\")\n"
     ]
    }
   ],
   "source": [
    "import pandas as pd\n",
    "from Twitterpreprocessor import TwitterPreprocessor\n",
    "data1 = pd.read_csv(\"./twitterdataset/twitter_human_bots_dataset1.csv\")\n",
    "data = pd.read_csv(\"./twitterdataset/twitter_human_bots_dataset.csv\")\n"
   ]
  },
  {
   "attachments": {},
   "cell_type": "markdown",
   "metadata": {},
   "source": [
    "# delet columns that contains nan values"
   ]
  },
  {
   "cell_type": "code",
   "execution_count": null,
   "metadata": {},
   "outputs": [],
   "source": [
    "\n",
    "#delet row that contains unnamed: 19 =NAN\n",
    "data =data[data[\"Unnamed: 19\"].isna()]\n",
    "data =data.drop(['geo_enabled','default_profile','default_profile_image','account_age_days'], axis=1)\n",
    "\n",
    "#delet columns that contains nan values\n",
    "data = data.dropna(axis=1, how='all')\n",
    "\n",
    "#delet rows that contains nan values\n",
    "data = data.dropna()\n",
    "# def funv(row):\n",
    "#     return TwitterPreprocessor(row[\"description\"]).fully_preprocess().text\n",
    "# data['newdesc'] = data.apply(lambda row :funv(row), axis=1)\n",
    "data\n",
    "\n",
    "\n",
    "\n",
    "\n",
    "data1 =data1.drop(['Unnamed: 0','geo_enabled','default_profile','default_profile_image','account_age_days','profile_image_path','profile_background_image_path','split'], axis=1)\n",
    "\n",
    "#delet columns that contains nan values\n",
    "data1 = data1.dropna(axis=1, how='all')\n",
    "#delet rows that contains nan values\n",
    "data1 = data1.dropna()\n",
    "data=pd.DataFrame(data)\n",
    "data1=pd.DataFrame(data1)\n",
    "data3 = data1.append(data, ignore_index = True)\n",
    "data3=data3.drop_duplicates(subset=\"screen_name\",keep='first')\n",
    "data3"
   ]
  }
 ],
 "metadata": {
  "kernelspec": {
   "display_name": "env",
   "language": "python",
   "name": "python3"
  },
  "language_info": {
   "codemirror_mode": {
    "name": "ipython",
    "version": 3
   },
   "file_extension": ".py",
   "mimetype": "text/x-python",
   "name": "python",
   "nbconvert_exporter": "python",
   "pygments_lexer": "ipython3",
   "version": "3.8.10"
  },
  "orig_nbformat": 4,
  "vscode": {
   "interpreter": {
    "hash": "19d2761fa1ea6cb7e49546003c2aca332118a5f9cc2218a9daa5172f81fee8a0"
   }
  }
 },
 "nbformat": 4,
 "nbformat_minor": 2
}
