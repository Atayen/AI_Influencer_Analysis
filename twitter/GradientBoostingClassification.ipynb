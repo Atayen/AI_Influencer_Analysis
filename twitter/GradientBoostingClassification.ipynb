{
  "cells": [
    {
      "attachments": {},
      "cell_type": "markdown",
      "metadata": {},
      "source": [
        "Import"
      ]
    },
    {
      "cell_type": "code",
      "execution_count": 1,
      "metadata": {
        "trusted": true
      },
      "outputs": [],
      "source": [
        "import pandas as pd\n",
        "import numpy as np\n",
        "from datetime import datetime\n",
        "from sklearn.model_selection import train_test_split\n",
        "from sklearn.pipeline import Pipeline\n",
        "from sklearn.ensemble import GradientBoostingClassifier\n",
        "from sklearn.metrics import accuracy_score\n",
        "from sklearn import metrics\n",
        "from sklearn.metrics import classification_report\n",
        "from sklearn.metrics import confusion_matrix\n",
        "from matplotlib import pyplot as plt\n",
        "import seaborn as sns"
      ]
    },
    {
      "attachments": {},
      "cell_type": "markdown",
      "metadata": {},
      "source": [
        "with out feature selection"
      ]
    },
    {
      "attachments": {},
      "cell_type": "markdown",
      "metadata": {},
      "source": [
        "TomekLinks undersimpling "
      ]
    },
    {
      "cell_type": "code",
      "execution_count": 2,
      "metadata": {},
      "outputs": [
        {
          "name": "stdout",
          "output_type": "stream",
          "text": [
            "\n",
            "Training Accuracy score: 0.8903005887821506\n",
            "Testing Accuracy score: 0.8823985125503564\n",
            "classification_report \n",
            "               precision    recall  f1-score   support\n",
            "\n",
            "           0       0.86      0.80      0.83      2296\n",
            "           1       0.90      0.93      0.91      4158\n",
            "\n",
            "    accuracy                           0.88      6454\n",
            "   macro avg       0.88      0.87      0.87      6454\n",
            "weighted avg       0.88      0.88      0.88      6454\n",
            "\n"
          ]
        },
        {
          "data": {
            "image/png": "[encoded data removed]",
            "text/plain": [
              "<Figure size 640x480 with 2 Axes>"
            ]
          },
          "metadata": {},
          "output_type": "display_data"
        }
      ],
      "source": [
        "from imblearn.under_sampling import TomekLinks\n",
        "df = pd.read_csv('./Data/data+descvf.csv')\n",
        "tl = TomekLinks()\n",
        "x=df.iloc[:, :-3]\n",
        "y = df.account_type.values.tolist()\n",
        "\n",
        "x, y = tl.fit_resample(x, y)\n",
        "x_train, x_test, y_train, y_test = train_test_split(x, y, test_size=0.2, random_state=48)\n",
        "pipe = Pipeline([('gradientBoost', GradientBoostingClassifier())])\n",
        "pipe.fit(x_train,y_train)\n",
        "\n",
        "y_pred_train = pipe.predict(x_train)\n",
        "y_pred_test = pipe.predict(x_test)\n",
        "print(\"\\nTraining Accuracy score:\",accuracy_score(y_train, y_pred_train))\n",
        "print(\"Testing Accuracy score:\",accuracy_score(y_test, y_pred_test))\n",
        "print(\"classification_report \\n \"+classification_report(y_test, y_pred_test))\n",
        "cm = metrics.confusion_matrix(y_test,  y_pred_test)\n",
        "\n",
        "cm_matrixNB = pd.DataFrame(data=cm\n",
        "                        )\n",
        "sns.heatmap(cm_matrixNB, annot=True, fmt='d', cmap='YlGnBu')\n",
        "plt.show()\n"
      ]
    },
    {
      "attachments": {},
      "cell_type": "markdown",
      "metadata": {},
      "source": [
        "random undersimpling"
      ]
    },
    {
      "cell_type": "code",
      "execution_count": 3,
      "metadata": {},
      "outputs": [],
      "source": [
        "# from sklearn.pipeline import Pipeline\n",
        "# from sklearn.preprocessing import StandardScaler\n",
        "# from sklearn.decomposition import PCA\n",
        "# from sklearn.ensemble import GradientBoostingClassifier\n",
        "# df = pd.read_csv('./Data/datavf.csv')\n",
        "\n",
        "# x=df.iloc[:, :-2]\n",
        "# y = df.account_type.values.tolist()\n",
        "# x_train, x_test, y_train, y_test = train_test_split(x, y, test_size=0.2, random_state=42,stratify=y)\n",
        "# pipeline = Pipeline([\n",
        "   \n",
        "#     ('rf', GradientBoostingClassifier()) # Training a random forest classifier on the data\n",
        "# ])\n",
        "\n",
        "# pipeline.fit(x_train, y_train)\n",
        "\n",
        "# score = pipeline.score(x_test, y_test)\n",
        "# print(\"Accuracy: %.2f%%\" % (score * 100))\n",
        "# y_pred_train = pipeline.predict(x_train)\n",
        "# y_pred_test = pipeline.predict(x_test)\n",
        "\n",
        "# print(\"\\nTraining Accuracy score:\",accuracy_score(y_train, y_pred_train))\n",
        "# print(\"Testing Accuracy score:\",accuracy_score(y_test, y_pred_test))\n",
        "# print(\"DecisionTreeClassifier score:\",pipeline.score(x_train, y_train))\n",
        "# print(\"classification_report \\n \"+classification_report(y_test, y_pred_test))\n",
        "\n",
        "# from sklearn.metrics import confusion_matrix\n",
        "# cm = metrics.confusion_matrix(y_test,  y_pred_test)\n",
        "\n",
        "# cm_matrixNB = pd.DataFrame(data=cm)\n",
        "# sns.heatmap(cm_matrixNB, annot=True, fmt='d', cmap='YlGnBu')\n",
        "# plt.show()"
      ]
    },
    {
      "attachments": {},
      "cell_type": "markdown",
      "metadata": {},
      "source": [
        "with StandardScaler et dimensionality reduction techniques."
      ]
    },
    {
      "cell_type": "code",
      "execution_count": 4,
      "metadata": {},
      "outputs": [],
      "source": [
        "# from sklearn.pipeline import Pipeline\n",
        "# from sklearn.preprocessing import StandardScaler\n",
        "# from sklearn.decomposition import PCA\n",
        "# from sklearn.ensemble import GradientBoostingClassifier\n",
        "# df = pd.read_csv('./Data/datavf.csv')\n",
        "\n",
        "# x=df.iloc[:, :-2]\n",
        "# y = df.account_type.values.tolist()\n",
        "# x_train, x_test, y_train, y_test = train_test_split(x, y, test_size=0.2, random_state=42,stratify=y)\n",
        "# pipeline = Pipeline([\n",
        "#     ('scaler', StandardScaler()), # Standardizing the data\n",
        "#     ('pca', PCA()), # Transforming the data with PCA\n",
        "#     ('rf', GradientBoostingClassifier()) # Training a random forest classifier on the data\n",
        "# ])\n",
        "\n",
        "# pipeline.fit(x_train, y_train)\n",
        "\n",
        "# score = pipeline.score(x_test, y_test)\n",
        "# print(\"Accuracy: %.2f%%\" % (score * 100))\n",
        "# y_pred_train = pipeline.predict(x_train)\n",
        "# y_pred_test = pipeline.predict(x_test)\n",
        "\n",
        "# print(\"\\nTraining Accuracy score:\",accuracy_score(y_train, y_pred_train))\n",
        "# print(\"Testing Accuracy score:\",accuracy_score(y_test, y_pred_test))\n",
        "# print(\"DecisionTreeClassifier score:\",pipeline.score(x_train, y_train))\n",
        "# print(\"classification_report \\n \"+classification_report(y_test, y_pred_test))\n",
        "\n",
        "# from sklearn.metrics import confusion_matrix\n",
        "# cm = metrics.confusion_matrix(y_test,  y_pred_test)\n",
        "\n",
        "# cm_matrixNB = pd.DataFrame(data=cm)\n",
        "# sns.heatmap(cm_matrixNB, annot=True, fmt='d', cmap='YlGnBu')\n",
        "# plt.show()"
      ]
    },
    {
      "attachments": {},
      "cell_type": "markdown",
      "metadata": {},
      "source": [
        "oversimpling"
      ]
    },
    {
      "cell_type": "code",
      "execution_count": 5,
      "metadata": {},
      "outputs": [
        {
          "name": "stdout",
          "output_type": "stream",
          "text": [
            "Accuracy: 87.57%\n",
            "\n",
            " Training Accuracy score: 0.8803088803088803\n",
            "Testing Accuracy score: 0.8756804799466726\n",
            "classification_report \n",
            "               precision    recall  f1-score   support\n",
            "\n",
            "           0       0.88      0.87      0.88      4501\n",
            "           1       0.87      0.88      0.88      4500\n",
            "\n",
            "    accuracy                           0.88      9001\n",
            "   macro avg       0.88      0.88      0.88      9001\n",
            "weighted avg       0.88      0.88      0.88      9001\n",
            "\n"
          ]
        },
        {
          "data": {
            "image/png": "[encoded data removed]",
            "text/plain": [
              "<Figure size 640x480 with 2 Axes>"
            ]
          },
          "metadata": {},
          "output_type": "display_data"
        }
      ],
      "source": [
        "\n",
        "import numpy as np # linear algebra\n",
        "import pandas as pd # data processing, CSV file I/O (e.g. pd.read_csv)\n",
        "from sklearn.model_selection import train_test_split\n",
        "from sklearn.ensemble import RandomForestClassifier\n",
        "import gender_guesser.detector as gender\n",
        "import matplotlib.pyplot as plt \n",
        "from datetime import datetime\n",
        "from sklearn import metrics\n",
        "import seaborn as sns\n",
        "import matplotlib.pyplot as plt\n",
        "from sklearn.metrics import classification_report\n",
        "from imblearn.over_sampling import SMOTE\n",
        "df = pd.read_csv('./Data/data+descvf.csv')\n",
        "\n",
        "x=df.iloc[:, :-3]\n",
        "y = df.account_type.values.tolist()\n",
        "smote = SMOTE(random_state=10)\n",
        "x, y =smote.fit_resample(x, y)\n",
        "x_train, x_test, y_train, y_test = train_test_split(x, y, test_size=0.2, random_state=42,stratify=y)\n",
        "pipeline = Pipeline([\n",
        "    ('rf', GradientBoostingClassifier()) # Training a random forest classifier on the data\n",
        "])\n",
        "\n",
        "# Train the pipeline on the data\n",
        "pipeline.fit(x_train, y_train)\n",
        "# feat_importances = pd.Series(pipeline['rf'].feature_importances_, index=x.columns)\n",
        "# feat_importances.nlargest(20).plot(kind='barh')\n",
        "# plt.show()\n",
        "score = pipeline.score(x_test, y_test)\n",
        "print(\"Accuracy: %.2f%%\" % (score * 100))\n",
        "y_pred_train = pipeline.predict(x_train)\n",
        "y_pred_test = pipeline.predict(x_test)\n",
        "print(\"\\n Training Accuracy score:\",metrics.accuracy_score(y_train, y_pred_train))\n",
        "print(\"Testing Accuracy score:\",metrics.accuracy_score(y_test, y_pred_test))\n",
        "print(\"classification_report \\n \"+classification_report(y_test, y_pred_test))\n",
        "cm = metrics.confusion_matrix(y_test, y_pred_test)\n",
        "# print('Confusion matrix\\n', cm)\n",
        "\n",
        "cm_matrixNB = pd.DataFrame(data=cm, )\n",
        "sns.heatmap(cm_matrixNB, annot=True, fmt='d', cmap='YlGnBu')\n",
        "plt.show()"
      ]
    },
    {
      "attachments": {},
      "cell_type": "markdown",
      "metadata": {},
      "source": [
        "# with feature selection"
      ]
    },
    {
      "attachments": {},
      "cell_type": "markdown",
      "metadata": {},
      "source": [
        "oversimpling"
      ]
    },
    {
      "cell_type": "code",
      "execution_count": 6,
      "metadata": {},
      "outputs": [
        {
          "name": "stdout",
          "output_type": "stream",
          "text": [
            "Accuracy: 87.03%\n",
            "\n",
            " Training Accuracy score: 0.8773922946584817\n",
            "Testing Accuracy score: 0.8703477391400956\n",
            "classification_report \n",
            "               precision    recall  f1-score   support\n",
            "\n",
            "           0       0.88      0.86      0.87      4501\n",
            "           1       0.86      0.88      0.87      4500\n",
            "\n",
            "    accuracy                           0.87      9001\n",
            "   macro avg       0.87      0.87      0.87      9001\n",
            "weighted avg       0.87      0.87      0.87      9001\n",
            "\n"
          ]
        },
        {
          "data": {
            "image/png": "[encoded data removed]",
            "text/plain": [
              "<Figure size 640x480 with 2 Axes>"
            ]
          },
          "metadata": {},
          "output_type": "display_data"
        }
      ],
      "source": [
        "import numpy as np # linear algebra\n",
        "import pandas as pd # data processing, CSV file I/O (e.g. pd.read_csv)\n",
        "from sklearn.model_selection import train_test_split\n",
        "from sklearn.tree import DecisionTreeClassifier\n",
        "import matplotlib.pyplot as plt \n",
        "from datetime import datetime\n",
        "from sklearn import metrics\n",
        "import seaborn as sns\n",
        "import matplotlib.pyplot as plt\n",
        "from sklearn.metrics import classification_report\n",
        "from imblearn.over_sampling import SMOTE\n",
        "data1 = pd.read_csv('./Data/data+column_relation.csv')\n",
        "# verified  location tweet_language url avg_tweets_by_hour_of_day following/years followers/lastpost \n",
        "data1=data1.loc[:,[ 'statuses', 'date_joined',\n",
        "       'most_recent_post', 'following', 'followers',  'favourites', 'lists',\n",
        "          'tweets_this_week','retweet', 'retweeted_count',\n",
        "        'userNameScore', \n",
        "       'avg_tweets_by_day_of_week', \n",
        "       'engagment_rate', 'description', 'screen_name', 'account_type']]\n",
        "\n",
        "\n",
        "\n",
        "from imblearn.over_sampling import SMOTE\n",
        "df=data1\n",
        "x=df.iloc[:, :-3]\n",
        "y = df.account_type.values.tolist()\n",
        "\n",
        "smote = SMOTE(random_state=10)\n",
        "x, y =smote.fit_resample(x, y)\n",
        "x_train, x_test, y_train, y_test = train_test_split(x, y, test_size=0.2, random_state=42,stratify=y)\n",
        "pipeline = Pipeline([\n",
        "    ('rf', GradientBoostingClassifier()) # Training a random forest classifier on the data\n",
        "])\n",
        "\n",
        "# Train the pipeline on the data\n",
        "pipeline.fit(x_train, y_train)\n",
        "score = pipeline.score(x_test, y_test)\n",
        "print(\"Accuracy: %.2f%%\" % (score * 100))\n",
        "y_pred_train = pipeline.predict(x_train)\n",
        "y_pred_test = pipeline.predict(x_test)\n",
        "print(\"\\n Training Accuracy score:\",metrics.accuracy_score(y_train, y_pred_train))\n",
        "print(\"Testing Accuracy score:\",metrics.accuracy_score(y_test, y_pred_test))\n",
        "print(\"classification_report \\n \"+classification_report(y_test, y_pred_test))\n",
        "cm = metrics.confusion_matrix(y_test, y_pred_test)\n",
        "# print('Confusion matrix\\n', cm)\n",
        "cm_matrixNB = pd.DataFrame(data=cm, )\n",
        "sns.heatmap(cm_matrixNB, annot=True, fmt='d', cmap='YlGnBu')\n",
        "plt.show()"
      ]
    },
    {
      "attachments": {},
      "cell_type": "markdown",
      "metadata": {},
      "source": [
        "random undersimpling"
      ]
    },
    {
      "cell_type": "code",
      "execution_count": 7,
      "metadata": {},
      "outputs": [],
      "source": [
        "# df1=data1[data1.account_type== 1].head(11000)\n",
        "# df2=data1[data1.account_type== 0].head(11000)\n",
        "# df = pd.concat([df1, df2], ignore_index=True)\n",
        "# x=df.iloc[:, :-3]\n",
        "# y = df.account_type.values.tolist()\n",
        "\n",
        "# x_train, x_test, y_train, y_test = train_test_split(x, y, test_size=0.2, random_state=42,stratify=y)\n",
        "# pipeline = Pipeline([\n",
        "#     ('rf', GradientBoostingClassifier()) # Training a random forest classifier on the data\n",
        "# ])\n",
        "\n",
        "# # Train the pipeline on the data\n",
        "# pipeline.fit(x_train, y_train)\n",
        "\n",
        "# score = pipeline.score(x_test, y_test)\n",
        "# print(\"Accuracy: %.2f%%\" % (score * 100))\n",
        "# y_pred_train = pipeline.predict(x_train)\n",
        "# y_pred_test = pipeline.predict(x_test)\n",
        "# print(\"\\n Training Accuracy score:\",metrics.accuracy_score(y_train, y_pred_train))\n",
        "# print(\"Testing Accuracy score:\",metrics.accuracy_score(y_test, y_pred_test))\n",
        "# print(\"classification_report \\n \"+classification_report(y_test, y_pred_test))\n",
        "# cm = metrics.confusion_matrix(y_test, y_pred_test)\n",
        "# # print('Confusion matrix\\n', cm)\n",
        "\n",
        "# cm_matrixNB = pd.DataFrame(data=cm, )\n",
        "# sns.heatmap(cm_matrixNB, annot=True, fmt='d', cmap='YlGnBu')\n",
        "# plt.show()"
      ]
    },
    {
      "attachments": {},
      "cell_type": "markdown",
      "metadata": {},
      "source": [
        "undersampling"
      ]
    },
    {
      "cell_type": "code",
      "execution_count": 8,
      "metadata": {},
      "outputs": [
        {
          "name": "stdout",
          "output_type": "stream",
          "text": [
            "Accuracy: 87.67%\n",
            "\n",
            " Training Accuracy score: 0.8877789917277977\n",
            "Testing Accuracy score: 0.8767166042446941\n",
            "classification_report \n",
            "               precision    recall  f1-score   support\n",
            "\n",
            "           0       0.86      0.79      0.82      2309\n",
            "           1       0.89      0.92      0.91      4099\n",
            "\n",
            "    accuracy                           0.88      6408\n",
            "   macro avg       0.87      0.86      0.86      6408\n",
            "weighted avg       0.88      0.88      0.88      6408\n",
            "\n"
          ]
        },
        {
          "data": {
            "image/png": "[encoded data removed]",
            "text/plain": [
              "<Figure size 640x480 with 2 Axes>"
            ]
          },
          "metadata": {},
          "output_type": "display_data"
        }
      ],
      "source": [
        "import numpy as np # linear algebra\n",
        "import pandas as pd # data processing, CSV file I/O (e.g. pd.read_csv)\n",
        "from sklearn.model_selection import train_test_split\n",
        "from sklearn.tree import DecisionTreeClassifier\n",
        "import matplotlib.pyplot as plt \n",
        "from datetime import datetime\n",
        "from sklearn import metrics\n",
        "import seaborn as sns\n",
        "import matplotlib.pyplot as plt\n",
        "from sklearn.metrics import classification_report\n",
        "from imblearn.over_sampling import SMOTE\n",
        "data1 = pd.read_csv('./Data/data+column_relation.csv')\n",
        "# verified  location tweet_language url avg_tweets_by_hour_of_day following/years followers/lastpost \n",
        "data1=data1.loc[:,[ 'statuses', 'date_joined',\n",
        "       'most_recent_post', 'following', 'followers',  'favourites', 'lists',\n",
        "          'tweets_this_week','retweet', 'retweeted_count',\n",
        "        'userNameScore', \n",
        "       'avg_tweets_by_day_of_week', \n",
        "       'engagment_rate', 'description', 'screen_name', 'account_type']]\n",
        "\n",
        "\n",
        "\n",
        "from imblearn.over_sampling import SMOTE\n",
        "df=data1\n",
        "x=df.iloc[:, :-3]\n",
        "y = df.account_type.values.tolist()\n",
        "\n",
        "tl = TomekLinks()\n",
        "x, y =tl.fit_resample(x, y)\n",
        "x_train, x_test, y_train, y_test = train_test_split(x, y, test_size=0.2, random_state=42,stratify=y)\n",
        "pipeline = Pipeline([\n",
        "    ('rf', GradientBoostingClassifier()) # Training a random forest classifier on the data\n",
        "])\n",
        "\n",
        "# Train the pipeline on the data\n",
        "pipeline.fit(x_train, y_train)\n",
        "score = pipeline.score(x_test, y_test)\n",
        "print(\"Accuracy: %.2f%%\" % (score * 100))\n",
        "y_pred_train = pipeline.predict(x_train)\n",
        "y_pred_test = pipeline.predict(x_test)\n",
        "print(\"\\n Training Accuracy score:\",metrics.accuracy_score(y_train, y_pred_train))\n",
        "print(\"Testing Accuracy score:\",metrics.accuracy_score(y_test, y_pred_test))\n",
        "print(\"classification_report \\n \"+classification_report(y_test, y_pred_test))\n",
        "cm = metrics.confusion_matrix(y_test, y_pred_test)\n",
        "# print('Confusion matrix\\n', cm)\n",
        "cm_matrixNB = pd.DataFrame(data=cm, )\n",
        "sns.heatmap(cm_matrixNB, annot=True, fmt='d', cmap='YlGnBu')\n",
        "plt.show()"
      ]
    },
    {
      "attachments": {},
      "cell_type": "markdown",
      "metadata": {},
      "source": [
        "# hyperparametre\n"
      ]
    },
    {
      "cell_type": "code",
      "execution_count": null,
      "metadata": {},
      "outputs": [],
      "source": [
        "from sklearn.model_selection import GridSearchCV\n",
        "data1 = pd.read_csv('./Data/data+column_relation.csv')\n",
        "# verified  location tweet_language url avg_tweets_by_hour_of_day following/years followers/lastpost \n",
        "data1=data1.loc[:,[ 'statuses', 'date_joined',\n",
        "       'most_recent_post', 'following', 'followers',  'favourites', 'lists',\n",
        "          'tweets_this_week','retweet', 'retweeted_count',\n",
        "        'userNameScore', \n",
        "       'avg_tweets_by_day_of_week', \n",
        "       'engagment_rate', 'description', 'screen_name', 'account_type']]\n",
        "\n",
        "x=data1.iloc[:, :-3]\n",
        "y = data1.account_type.values.tolist()\n",
        "smote = SMOTE(random_state=10)\n",
        "x, y =smote.fit_resample(x, y)\n",
        "# Creating lists of parameter for GradientBoostingClassifier\n",
        "param_grid = {\n",
        "    'n_estimators': [50, 100, 150],\n",
        "    'learning_rate': [0.01, 0.1, 0.2],\n",
        "    'max_depth': [3, 4, 5],\n",
        "    'min_samples_split': [2, 3, 4],\n",
        "    'min_samples_leaf': [1, 2, 3]\n",
        "}\n",
        "# Conducting Parameter Optmization With Pipeline\n",
        "# Creating a grid search object\n",
        "clf_GS = GridSearchCV(estimator = GradientBoostingClassifier(), param_grid=param_grid, cv = 3)\n",
        "\n",
        "# Fitting the grid search\n",
        "clf_GS.fit(x, y)\n",
        "\n",
        "clf_GS.best_params_"
      ]
    },
    {
      "attachments": {},
      "cell_type": "markdown",
      "metadata": {},
      "source": [
        "#  cross validation"
      ]
    },
    {
      "attachments": {},
      "cell_type": "markdown",
      "metadata": {},
      "source": [
        "oversimpling"
      ]
    },
    {
      "cell_type": "code",
      "execution_count": 10,
      "metadata": {},
      "outputs": [
        {
          "name": "stdout",
          "output_type": "stream",
          "text": [
            "Average CV Score:  0.7443898826056363\n"
          ]
        }
      ],
      "source": [
        "\n",
        "import numpy as np # linear algebra\n",
        "import pandas as pd # data processing, CSV file I/O (e.g. pd.read_csv)\n",
        "from sklearn.model_selection import train_test_split\n",
        "import gender_guesser.detector as gender\n",
        "import matplotlib.pyplot as plt \n",
        "from datetime import datetime\n",
        "from sklearn import metrics\n",
        "import seaborn as sns\n",
        "import matplotlib.pyplot as plt\n",
        "from sklearn.metrics import classification_report\n",
        "from imblearn.over_sampling import SMOTE\n",
        "data1 = pd.read_csv('./Data/data+column_relation.csv')\n",
        "data1=data1.loc[:,[ 'statuses', 'date_joined',\n",
        "       'most_recent_post', 'following', 'followers',  'favourites', 'lists',\n",
        "          'tweets_this_week','retweet', 'retweeted_count',\n",
        "        'userNameScore', \n",
        "       'avg_tweets_by_day_of_week', \n",
        "       'engagment_rate', 'description', 'screen_name', 'account_type']]\n",
        "from sklearn.model_selection import KFold, cross_val_score\n",
        "from imblearn.over_sampling import SMOTE\n",
        "\n",
        "df=data1\n",
        "x=df.iloc[:, :-3]\n",
        "y = df.account_type.values.tolist()\n",
        "\n",
        "smote = SMOTE(random_state=10)\n",
        "x, y =smote.fit_resample(x, y)\n",
        "k_folds = KFold(n_splits = 5)\n",
        "clf=GradientBoostingClassifier()\n",
        "scores = cross_val_score(clf, x, y, cv = k_folds)\n",
        "\n",
        "print(\"Average CV Score: \", scores.mean())\n",
        "# Average CV Score:  0.7443898826056363 / 87"
      ]
    },
    {
      "cell_type": "code",
      "execution_count": 9,
      "metadata": {},
      "outputs": [
        {
          "name": "stdout",
          "output_type": "stream",
          "text": [
            "Average CV Score:  0.708590909090909\n"
          ]
        }
      ],
      "source": [
        "# random undersimpling\n",
        "# import numpy as np # linear algebra\n",
        "# import pandas as pd # data processing, CSV file I/O (e.g. pd.read_csv)\n",
        "# from sklearn.model_selection import train_test_split\n",
        "# import gender_guesser.detector as gender\n",
        "# import matplotlib.pyplot as plt \n",
        "# from datetime import datetime\n",
        "# from sklearn import metrics\n",
        "# import seaborn as sns\n",
        "# import matplotlib.pyplot as plt\n",
        "# from sklearn.metrics import classification_report\n",
        "# from imblearn.over_sampling import SMOTE\n",
        "# data1 = pd.read_csv('./Data/data+column_relation.csv')\n",
        "# data1=data1.loc[:,[ 'statuses', 'date_joined',\n",
        "#        'most_recent_post', 'following', 'followers',  'favourites', 'lists',\n",
        "#           'tweets_this_week','retweet', 'retweeted_count',\n",
        "#         'userNameScore', \n",
        "#        'avg_tweets_by_day_of_week', \n",
        "#        'engagment_rate', 'description', 'screen_name', 'account_type']]\n",
        "# from sklearn.model_selection import KFold, cross_val_score\n",
        "\n",
        "# df1=data1[data1.account_type== 1].head(11000)\n",
        "# df2=data1[data1.account_type== 0].head(11000)\n",
        "# df = pd.concat([df1, df2], ignore_index=True)\n",
        "# x=df.iloc[:, :-3]\n",
        "# y = df.account_type.values.tolist()\n",
        "# k_folds = KFold(n_splits = 10)\n",
        "# clf=GradientBoostingClassifier()\n",
        "# scores = cross_val_score(clf, x, y, cv = k_folds)\n",
        "\n",
        "# print(\"Average CV Score: \", scores.mean())\n",
        "# # Average CV Score:  0.708590909090909 /93"
      ]
    }
  ],
  "metadata": {
    "kernelspec": {
      "display_name": "venv",
      "language": "python",
      "name": "python3"
    },
    "language_info": {
      "codemirror_mode": {
        "name": "ipython",
        "version": 3
      },
      "file_extension": ".py",
      "mimetype": "text/x-python",
      "name": "python",
      "nbconvert_exporter": "python",
      "pygments_lexer": "ipython3",
      "version": "3.10.11"
    },
    "vscode": {
      "interpreter": {
        "hash": "919f1a12e43db5d5accd328457ee16aa753b873ae7a9cf7fbc94ca5438fe0a95"
      }
    }
  },
  "nbformat": 4,
  "nbformat_minor": 4
}
