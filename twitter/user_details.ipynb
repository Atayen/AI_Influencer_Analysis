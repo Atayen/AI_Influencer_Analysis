{
 "cells": [
  {
   "cell_type": "code",
   "execution_count": 2,
   "metadata": {},
   "outputs": [],
   "source": [
    "import datetime\n",
    "import time\n",
    "import tweepy\n",
    "import pandas as pd\n",
    "import numpy as np \n"
   ]
  },
  {
   "attachments": {},
   "cell_type": "markdown",
   "metadata": {},
   "source": [
    "# get_details function"
   ]
  },
  {
   "cell_type": "code",
   "execution_count": 36,
   "metadata": {},
   "outputs": [
    {
     "name": "stdout",
     "output_type": "stream",
     "text": [
      "{'image': 'https://pbs.twimg.com/profile_images/1490234654955380742/KSR1C5CT_normal.jpg', 'background_image': None, 'verified': False, 'statuses': 1325, 'screen_name': 'BabyDogeCEX', 'display_name': 'BabyDoge', 'description': 'BabyDogeCoin is a meme with a mission!🦴\\nNot affiliated with @babydogecoin', 'location': 'United States', 'url': 'https://t.co/p1LHo6yVc8', 'date_joined': '2022-02-06 07:55:04', 'most_recent_post': '2023-02-20 10:12:11', 'following': 74, 'followers': 13275, 'likes': 254, 'lists': 14, 'twitter_user_id': '1490232458981388288', 'tweet_language': 'en', 'tweets_this_week': 46, 'retweet_ratio': 1, 'retweeted_count': 51839, 'tweets_by_day_of_week': [31, 29, 31, 26, 27, 30, 26], 'tweets_by_hour_of_day': [0, 0, 8, 4, 5, 7, 6, 5, 12, 8, 18, 13, 10, 8, 12, 17, 9, 37, 15, 4, 2, 0, 0, 0]}\n"
     ]
    }
   ],
   "source": [
    "\n",
    "consumer_key =\"tH7AnhdvgOndxvZOyeeyfHOVG\"\n",
    "consumer_secret =\"14mR3PZn3osH1OBPjtJWJT7IycQB5kOF4PmIuDjHvFHuEZppk0\"\n",
    "access_key =\"2616201013-Bow3klvUxQbYXuO22nCm4tdH4Wxvsr6OE8PGXPT\"\n",
    "access_secret =\"2iAs1oM1dhVoUX4gnRR9dGCPI4Ayc8ZbfJJymbqfm5otP\"\n",
    "\n",
    "auth = tweepy.OAuthHandler(consumer_key, consumer_secret)\n",
    "auth.set_access_token(access_key, access_secret)\n",
    "api = tweepy.API(auth,wait_on_rate_limit=True)\n",
    "def convert_twitter_datetime_to_string(date):\n",
    "\treturn time.strftime('%Y-%m-%d %H:%M:%S', time.strptime(date,'%a %b %d %H:%M:%S +0000 %Y'))\n",
    "\n",
    "def convert_string_to_datetime(date):\n",
    "\treturn datetime.datetime.strptime(date, \"%Y-%m-%d %H:%M:%S\")\n",
    "\n",
    "def get_details(username):\n",
    "\t\n",
    "\ttry:\n",
    "\t\tuserdata=api.get_user(screen_name=username)\n",
    "\t\t\n",
    "\texcept Exception as e:\n",
    "\t\treturn \n",
    "\t\t# 200 is the max \n",
    "\t\n",
    "\tend_date = datetime.datetime.now()\n",
    "\tstart_date = datetime.datetime.now() - datetime.timedelta(days=7)\n",
    "\tuser = userdata._json\n",
    "\tnum_of_retweets_by_user = 0\n",
    "\tnum_of_tweets_this_week = 0\n",
    "\tmonday_to_sunday = [0] * 7\n",
    "\ttwelve_am_to_eleven_pm = [0] * 24\n",
    "\tretweeted=0\n",
    "\tmost_recent_post=0\n",
    "\ttweet_language=''\n",
    "\ttry:\n",
    "\t\ttimeline = api.user_timeline(screen_name=username, count=200,include_rts=True, tweet_mode=\"extended\")\n",
    "\t\tif len(timeline) >= 1:\n",
    "\t\t\tmost_recent_post=convert_twitter_datetime_to_string(timeline[0]._json[\"created_at\"])\n",
    "\t\t\ttweet_language=timeline[0]._json[\"lang\"]\n",
    "\t\t\tfor tweet in timeline:\n",
    "\t\t\t\ttweet = tweet._json\n",
    "\t\t\t\tretweeted+=tweet[\"retweet_count\"]\n",
    "\t\t\t\tif (\"retweeted_status\" in tweet):\n",
    "\t\t\t\t\tnum_of_retweets_by_user += 1\n",
    "\t\t\t\ttweet_time = convert_string_to_datetime(convert_twitter_datetime_to_string(tweet[\"created_at\"]))\n",
    "\t\t\t\tif (tweet_time < end_date and tweet_time > start_date):\n",
    "\t\t\t\t\tnum_of_tweets_this_week += 1\n",
    "\t\t\t\tmonday_to_sunday[datetime.datetime.weekday(tweet_time)] += 1\n",
    "\t\t\t\ttwelve_am_to_eleven_pm[tweet_time.hour] += 1\n",
    "\t\telse:\n",
    "\t\t\tpass\n",
    "\texcept Exception as e:\n",
    "\t\tpass\n",
    "\t\n",
    "\t\n",
    "\tuser_data = {\n",
    "\t\t\"image\": user[\"profile_image_url_https\"],\n",
    "\t\t\"background_image\": user[\"profile_background_image_url\"],\n",
    "\t\t\"verified\": user[\"verified\"],\n",
    "\t\t\"statuses\": user[\"statuses_count\"],\n",
    "\t\t\"screen_name\": user[\"screen_name\"],\n",
    "\t\t\"display_name\": user[\"name\"],\n",
    "\t\t\"description\": user[\"description\"],\n",
    "\t\t\"location\": user[\"location\"],\n",
    "\t\t\"url\": user[\"url\"],\n",
    "\t\t\"date_joined\": convert_twitter_datetime_to_string(user[\"created_at\"]),\n",
    "\t\t\"most_recent_post\": most_recent_post,\n",
    "\t\t\"statuses\": user[\"statuses_count\"],\n",
    "\t\t\"following\": user[\"friends_count\"],\n",
    "\t\t\"followers\": user[\"followers_count\"],\n",
    "\t\t\"likes\": user[\"favourites_count\"],\n",
    "\t\t\"lists\": user[\"listed_count\"],\n",
    "\t\t\"twitter_user_id\": user[\"id_str\"],\n",
    "\t\t\"tweet_language\": tweet_language,\n",
    "\t\t\"tweets_this_week\": num_of_tweets_this_week,\n",
    "\t\t\"retweet_ratio\": int(num_of_retweets_by_user / 2),\n",
    "\t\t\"retweeted_count\": int(retweeted),\n",
    "\t\t\"tweets_by_day_of_week\": monday_to_sunday,\n",
    "\t\t\"tweets_by_hour_of_day\": twelve_am_to_eleven_pm,\n",
    "\t}\n",
    "\treturn (user_data)\n",
    "print(get_details('BabyDogeCEX'))\n"
   ]
  },
  {
   "attachments": {},
   "cell_type": "markdown",
   "metadata": {},
   "source": [
    "# split data "
   ]
  },
  {
   "cell_type": "code",
   "execution_count": null,
   "metadata": {},
   "outputs": [],
   "source": [
    "df = pd.read_csv(\"./cleandata.csv\")\n",
    "\n",
    "groups = df.groupby(np.arange(len(df.index))//20)\n",
    "i=0\n",
    "for (frameno, frame) in groups:\n",
    "    i+=1\n",
    "    frame.to_csv(\"./twitterdataset/data/%s.csv\" % frameno)"
   ]
  },
  {
   "cell_type": "code",
   "execution_count": 56,
   "metadata": {},
   "outputs": [
    {
     "name": "stdout",
     "output_type": "stream",
     "text": [
      "req = 900 please wait 15 minutes\n",
      "15 minutes\n",
      "req = 900 please wait 15 minutes\n",
      "15 minutes\n",
      "req = 900 please wait 15 minutes\n",
      "15 minutes\n",
      "req = 900 please wait 15 minutes\n",
      "15 minutes\n",
      "req = 900 please wait 15 minutes\n",
      "15 minutes\n",
      "req = 900 please wait 15 minutes\n",
      "15 minutes\n",
      "req = 900 please wait 15 minutes\n",
      "15 minutes\n",
      "req = 900 please wait 15 minutes\n"
     ]
    }
   ],
   "source": [
    "alldata=[]\n",
    "nbr_req=0\n",
    "data=pd.read_csv(\"./cleandata.csv\")\n",
    "for index, row in data.iterrows():\n",
    "    nbr_req += 1\n",
    "    u = []\n",
    "    u=get_details(row['screen_name'])\n",
    "    if u :\n",
    "        u['account_type']=row['account_type']\n",
    "        alldata.append(u)\n",
    "    if nbr_req==900:\n",
    "        print('req = 900 please wait 15 minutes')\n",
    "        nbr_req=0\n",
    "        time.sleep(900)\n",
    "        print('15 minutes')\n"
   ]
  },
  {
   "cell_type": "code",
   "execution_count": 40,
   "metadata": {},
   "outputs": [
    {
     "data": {
      "text/html": [
       "<div>\n",
       "<style scoped>\n",
       "    .dataframe tbody tr th:only-of-type {\n",
       "        vertical-align: middle;\n",
       "    }\n",
       "\n",
       "    .dataframe tbody tr th {\n",
       "        vertical-align: top;\n",
       "    }\n",
       "\n",
       "    .dataframe thead th {\n",
       "        text-align: right;\n",
       "    }\n",
       "</style>\n",
       "<table border=\"1\" class=\"dataframe\">\n",
       "  <thead>\n",
       "    <tr style=\"text-align: right;\">\n",
       "      <th></th>\n",
       "    </tr>\n",
       "  </thead>\n",
       "  <tbody>\n",
       "  </tbody>\n",
       "</table>\n",
       "</div>"
      ],
      "text/plain": [
       "Empty DataFrame\n",
       "Columns: []\n",
       "Index: []"
      ]
     },
     "execution_count": 40,
     "metadata": {},
     "output_type": "execute_result"
    }
   ],
   "source": [
    "alldata\n",
    "alldata.to_json(\"./twitterdataset/data.json\")"
   ]
  }
 ],
 "metadata": {
  "kernelspec": {
   "display_name": "env",
   "language": "python",
   "name": "python3"
  },
  "language_info": {
   "codemirror_mode": {
    "name": "ipython",
    "version": 3
   },
   "file_extension": ".py",
   "mimetype": "text/x-python",
   "name": "python",
   "nbconvert_exporter": "python",
   "pygments_lexer": "ipython3",
   "version": "3.8.10"
  },
  "orig_nbformat": 4,
  "vscode": {
   "interpreter": {
    "hash": "19d2761fa1ea6cb7e49546003c2aca332118a5f9cc2218a9daa5172f81fee8a0"
   }
  }
 },
 "nbformat": 4,
 "nbformat_minor": 2
}
