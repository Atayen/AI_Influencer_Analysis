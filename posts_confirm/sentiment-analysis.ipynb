{
 "cells": [
  {
   "cell_type": "markdown",
   "id": "1a35e3cb",
   "metadata": {
    "papermill": {
     "duration": 0.004663,
     "end_time": "2023-03-12T14:52:42.827479",
     "exception": false,
     "start_time": "2023-03-12T14:52:42.822816",
     "status": "completed"
    },
    "tags": []
   },
   "source": [
    "# **1. Import Data and Library**"
   ]
  },
  {
   "cell_type": "code",
   "execution_count": 1,
   "id": "c1d3f208",
   "metadata": {
    "execution": {
     "iopub.execute_input": "2023-03-12T14:52:42.837340Z",
     "iopub.status.busy": "2023-03-12T14:52:42.836993Z",
     "iopub.status.idle": "2023-03-12T14:53:01.365893Z",
     "shell.execute_reply": "2023-03-12T14:53:01.364381Z"
    },
    "papermill": {
     "duration": 18.536658,
     "end_time": "2023-03-12T14:53:01.368244",
     "exception": false,
     "start_time": "2023-03-12T14:52:42.831586",
     "status": "completed"
    },
    "tags": []
   },
   "outputs": [
    {
     "data": {
      "text/html": [
       "<div>\n",
       "<style scoped>\n",
       "    .dataframe tbody tr th:only-of-type {\n",
       "        vertical-align: middle;\n",
       "    }\n",
       "\n",
       "    .dataframe tbody tr th {\n",
       "        vertical-align: top;\n",
       "    }\n",
       "\n",
       "    .dataframe thead th {\n",
       "        text-align: right;\n",
       "    }\n",
       "</style>\n",
       "<table border=\"1\" class=\"dataframe\">\n",
       "  <thead>\n",
       "    <tr style=\"text-align: right;\">\n",
       "      <th></th>\n",
       "      <th>File Name</th>\n",
       "      <th>Caption</th>\n",
       "      <th>LABEL</th>\n",
       "    </tr>\n",
       "  </thead>\n",
       "  <tbody>\n",
       "    <tr>\n",
       "      <th>0</th>\n",
       "      <td>1.txt</td>\n",
       "      <td>How I feel today #legday #jelly #aching #gym</td>\n",
       "      <td>negative</td>\n",
       "    </tr>\n",
       "    <tr>\n",
       "      <th>1</th>\n",
       "      <td>10.txt</td>\n",
       "      <td>@ArrivaTW absolute disgrace two carriages from...</td>\n",
       "      <td>negative</td>\n",
       "    </tr>\n",
       "    <tr>\n",
       "      <th>2</th>\n",
       "      <td>100.txt</td>\n",
       "      <td>This is my Valentine's from 1 of my nephews. I...</td>\n",
       "      <td>positive</td>\n",
       "    </tr>\n",
       "    <tr>\n",
       "      <th>3</th>\n",
       "      <td>1000.txt</td>\n",
       "      <td>betterfeelingfilms: RT via Instagram: First da...</td>\n",
       "      <td>neutral</td>\n",
       "    </tr>\n",
       "    <tr>\n",
       "      <th>4</th>\n",
       "      <td>1001.txt</td>\n",
       "      <td>Zoe's first love #Rattled @JohnnyHarper15</td>\n",
       "      <td>positive</td>\n",
       "    </tr>\n",
       "    <tr>\n",
       "      <th>...</th>\n",
       "      <td>...</td>\n",
       "      <td>...</td>\n",
       "      <td>...</td>\n",
       "    </tr>\n",
       "    <tr>\n",
       "      <th>4864</th>\n",
       "      <td>995.txt</td>\n",
       "      <td>OMG. Well done #Eskom! 'Man dies during #LoadS...</td>\n",
       "      <td>positive</td>\n",
       "    </tr>\n",
       "    <tr>\n",
       "      <th>4865</th>\n",
       "      <td>996.txt</td>\n",
       "      <td>Feelin' the love in here! #ValentinesDay #caring</td>\n",
       "      <td>positive</td>\n",
       "    </tr>\n",
       "    <tr>\n",
       "      <th>4866</th>\n",
       "      <td>997.txt</td>\n",
       "      <td>#blue #eyes can't be #beaten</td>\n",
       "      <td>neutral</td>\n",
       "    </tr>\n",
       "    <tr>\n",
       "      <th>4867</th>\n",
       "      <td>998.txt</td>\n",
       "      <td>LA CHUCHA LOUUU TE CHUPO LOS OJOS..!</td>\n",
       "      <td>neutral</td>\n",
       "    </tr>\n",
       "    <tr>\n",
       "      <th>4868</th>\n",
       "      <td>999.txt</td>\n",
       "      <td>#colorsplash_bw #zealous Remedios #herbales y ...</td>\n",
       "      <td>positive</td>\n",
       "    </tr>\n",
       "  </tbody>\n",
       "</table>\n",
       "<p>4869 rows × 3 columns</p>\n",
       "</div>"
      ],
      "text/plain": [
       "     File Name                                            Caption     LABEL\n",
       "0        1.txt      How I feel today #legday #jelly #aching #gym   negative\n",
       "1       10.txt  @ArrivaTW absolute disgrace two carriages from...  negative\n",
       "2      100.txt  This is my Valentine's from 1 of my nephews. I...  positive\n",
       "3     1000.txt  betterfeelingfilms: RT via Instagram: First da...   neutral\n",
       "4     1001.txt         Zoe's first love #Rattled @JohnnyHarper15   positive\n",
       "...        ...                                                ...       ...\n",
       "4864   995.txt  OMG. Well done #Eskom! 'Man dies during #LoadS...  positive\n",
       "4865   996.txt  Feelin' the love in here! #ValentinesDay #caring   positive\n",
       "4866   997.txt                      #blue #eyes can't be #beaten    neutral\n",
       "4867   998.txt              LA CHUCHA LOUUU TE CHUPO LOS OJOS..!    neutral\n",
       "4868   999.txt  #colorsplash_bw #zealous Remedios #herbales y ...  positive\n",
       "\n",
       "[4869 rows x 3 columns]"
      ]
     },
     "execution_count": 1,
     "metadata": {},
     "output_type": "execute_result"
    }
   ],
   "source": [
    "import numpy as np\n",
    "import pandas as pd\n",
    "import re\n",
    "import emoji\n",
    "import seaborn as sns\n",
    "\n",
    "import spacy\n",
    "nlp = spacy.load('en_core_web_sm')\n",
    "\n",
    "from sklearn.model_selection import train_test_split\n",
    "from sklearn.metrics import accuracy_score, confusion_matrix, ConfusionMatrixDisplay, classification_report\n",
    "from sklearn.naive_bayes import MultinomialNB\n",
    "from sklearn.feature_extraction.text import CountVectorizer\n",
    "\n",
    "data = pd.read_excel('/kaggle/input/twitter-dataset-for-sentiment-analysis/LabeledText.xlsx')\n",
    "data"
   ]
  },
  {
   "cell_type": "markdown",
   "id": "9b829c28",
   "metadata": {
    "papermill": {
     "duration": 0.004005,
     "end_time": "2023-03-12T14:53:01.376564",
     "exception": false,
     "start_time": "2023-03-12T14:53:01.372559",
     "status": "completed"
    },
    "tags": []
   },
   "source": [
    "# **2. Checking Data**"
   ]
  },
  {
   "cell_type": "code",
   "execution_count": 2,
   "id": "c61fb319",
   "metadata": {
    "execution": {
     "iopub.execute_input": "2023-03-12T14:53:01.387118Z",
     "iopub.status.busy": "2023-03-12T14:53:01.386544Z",
     "iopub.status.idle": "2023-03-12T14:53:01.397882Z",
     "shell.execute_reply": "2023-03-12T14:53:01.396307Z"
    },
    "papermill": {
     "duration": 0.019874,
     "end_time": "2023-03-12T14:53:01.400789",
     "exception": false,
     "start_time": "2023-03-12T14:53:01.380915",
     "status": "completed"
    },
    "tags": []
   },
   "outputs": [
    {
     "data": {
      "text/plain": [
       "File Name    0\n",
       "Caption      0\n",
       "LABEL        0\n",
       "dtype: int64"
      ]
     },
     "execution_count": 2,
     "metadata": {},
     "output_type": "execute_result"
    }
   ],
   "source": [
    "data.isnull().sum()"
   ]
  },
  {
   "cell_type": "code",
   "execution_count": 3,
   "id": "3a427a3c",
   "metadata": {
    "execution": {
     "iopub.execute_input": "2023-03-12T14:53:01.411281Z",
     "iopub.status.busy": "2023-03-12T14:53:01.410852Z",
     "iopub.status.idle": "2023-03-12T14:53:01.424421Z",
     "shell.execute_reply": "2023-03-12T14:53:01.423408Z"
    },
    "papermill": {
     "duration": 0.02114,
     "end_time": "2023-03-12T14:53:01.426379",
     "exception": false,
     "start_time": "2023-03-12T14:53:01.405239",
     "status": "completed"
    },
    "tags": []
   },
   "outputs": [
    {
     "data": {
      "text/plain": [
       "neutral     1771\n",
       "positive    1646\n",
       "negative    1452\n",
       "Name: LABEL, dtype: int64"
      ]
     },
     "execution_count": 3,
     "metadata": {},
     "output_type": "execute_result"
    }
   ],
   "source": [
    "sentiment = data.LABEL.value_counts()\n",
    "sentiment"
   ]
  },
  {
   "cell_type": "markdown",
   "id": "7af42549",
   "metadata": {
    "papermill": {
     "duration": 0.004179,
     "end_time": "2023-03-12T14:53:01.434941",
     "exception": false,
     "start_time": "2023-03-12T14:53:01.430762",
     "status": "completed"
    },
    "tags": []
   },
   "source": [
    "# **3. Cleaning Data**"
   ]
  },
  {
   "cell_type": "code",
   "execution_count": 4,
   "id": "e7beb99b",
   "metadata": {
    "execution": {
     "iopub.execute_input": "2023-03-12T14:53:01.445169Z",
     "iopub.status.busy": "2023-03-12T14:53:01.444829Z",
     "iopub.status.idle": "2023-03-12T14:53:01.654231Z",
     "shell.execute_reply": "2023-03-12T14:53:01.653200Z"
    },
    "papermill": {
     "duration": 0.217521,
     "end_time": "2023-03-12T14:53:01.656782",
     "exception": false,
     "start_time": "2023-03-12T14:53:01.439261",
     "status": "completed"
    },
    "tags": []
   },
   "outputs": [
    {
     "data": {
      "text/html": [
       "<div>\n",
       "<style scoped>\n",
       "    .dataframe tbody tr th:only-of-type {\n",
       "        vertical-align: middle;\n",
       "    }\n",
       "\n",
       "    .dataframe tbody tr th {\n",
       "        vertical-align: top;\n",
       "    }\n",
       "\n",
       "    .dataframe thead th {\n",
       "        text-align: right;\n",
       "    }\n",
       "</style>\n",
       "<table border=\"1\" class=\"dataframe\">\n",
       "  <thead>\n",
       "    <tr style=\"text-align: right;\">\n",
       "      <th></th>\n",
       "      <th>File Name</th>\n",
       "      <th>Caption</th>\n",
       "      <th>LABEL</th>\n",
       "      <th>cleanedTweet</th>\n",
       "    </tr>\n",
       "  </thead>\n",
       "  <tbody>\n",
       "    <tr>\n",
       "      <th>0</th>\n",
       "      <td>1.txt</td>\n",
       "      <td>How I feel today #legday #jelly #aching #gym</td>\n",
       "      <td>negative</td>\n",
       "      <td>how i feel today  legday  jelly  aching  gym</td>\n",
       "    </tr>\n",
       "    <tr>\n",
       "      <th>1</th>\n",
       "      <td>10.txt</td>\n",
       "      <td>@ArrivaTW absolute disgrace two carriages from...</td>\n",
       "      <td>negative</td>\n",
       "      <td>arrivatw absolute disgrace two carriages from...</td>\n",
       "    </tr>\n",
       "    <tr>\n",
       "      <th>2</th>\n",
       "      <td>100.txt</td>\n",
       "      <td>This is my Valentine's from 1 of my nephews. I...</td>\n",
       "      <td>positive</td>\n",
       "      <td>this is my valentine s from   of my nephews  i...</td>\n",
       "    </tr>\n",
       "    <tr>\n",
       "      <th>3</th>\n",
       "      <td>1000.txt</td>\n",
       "      <td>betterfeelingfilms: RT via Instagram: First da...</td>\n",
       "      <td>neutral</td>\n",
       "      <td>betterfeelingfilms  rt via instagram  first da...</td>\n",
       "    </tr>\n",
       "    <tr>\n",
       "      <th>4</th>\n",
       "      <td>1001.txt</td>\n",
       "      <td>Zoe's first love #Rattled @JohnnyHarper15</td>\n",
       "      <td>positive</td>\n",
       "      <td>zoe s first love  rattled  johnnyharper</td>\n",
       "    </tr>\n",
       "    <tr>\n",
       "      <th>...</th>\n",
       "      <td>...</td>\n",
       "      <td>...</td>\n",
       "      <td>...</td>\n",
       "      <td>...</td>\n",
       "    </tr>\n",
       "    <tr>\n",
       "      <th>4864</th>\n",
       "      <td>995.txt</td>\n",
       "      <td>OMG. Well done #Eskom! 'Man dies during #LoadS...</td>\n",
       "      <td>positive</td>\n",
       "      <td>omg  well done  eskom   man dies during  loads...</td>\n",
       "    </tr>\n",
       "    <tr>\n",
       "      <th>4865</th>\n",
       "      <td>996.txt</td>\n",
       "      <td>Feelin' the love in here! #ValentinesDay #caring</td>\n",
       "      <td>positive</td>\n",
       "      <td>feelin  the love in here   valentinesday  caring</td>\n",
       "    </tr>\n",
       "    <tr>\n",
       "      <th>4866</th>\n",
       "      <td>997.txt</td>\n",
       "      <td>#blue #eyes can't be #beaten</td>\n",
       "      <td>neutral</td>\n",
       "      <td>blue  eyes can t be  beaten</td>\n",
       "    </tr>\n",
       "    <tr>\n",
       "      <th>4867</th>\n",
       "      <td>998.txt</td>\n",
       "      <td>LA CHUCHA LOUUU TE CHUPO LOS OJOS..!</td>\n",
       "      <td>neutral</td>\n",
       "      <td>la chucha louuu te chupo los ojos</td>\n",
       "    </tr>\n",
       "    <tr>\n",
       "      <th>4868</th>\n",
       "      <td>999.txt</td>\n",
       "      <td>#colorsplash_bw #zealous Remedios #herbales y ...</td>\n",
       "      <td>positive</td>\n",
       "      <td>colorsplash bw  zealous remedios  herbales y ...</td>\n",
       "    </tr>\n",
       "  </tbody>\n",
       "</table>\n",
       "<p>4869 rows × 4 columns</p>\n",
       "</div>"
      ],
      "text/plain": [
       "     File Name                                            Caption     LABEL  \\\n",
       "0        1.txt      How I feel today #legday #jelly #aching #gym   negative   \n",
       "1       10.txt  @ArrivaTW absolute disgrace two carriages from...  negative   \n",
       "2      100.txt  This is my Valentine's from 1 of my nephews. I...  positive   \n",
       "3     1000.txt  betterfeelingfilms: RT via Instagram: First da...   neutral   \n",
       "4     1001.txt         Zoe's first love #Rattled @JohnnyHarper15   positive   \n",
       "...        ...                                                ...       ...   \n",
       "4864   995.txt  OMG. Well done #Eskom! 'Man dies during #LoadS...  positive   \n",
       "4865   996.txt  Feelin' the love in here! #ValentinesDay #caring   positive   \n",
       "4866   997.txt                      #blue #eyes can't be #beaten    neutral   \n",
       "4867   998.txt              LA CHUCHA LOUUU TE CHUPO LOS OJOS..!    neutral   \n",
       "4868   999.txt  #colorsplash_bw #zealous Remedios #herbales y ...  positive   \n",
       "\n",
       "                                           cleanedTweet  \n",
       "0          how i feel today  legday  jelly  aching  gym  \n",
       "1      arrivatw absolute disgrace two carriages from...  \n",
       "2     this is my valentine s from   of my nephews  i...  \n",
       "3     betterfeelingfilms  rt via instagram  first da...  \n",
       "4             zoe s first love  rattled  johnnyharper    \n",
       "...                                                 ...  \n",
       "4864  omg  well done  eskom   man dies during  loads...  \n",
       "4865   feelin  the love in here   valentinesday  caring  \n",
       "4866                        blue  eyes can t be  beaten  \n",
       "4867               la chucha louuu te chupo los ojos     \n",
       "4868   colorsplash bw  zealous remedios  herbales y ...  \n",
       "\n",
       "[4869 rows x 4 columns]"
      ]
     },
     "execution_count": 4,
     "metadata": {},
     "output_type": "execute_result"
    }
   ],
   "source": [
    "def cleanTweets(text):\n",
    "    text = re.sub('[^a-zA-Z]', ' ', str(text).lower().strip())\n",
    "    text = re.sub('@[A-Za-z0-9_]+', '', text) \n",
    "    text = re.sub('#','',text) \n",
    "    text = re.sub('RT[\\s]+','',text)\n",
    "    text = re.sub('https?:\\/\\/\\S+', '', text) \n",
    "    text = re.sub('\\n',' ',text)\n",
    "    text = emoji.replace_emoji(text, replace='')\n",
    "    return text\n",
    "data['cleanedTweet'] = data['Caption'].apply(cleanTweets) \n",
    "data"
   ]
  },
  {
   "cell_type": "markdown",
   "id": "069475f4",
   "metadata": {
    "papermill": {
     "duration": 0.004191,
     "end_time": "2023-03-12T14:53:01.665594",
     "exception": false,
     "start_time": "2023-03-12T14:53:01.661403",
     "status": "completed"
    },
    "tags": []
   },
   "source": [
    "# **4. Lemmatization and Stopwords**"
   ]
  },
  {
   "cell_type": "code",
   "execution_count": 5,
   "id": "a5e90bb4",
   "metadata": {
    "execution": {
     "iopub.execute_input": "2023-03-12T14:53:01.676137Z",
     "iopub.status.busy": "2023-03-12T14:53:01.675843Z",
     "iopub.status.idle": "2023-03-12T14:53:38.203029Z",
     "shell.execute_reply": "2023-03-12T14:53:38.201780Z"
    },
    "papermill": {
     "duration": 36.539577,
     "end_time": "2023-03-12T14:53:38.209677",
     "exception": false,
     "start_time": "2023-03-12T14:53:01.670100",
     "status": "completed"
    },
    "tags": []
   },
   "outputs": [
    {
     "data": {
      "text/html": [
       "<div>\n",
       "<style scoped>\n",
       "    .dataframe tbody tr th:only-of-type {\n",
       "        vertical-align: middle;\n",
       "    }\n",
       "\n",
       "    .dataframe tbody tr th {\n",
       "        vertical-align: top;\n",
       "    }\n",
       "\n",
       "    .dataframe thead th {\n",
       "        text-align: right;\n",
       "    }\n",
       "</style>\n",
       "<table border=\"1\" class=\"dataframe\">\n",
       "  <thead>\n",
       "    <tr style=\"text-align: right;\">\n",
       "      <th></th>\n",
       "      <th>File Name</th>\n",
       "      <th>Caption</th>\n",
       "      <th>LABEL</th>\n",
       "      <th>cleanedTweet</th>\n",
       "    </tr>\n",
       "  </thead>\n",
       "  <tbody>\n",
       "    <tr>\n",
       "      <th>0</th>\n",
       "      <td>1.txt</td>\n",
       "      <td>How I feel today #legday #jelly #aching #gym</td>\n",
       "      <td>negative</td>\n",
       "      <td>feel today   legday   jelly   ache   gym</td>\n",
       "    </tr>\n",
       "    <tr>\n",
       "      <th>1</th>\n",
       "      <td>10.txt</td>\n",
       "      <td>@ArrivaTW absolute disgrace two carriages from...</td>\n",
       "      <td>negative</td>\n",
       "      <td>arrivatw absolute disgrace carriage bangor h...</td>\n",
       "    </tr>\n",
       "    <tr>\n",
       "      <th>2</th>\n",
       "      <td>100.txt</td>\n",
       "      <td>This is my Valentine's from 1 of my nephews. I...</td>\n",
       "      <td>positive</td>\n",
       "      <td>valentine s    nephew   elated   little thing ...</td>\n",
       "    </tr>\n",
       "    <tr>\n",
       "      <th>3</th>\n",
       "      <td>1000.txt</td>\n",
       "      <td>betterfeelingfilms: RT via Instagram: First da...</td>\n",
       "      <td>neutral</td>\n",
       "      <td>betterfeelingfilm   rt instagram   day film   ...</td>\n",
       "    </tr>\n",
       "    <tr>\n",
       "      <th>4</th>\n",
       "      <td>1001.txt</td>\n",
       "      <td>Zoe's first love #Rattled @JohnnyHarper15</td>\n",
       "      <td>positive</td>\n",
       "      <td>zoe s love   rattle   johnnyharper</td>\n",
       "    </tr>\n",
       "    <tr>\n",
       "      <th>...</th>\n",
       "      <td>...</td>\n",
       "      <td>...</td>\n",
       "      <td>...</td>\n",
       "      <td>...</td>\n",
       "    </tr>\n",
       "    <tr>\n",
       "      <th>4864</th>\n",
       "      <td>995.txt</td>\n",
       "      <td>OMG. Well done #Eskom! 'Man dies during #LoadS...</td>\n",
       "      <td>positive</td>\n",
       "      <td>omg     eskom    man die   loadshedde    power...</td>\n",
       "    </tr>\n",
       "    <tr>\n",
       "      <th>4865</th>\n",
       "      <td>996.txt</td>\n",
       "      <td>Feelin' the love in here! #ValentinesDay #caring</td>\n",
       "      <td>positive</td>\n",
       "      <td>feelin   love    valentinesday   care</td>\n",
       "    </tr>\n",
       "    <tr>\n",
       "      <th>4866</th>\n",
       "      <td>997.txt</td>\n",
       "      <td>#blue #eyes can't be #beaten</td>\n",
       "      <td>neutral</td>\n",
       "      <td>blue   eye t   beat</td>\n",
       "    </tr>\n",
       "    <tr>\n",
       "      <th>4867</th>\n",
       "      <td>998.txt</td>\n",
       "      <td>LA CHUCHA LOUUU TE CHUPO LOS OJOS..!</td>\n",
       "      <td>neutral</td>\n",
       "      <td>la chucha louuu te chupo los ojos</td>\n",
       "    </tr>\n",
       "    <tr>\n",
       "      <th>4868</th>\n",
       "      <td>999.txt</td>\n",
       "      <td>#colorsplash_bw #zealous Remedios #herbales y ...</td>\n",
       "      <td>positive</td>\n",
       "      <td>colorsplash bw   zealous remedio   herbale y...</td>\n",
       "    </tr>\n",
       "  </tbody>\n",
       "</table>\n",
       "<p>4869 rows × 4 columns</p>\n",
       "</div>"
      ],
      "text/plain": [
       "     File Name                                            Caption     LABEL  \\\n",
       "0        1.txt      How I feel today #legday #jelly #aching #gym   negative   \n",
       "1       10.txt  @ArrivaTW absolute disgrace two carriages from...  negative   \n",
       "2      100.txt  This is my Valentine's from 1 of my nephews. I...  positive   \n",
       "3     1000.txt  betterfeelingfilms: RT via Instagram: First da...   neutral   \n",
       "4     1001.txt         Zoe's first love #Rattled @JohnnyHarper15   positive   \n",
       "...        ...                                                ...       ...   \n",
       "4864   995.txt  OMG. Well done #Eskom! 'Man dies during #LoadS...  positive   \n",
       "4865   996.txt  Feelin' the love in here! #ValentinesDay #caring   positive   \n",
       "4866   997.txt                      #blue #eyes can't be #beaten    neutral   \n",
       "4867   998.txt              LA CHUCHA LOUUU TE CHUPO LOS OJOS..!    neutral   \n",
       "4868   999.txt  #colorsplash_bw #zealous Remedios #herbales y ...  positive   \n",
       "\n",
       "                                           cleanedTweet  \n",
       "0              feel today   legday   jelly   ache   gym  \n",
       "1       arrivatw absolute disgrace carriage bangor h...  \n",
       "2     valentine s    nephew   elated   little thing ...  \n",
       "3     betterfeelingfilm   rt instagram   day film   ...  \n",
       "4                  zoe s love   rattle   johnnyharper    \n",
       "...                                                 ...  \n",
       "4864  omg     eskom    man die   loadshedde    power...  \n",
       "4865              feelin   love    valentinesday   care  \n",
       "4866                                blue   eye t   beat  \n",
       "4867               la chucha louuu te chupo los ojos     \n",
       "4868    colorsplash bw   zealous remedio   herbale y...  \n",
       "\n",
       "[4869 rows x 4 columns]"
      ]
     },
     "execution_count": 5,
     "metadata": {},
     "output_type": "execute_result"
    }
   ],
   "source": [
    "def text_preprocessing(text):\n",
    "    doc = nlp(text)\n",
    "    tokens = [token.lemma_.lower() for token in doc if not token.is_stop and not token.is_punct]\n",
    "    return ' '.join(tokens)\n",
    "data['cleanedTweet'] = data['cleanedTweet'].apply(text_preprocessing)\n",
    "data"
   ]
  },
  {
   "cell_type": "code",
   "execution_count": 6,
   "id": "8dde7f96",
   "metadata": {
    "execution": {
     "iopub.execute_input": "2023-03-12T14:53:38.221044Z",
     "iopub.status.busy": "2023-03-12T14:53:38.220701Z",
     "iopub.status.idle": "2023-03-12T14:53:38.227007Z",
     "shell.execute_reply": "2023-03-12T14:53:38.225958Z"
    },
    "papermill": {
     "duration": 0.015535,
     "end_time": "2023-03-12T14:53:38.230000",
     "exception": false,
     "start_time": "2023-03-12T14:53:38.214465",
     "status": "completed"
    },
    "tags": []
   },
   "outputs": [
    {
     "name": "stdout",
     "output_type": "stream",
     "text": [
      "                             reedit iron man     bleed e           \n",
      "Í»îËÙˆó¡¡¤¢¤ß¤¢¤ß¡¡¥×¥ì‚Ž¡¡REEDIT IRON MAN 01 Bleeding E... #¤Þ¤È¤á \n"
     ]
    }
   ],
   "source": [
    "print(data.iloc[1002, 3])\n",
    "print(data.iloc[1002, 1])"
   ]
  },
  {
   "cell_type": "markdown",
   "id": "24d09990",
   "metadata": {
    "papermill": {
     "duration": 0.004695,
     "end_time": "2023-03-12T14:53:38.240192",
     "exception": false,
     "start_time": "2023-03-12T14:53:38.235497",
     "status": "completed"
    },
    "tags": []
   },
   "source": [
    "# **5. Split Dataset**"
   ]
  },
  {
   "cell_type": "code",
   "execution_count": 7,
   "id": "4c9044f0",
   "metadata": {
    "execution": {
     "iopub.execute_input": "2023-03-12T14:53:38.251504Z",
     "iopub.status.busy": "2023-03-12T14:53:38.251184Z",
     "iopub.status.idle": "2023-03-12T14:53:38.261753Z",
     "shell.execute_reply": "2023-03-12T14:53:38.260726Z"
    },
    "papermill": {
     "duration": 0.019206,
     "end_time": "2023-03-12T14:53:38.264248",
     "exception": false,
     "start_time": "2023-03-12T14:53:38.245042",
     "status": "completed"
    },
    "tags": []
   },
   "outputs": [],
   "source": [
    "X = data['cleanedTweet']\n",
    "y = data['LABEL']\n",
    "\n",
    "X_train, X_test, y_train, y_test = train_test_split(X,y,test_size = 0.2,shuffle=True,stratify=y)"
   ]
  },
  {
   "cell_type": "markdown",
   "id": "0ce1618d",
   "metadata": {
    "papermill": {
     "duration": 0.005184,
     "end_time": "2023-03-12T14:53:38.274915",
     "exception": false,
     "start_time": "2023-03-12T14:53:38.269731",
     "status": "completed"
    },
    "tags": []
   },
   "source": [
    "# **6. Create Model Using MultinomialNB**"
   ]
  },
  {
   "cell_type": "code",
   "execution_count": 8,
   "id": "0e45f36c",
   "metadata": {
    "execution": {
     "iopub.execute_input": "2023-03-12T14:53:38.286566Z",
     "iopub.status.busy": "2023-03-12T14:53:38.286232Z",
     "iopub.status.idle": "2023-03-12T14:53:38.369004Z",
     "shell.execute_reply": "2023-03-12T14:53:38.367671Z"
    },
    "papermill": {
     "duration": 0.091761,
     "end_time": "2023-03-12T14:53:38.371690",
     "exception": false,
     "start_time": "2023-03-12T14:53:38.279929",
     "status": "completed"
    },
    "tags": []
   },
   "outputs": [],
   "source": [
    "vectorizer = CountVectorizer()\n",
    "X_train = vectorizer.fit_transform(X_train)\n",
    "X_test = vectorizer.transform(X_test)"
   ]
  },
  {
   "cell_type": "code",
   "execution_count": 9,
   "id": "f6e9e3ae",
   "metadata": {
    "execution": {
     "iopub.execute_input": "2023-03-12T14:53:38.386374Z",
     "iopub.status.busy": "2023-03-12T14:53:38.385867Z",
     "iopub.status.idle": "2023-03-12T14:53:38.411091Z",
     "shell.execute_reply": "2023-03-12T14:53:38.410240Z"
    },
    "papermill": {
     "duration": 0.035821,
     "end_time": "2023-03-12T14:53:38.413463",
     "exception": false,
     "start_time": "2023-03-12T14:53:38.377642",
     "status": "completed"
    },
    "tags": []
   },
   "outputs": [
    {
     "data": {
      "text/plain": [
       "0.9681643132220796"
      ]
     },
     "execution_count": 9,
     "metadata": {},
     "output_type": "execute_result"
    }
   ],
   "source": [
    "model = MultinomialNB()\n",
    "model.fit(X_train,y_train)\n",
    "model.score(X_train,y_train)"
   ]
  },
  {
   "cell_type": "markdown",
   "id": "20ecf79e",
   "metadata": {
    "papermill": {
     "duration": 0.006059,
     "end_time": "2023-03-12T14:53:38.425423",
     "exception": false,
     "start_time": "2023-03-12T14:53:38.419364",
     "status": "completed"
    },
    "tags": []
   },
   "source": [
    "# **7. Result**"
   ]
  },
  {
   "cell_type": "code",
   "execution_count": 10,
   "id": "d9cd5c86",
   "metadata": {
    "execution": {
     "iopub.execute_input": "2023-03-12T14:53:38.440141Z",
     "iopub.status.busy": "2023-03-12T14:53:38.439809Z",
     "iopub.status.idle": "2023-03-12T14:53:38.449385Z",
     "shell.execute_reply": "2023-03-12T14:53:38.447361Z"
    },
    "papermill": {
     "duration": 0.018895,
     "end_time": "2023-03-12T14:53:38.451834",
     "exception": false,
     "start_time": "2023-03-12T14:53:38.432939",
     "status": "completed"
    },
    "tags": []
   },
   "outputs": [
    {
     "name": "stdout",
     "output_type": "stream",
     "text": [
      "0.6765913757700205\n"
     ]
    }
   ],
   "source": [
    "y_pred = model.predict(X_test)\n",
    "accuracy = accuracy_score(y_test,y_pred)\n",
    "print(accuracy)"
   ]
  },
  {
   "cell_type": "code",
   "execution_count": 11,
   "id": "8c677a5c",
   "metadata": {
    "execution": {
     "iopub.execute_input": "2023-03-12T14:53:38.464388Z",
     "iopub.status.busy": "2023-03-12T14:53:38.464034Z",
     "iopub.status.idle": "2023-03-12T14:53:38.716427Z",
     "shell.execute_reply": "2023-03-12T14:53:38.714908Z"
    },
    "papermill": {
     "duration": 0.261358,
     "end_time": "2023-03-12T14:53:38.718563",
     "exception": false,
     "start_time": "2023-03-12T14:53:38.457205",
     "status": "completed"
    },
    "tags": []
   },
   "outputs": [
    {
     "data": {
      "text/plain": [
       "<sklearn.metrics._plot.confusion_matrix.ConfusionMatrixDisplay at 0x7fc8eee2d950>"
      ]
     },
     "execution_count": 11,
     "metadata": {},
     "output_type": "execute_result"
    },
    {
     "data": {
      "image/png": "[encoded data removed]",
      "text/plain": [
       "<Figure size 640x480 with 2 Axes>"
      ]
     },
     "metadata": {},
     "output_type": "display_data"
    }
   ],
   "source": [
    "cf = confusion_matrix(y_test, y_pred)\n",
    "plotcf = ConfusionMatrixDisplay(cf)\n",
    "plotcf.plot()"
   ]
  },
  {
   "cell_type": "code",
   "execution_count": 12,
   "id": "1e239129",
   "metadata": {
    "execution": {
     "iopub.execute_input": "2023-03-12T14:53:38.732108Z",
     "iopub.status.busy": "2023-03-12T14:53:38.731728Z",
     "iopub.status.idle": "2023-03-12T14:53:38.753400Z",
     "shell.execute_reply": "2023-03-12T14:53:38.752209Z"
    },
    "papermill": {
     "duration": 0.030942,
     "end_time": "2023-03-12T14:53:38.755725",
     "exception": false,
     "start_time": "2023-03-12T14:53:38.724783",
     "status": "completed"
    },
    "tags": []
   },
   "outputs": [
    {
     "name": "stdout",
     "output_type": "stream",
     "text": [
      "              precision    recall  f1-score   support\n",
      "\n",
      "    negative       0.71      0.66      0.69       291\n",
      "     neutral       0.64      0.58      0.61       354\n",
      "    positive       0.68      0.79      0.73       329\n",
      "\n",
      "    accuracy                           0.68       974\n",
      "   macro avg       0.68      0.68      0.68       974\n",
      "weighted avg       0.68      0.68      0.67       974\n",
      "\n"
     ]
    }
   ],
   "source": [
    "report = classification_report(y_test, y_pred)\n",
    "print(report)"
   ]
  }
 ],
 "metadata": {
  "kernelspec": {
   "display_name": "Python 3",
   "language": "python",
   "name": "python3"
  },
  "language_info": {
   "codemirror_mode": {
    "name": "ipython",
    "version": 3
   },
   "file_extension": ".py",
   "mimetype": "text/x-python",
   "name": "python",
   "nbconvert_exporter": "python",
   "pygments_lexer": "ipython3",
   "version": "3.7.12"
  },
  "papermill": {
   "default_parameters": {},
   "duration": 68.560501,
   "end_time": "2023-03-12T14:53:42.170556",
   "environment_variables": {},
   "exception": null,
   "input_path": "__notebook__.ipynb",
   "output_path": "__notebook__.ipynb",
   "parameters": {},
   "start_time": "2023-03-12T14:52:33.610055",
   "version": "2.4.0"
  }
 },
 "nbformat": 4,
 "nbformat_minor": 5
}
