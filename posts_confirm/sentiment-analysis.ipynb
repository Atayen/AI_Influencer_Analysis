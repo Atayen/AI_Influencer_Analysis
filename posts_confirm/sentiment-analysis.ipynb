{
 "cells": [
  {
   "attachments": {},
   "cell_type": "markdown",
   "id": "1a35e3cb",
   "metadata": {
    "papermill": {
     "duration": 0.004663,
     "end_time": "2023-03-12T14:52:42.827479",
     "exception": false,
     "start_time": "2023-03-12T14:52:42.822816",
     "status": "completed"
    },
    "tags": []
   },
   "source": [
    "# **1. Import Data and Library**"
   ]
  },
  {
   "cell_type": "code",
   "execution_count": 16,
   "id": "c1d3f208",
   "metadata": {
    "execution": {
     "iopub.execute_input": "2023-03-12T14:52:42.837340Z",
     "iopub.status.busy": "2023-03-12T14:52:42.836993Z",
     "iopub.status.idle": "2023-03-12T14:53:01.365893Z",
     "shell.execute_reply": "2023-03-12T14:53:01.364381Z"
    },
    "papermill": {
     "duration": 18.536658,
     "end_time": "2023-03-12T14:53:01.368244",
     "exception": false,
     "start_time": "2023-03-12T14:52:42.831586",
     "status": "completed"
    },
    "tags": []
   },
   "outputs": [
    {
     "data": {
      "text/html": [
       "<div>\n",
       "<style scoped>\n",
       "    .dataframe tbody tr th:only-of-type {\n",
       "        vertical-align: middle;\n",
       "    }\n",
       "\n",
       "    .dataframe tbody tr th {\n",
       "        vertical-align: top;\n",
       "    }\n",
       "\n",
       "    .dataframe thead th {\n",
       "        text-align: right;\n",
       "    }\n",
       "</style>\n",
       "<table border=\"1\" class=\"dataframe\">\n",
       "  <thead>\n",
       "    <tr style=\"text-align: right;\">\n",
       "      <th></th>\n",
       "      <th>File Name</th>\n",
       "      <th>Caption</th>\n",
       "      <th>LABEL</th>\n",
       "    </tr>\n",
       "  </thead>\n",
       "  <tbody>\n",
       "    <tr>\n",
       "      <th>0</th>\n",
       "      <td>1.txt</td>\n",
       "      <td>How I feel today #legday #jelly #aching #gym</td>\n",
       "      <td>negative</td>\n",
       "    </tr>\n",
       "    <tr>\n",
       "      <th>1</th>\n",
       "      <td>10.txt</td>\n",
       "      <td>@ArrivaTW absolute disgrace two carriages from...</td>\n",
       "      <td>negative</td>\n",
       "    </tr>\n",
       "    <tr>\n",
       "      <th>2</th>\n",
       "      <td>100.txt</td>\n",
       "      <td>This is my Valentine's from 1 of my nephews. I...</td>\n",
       "      <td>positive</td>\n",
       "    </tr>\n",
       "    <tr>\n",
       "      <th>3</th>\n",
       "      <td>1000.txt</td>\n",
       "      <td>betterfeelingfilms: RT via Instagram: First da...</td>\n",
       "      <td>neutral</td>\n",
       "    </tr>\n",
       "    <tr>\n",
       "      <th>4</th>\n",
       "      <td>1001.txt</td>\n",
       "      <td>Zoe's first love #Rattled @JohnnyHarper15</td>\n",
       "      <td>positive</td>\n",
       "    </tr>\n",
       "    <tr>\n",
       "      <th>...</th>\n",
       "      <td>...</td>\n",
       "      <td>...</td>\n",
       "      <td>...</td>\n",
       "    </tr>\n",
       "    <tr>\n",
       "      <th>4864</th>\n",
       "      <td>995.txt</td>\n",
       "      <td>OMG. Well done #Eskom! 'Man dies during #LoadS...</td>\n",
       "      <td>positive</td>\n",
       "    </tr>\n",
       "    <tr>\n",
       "      <th>4865</th>\n",
       "      <td>996.txt</td>\n",
       "      <td>Feelin' the love in here! #ValentinesDay #caring</td>\n",
       "      <td>positive</td>\n",
       "    </tr>\n",
       "    <tr>\n",
       "      <th>4866</th>\n",
       "      <td>997.txt</td>\n",
       "      <td>#blue #eyes can't be #beaten</td>\n",
       "      <td>neutral</td>\n",
       "    </tr>\n",
       "    <tr>\n",
       "      <th>4867</th>\n",
       "      <td>998.txt</td>\n",
       "      <td>LA CHUCHA LOUUU TE CHUPO LOS OJOS..!</td>\n",
       "      <td>neutral</td>\n",
       "    </tr>\n",
       "    <tr>\n",
       "      <th>4868</th>\n",
       "      <td>999.txt</td>\n",
       "      <td>#colorsplash_bw #zealous Remedios #herbales y ...</td>\n",
       "      <td>positive</td>\n",
       "    </tr>\n",
       "  </tbody>\n",
       "</table>\n",
       "<p>4869 rows × 3 columns</p>\n",
       "</div>"
      ],
      "text/plain": [
       "     File Name                                            Caption     LABEL\n",
       "0        1.txt      How I feel today #legday #jelly #aching #gym   negative\n",
       "1       10.txt  @ArrivaTW absolute disgrace two carriages from...  negative\n",
       "2      100.txt  This is my Valentine's from 1 of my nephews. I...  positive\n",
       "3     1000.txt  betterfeelingfilms: RT via Instagram: First da...   neutral\n",
       "4     1001.txt         Zoe's first love #Rattled @JohnnyHarper15   positive\n",
       "...        ...                                                ...       ...\n",
       "4864   995.txt  OMG. Well done #Eskom! 'Man dies during #LoadS...  positive\n",
       "4865   996.txt  Feelin' the love in here! #ValentinesDay #caring   positive\n",
       "4866   997.txt                      #blue #eyes can't be #beaten    neutral\n",
       "4867   998.txt              LA CHUCHA LOUUU TE CHUPO LOS OJOS..!    neutral\n",
       "4868   999.txt  #colorsplash_bw #zealous Remedios #herbales y ...  positive\n",
       "\n",
       "[4869 rows x 3 columns]"
      ]
     },
     "execution_count": 16,
     "metadata": {},
     "output_type": "execute_result"
    }
   ],
   "source": [
    "import pandas as pd\n",
    "import spacy\n",
    "#nlp = spacy.load('en_core_web_sm')\n",
    "import matplotlib.pyplot as plt\n",
    "from sklearn.model_selection import train_test_split\n",
    "from sklearn.metrics import accuracy_score, confusion_matrix, ConfusionMatrixDisplay, classification_report\n",
    "from sklearn.naive_bayes import MultinomialNB\n",
    "from sklearn.feature_extraction.text import CountVectorizer"
   ]
  },
  {
   "cell_type": "code",
   "execution_count": 17,
   "id": "fc2ffaa6",
   "metadata": {},
   "outputs": [
    {
     "data": {
      "text/html": [
       "<div>\n",
       "<style scoped>\n",
       "    .dataframe tbody tr th:only-of-type {\n",
       "        vertical-align: middle;\n",
       "    }\n",
       "\n",
       "    .dataframe tbody tr th {\n",
       "        vertical-align: top;\n",
       "    }\n",
       "\n",
       "    .dataframe thead th {\n",
       "        text-align: right;\n",
       "    }\n",
       "</style>\n",
       "<table border=\"1\" class=\"dataframe\">\n",
       "  <thead>\n",
       "    <tr style=\"text-align: right;\">\n",
       "      <th></th>\n",
       "      <th>File Name</th>\n",
       "      <th>Caption</th>\n",
       "      <th>LABEL</th>\n",
       "    </tr>\n",
       "  </thead>\n",
       "  <tbody>\n",
       "    <tr>\n",
       "      <th>0</th>\n",
       "      <td>1.txt</td>\n",
       "      <td>How I feel today #legday #jelly #aching #gym</td>\n",
       "      <td>negative</td>\n",
       "    </tr>\n",
       "    <tr>\n",
       "      <th>1</th>\n",
       "      <td>10.txt</td>\n",
       "      <td>@ArrivaTW absolute disgrace two carriages from...</td>\n",
       "      <td>negative</td>\n",
       "    </tr>\n",
       "    <tr>\n",
       "      <th>2</th>\n",
       "      <td>100.txt</td>\n",
       "      <td>This is my Valentine's from 1 of my nephews. I...</td>\n",
       "      <td>positive</td>\n",
       "    </tr>\n",
       "    <tr>\n",
       "      <th>3</th>\n",
       "      <td>1000.txt</td>\n",
       "      <td>betterfeelingfilms: RT via Instagram: First da...</td>\n",
       "      <td>neutral</td>\n",
       "    </tr>\n",
       "    <tr>\n",
       "      <th>4</th>\n",
       "      <td>1001.txt</td>\n",
       "      <td>Zoe's first love #Rattled @JohnnyHarper15</td>\n",
       "      <td>positive</td>\n",
       "    </tr>\n",
       "    <tr>\n",
       "      <th>...</th>\n",
       "      <td>...</td>\n",
       "      <td>...</td>\n",
       "      <td>...</td>\n",
       "    </tr>\n",
       "    <tr>\n",
       "      <th>4864</th>\n",
       "      <td>995.txt</td>\n",
       "      <td>OMG. Well done #Eskom! 'Man dies during #LoadS...</td>\n",
       "      <td>positive</td>\n",
       "    </tr>\n",
       "    <tr>\n",
       "      <th>4865</th>\n",
       "      <td>996.txt</td>\n",
       "      <td>Feelin' the love in here! #ValentinesDay #caring</td>\n",
       "      <td>positive</td>\n",
       "    </tr>\n",
       "    <tr>\n",
       "      <th>4866</th>\n",
       "      <td>997.txt</td>\n",
       "      <td>#blue #eyes can't be #beaten</td>\n",
       "      <td>neutral</td>\n",
       "    </tr>\n",
       "    <tr>\n",
       "      <th>4867</th>\n",
       "      <td>998.txt</td>\n",
       "      <td>LA CHUCHA LOUUU TE CHUPO LOS OJOS..!</td>\n",
       "      <td>neutral</td>\n",
       "    </tr>\n",
       "    <tr>\n",
       "      <th>4868</th>\n",
       "      <td>999.txt</td>\n",
       "      <td>#colorsplash_bw #zealous Remedios #herbales y ...</td>\n",
       "      <td>positive</td>\n",
       "    </tr>\n",
       "  </tbody>\n",
       "</table>\n",
       "<p>4869 rows × 3 columns</p>\n",
       "</div>"
      ],
      "text/plain": [
       "     File Name                                            Caption     LABEL\n",
       "0        1.txt      How I feel today #legday #jelly #aching #gym   negative\n",
       "1       10.txt  @ArrivaTW absolute disgrace two carriages from...  negative\n",
       "2      100.txt  This is my Valentine's from 1 of my nephews. I...  positive\n",
       "3     1000.txt  betterfeelingfilms: RT via Instagram: First da...   neutral\n",
       "4     1001.txt         Zoe's first love #Rattled @JohnnyHarper15   positive\n",
       "...        ...                                                ...       ...\n",
       "4864   995.txt  OMG. Well done #Eskom! 'Man dies during #LoadS...  positive\n",
       "4865   996.txt  Feelin' the love in here! #ValentinesDay #caring   positive\n",
       "4866   997.txt                      #blue #eyes can't be #beaten    neutral\n",
       "4867   998.txt              LA CHUCHA LOUUU TE CHUPO LOS OJOS..!    neutral\n",
       "4868   999.txt  #colorsplash_bw #zealous Remedios #herbales y ...  positive\n",
       "\n",
       "[4869 rows x 3 columns]"
      ]
     },
     "execution_count": 17,
     "metadata": {},
     "output_type": "execute_result"
    }
   ],
   "source": [
    "data = pd.read_excel('./data/LabeledText.xlsx')\n",
    "data"
   ]
  },
  {
   "attachments": {},
   "cell_type": "markdown",
   "id": "9b829c28",
   "metadata": {
    "papermill": {
     "duration": 0.004005,
     "end_time": "2023-03-12T14:53:01.376564",
     "exception": false,
     "start_time": "2023-03-12T14:53:01.372559",
     "status": "completed"
    },
    "tags": []
   },
   "source": [
    "# **2. Checking Data**"
   ]
  },
  {
   "cell_type": "code",
   "execution_count": 18,
   "id": "c61fb319",
   "metadata": {
    "execution": {
     "iopub.execute_input": "2023-03-12T14:53:01.387118Z",
     "iopub.status.busy": "2023-03-12T14:53:01.386544Z",
     "iopub.status.idle": "2023-03-12T14:53:01.397882Z",
     "shell.execute_reply": "2023-03-12T14:53:01.396307Z"
    },
    "papermill": {
     "duration": 0.019874,
     "end_time": "2023-03-12T14:53:01.400789",
     "exception": false,
     "start_time": "2023-03-12T14:53:01.380915",
     "status": "completed"
    },
    "tags": []
   },
   "outputs": [
    {
     "data": {
      "text/plain": [
       "File Name    0\n",
       "Caption      0\n",
       "LABEL        0\n",
       "dtype: int64"
      ]
     },
     "execution_count": 18,
     "metadata": {},
     "output_type": "execute_result"
    }
   ],
   "source": [
    "data.isnull().sum()"
   ]
  },
  {
   "cell_type": "code",
   "execution_count": 19,
   "id": "3a427a3c",
   "metadata": {
    "execution": {
     "iopub.execute_input": "2023-03-12T14:53:01.411281Z",
     "iopub.status.busy": "2023-03-12T14:53:01.410852Z",
     "iopub.status.idle": "2023-03-12T14:53:01.424421Z",
     "shell.execute_reply": "2023-03-12T14:53:01.423408Z"
    },
    "papermill": {
     "duration": 0.02114,
     "end_time": "2023-03-12T14:53:01.426379",
     "exception": false,
     "start_time": "2023-03-12T14:53:01.405239",
     "status": "completed"
    },
    "tags": []
   },
   "outputs": [
    {
     "name": "stdout",
     "output_type": "stream",
     "text": [
      "<class 'pandas.core.frame.DataFrame'>\n",
      "RangeIndex: 4869 entries, 0 to 4868\n",
      "Data columns (total 3 columns):\n",
      " #   Column     Non-Null Count  Dtype \n",
      "---  ------     --------------  ----- \n",
      " 0   File Name  4869 non-null   object\n",
      " 1   Caption    4869 non-null   object\n",
      " 2   LABEL      4869 non-null   object\n",
      "dtypes: object(3)\n",
      "memory usage: 114.2+ KB\n"
     ]
    }
   ],
   "source": [
    "#sentiment = data.LABEL.value_counts()\n",
    "#sentiment\n",
    "data.info()"
   ]
  },
  {
   "cell_type": "code",
   "execution_count": 21,
   "id": "c7674021",
   "metadata": {},
   "outputs": [
    {
     "data": {
      "text/html": [
       "<div>\n",
       "<style scoped>\n",
       "    .dataframe tbody tr th:only-of-type {\n",
       "        vertical-align: middle;\n",
       "    }\n",
       "\n",
       "    .dataframe tbody tr th {\n",
       "        vertical-align: top;\n",
       "    }\n",
       "\n",
       "    .dataframe thead th {\n",
       "        text-align: right;\n",
       "    }\n",
       "</style>\n",
       "<table border=\"1\" class=\"dataframe\">\n",
       "  <thead>\n",
       "    <tr style=\"text-align: right;\">\n",
       "      <th></th>\n",
       "      <th>File Name</th>\n",
       "      <th>Caption</th>\n",
       "      <th>LABEL</th>\n",
       "    </tr>\n",
       "  </thead>\n",
       "  <tbody>\n",
       "    <tr>\n",
       "      <th>0</th>\n",
       "      <td>1.txt</td>\n",
       "      <td>How I feel today #legday #jelly #aching #gym</td>\n",
       "      <td>negative</td>\n",
       "    </tr>\n",
       "    <tr>\n",
       "      <th>1</th>\n",
       "      <td>10.txt</td>\n",
       "      <td>@ArrivaTW absolute disgrace two carriages from...</td>\n",
       "      <td>negative</td>\n",
       "    </tr>\n",
       "    <tr>\n",
       "      <th>2</th>\n",
       "      <td>100.txt</td>\n",
       "      <td>This is my Valentine's from 1 of my nephews. I...</td>\n",
       "      <td>positive</td>\n",
       "    </tr>\n",
       "    <tr>\n",
       "      <th>4</th>\n",
       "      <td>1001.txt</td>\n",
       "      <td>Zoe's first love #Rattled @JohnnyHarper15</td>\n",
       "      <td>positive</td>\n",
       "    </tr>\n",
       "    <tr>\n",
       "      <th>5</th>\n",
       "      <td>1002.txt</td>\n",
       "      <td>Chaotic Love - giclee print ?65 at #art #love ...</td>\n",
       "      <td>positive</td>\n",
       "    </tr>\n",
       "    <tr>\n",
       "      <th>...</th>\n",
       "      <td>...</td>\n",
       "      <td>...</td>\n",
       "      <td>...</td>\n",
       "    </tr>\n",
       "    <tr>\n",
       "      <th>4862</th>\n",
       "      <td>993.txt</td>\n",
       "      <td>#Fanghorn forest or #Alder #woodland up Glen #...</td>\n",
       "      <td>negative</td>\n",
       "    </tr>\n",
       "    <tr>\n",
       "      <th>4863</th>\n",
       "      <td>994.txt</td>\n",
       "      <td>Where there¡¯s a whisk, there¡¯s a way. #power...</td>\n",
       "      <td>negative</td>\n",
       "    </tr>\n",
       "    <tr>\n",
       "      <th>4864</th>\n",
       "      <td>995.txt</td>\n",
       "      <td>OMG. Well done #Eskom! 'Man dies during #LoadS...</td>\n",
       "      <td>positive</td>\n",
       "    </tr>\n",
       "    <tr>\n",
       "      <th>4865</th>\n",
       "      <td>996.txt</td>\n",
       "      <td>Feelin' the love in here! #ValentinesDay #caring</td>\n",
       "      <td>positive</td>\n",
       "    </tr>\n",
       "    <tr>\n",
       "      <th>4868</th>\n",
       "      <td>999.txt</td>\n",
       "      <td>#colorsplash_bw #zealous Remedios #herbales y ...</td>\n",
       "      <td>positive</td>\n",
       "    </tr>\n",
       "  </tbody>\n",
       "</table>\n",
       "<p>3098 rows × 3 columns</p>\n",
       "</div>"
      ],
      "text/plain": [
       "     File Name                                            Caption     LABEL\n",
       "0        1.txt      How I feel today #legday #jelly #aching #gym   negative\n",
       "1       10.txt  @ArrivaTW absolute disgrace two carriages from...  negative\n",
       "2      100.txt  This is my Valentine's from 1 of my nephews. I...  positive\n",
       "4     1001.txt         Zoe's first love #Rattled @JohnnyHarper15   positive\n",
       "5     1002.txt  Chaotic Love - giclee print ?65 at #art #love ...  positive\n",
       "...        ...                                                ...       ...\n",
       "4862   993.txt  #Fanghorn forest or #Alder #woodland up Glen #...  negative\n",
       "4863   994.txt  Where there¡¯s a whisk, there¡¯s a way. #power...  negative\n",
       "4864   995.txt  OMG. Well done #Eskom! 'Man dies during #LoadS...  positive\n",
       "4865   996.txt  Feelin' the love in here! #ValentinesDay #caring   positive\n",
       "4868   999.txt  #colorsplash_bw #zealous Remedios #herbales y ...  positive\n",
       "\n",
       "[3098 rows x 3 columns]"
      ]
     },
     "execution_count": 21,
     "metadata": {},
     "output_type": "execute_result"
    }
   ],
   "source": [
    "drop_neutral = data[ data['LABEL'] == 'neutral' ].index\n",
    "data.drop(drop_neutral, inplace = True)\n",
    "data"
   ]
  },
  {
   "cell_type": "code",
   "execution_count": 22,
   "id": "0ffdc70c",
   "metadata": {},
   "outputs": [
    {
     "data": {
      "text/plain": [
       "1    1646\n",
       "0    1452\n",
       "Name: LABEL, dtype: int64"
      ]
     },
     "execution_count": 22,
     "metadata": {},
     "output_type": "execute_result"
    }
   ],
   "source": [
    "data.loc[data[\"LABEL\"] == \"negative\", \"LABEL\"] = 0\n",
    "data.loc[data[\"LABEL\"] == \"positive\", \"LABEL\"] = 1\n",
    "data['LABEL'].value_counts()"
   ]
  },
  {
   "cell_type": "code",
   "execution_count": 23,
   "id": "2736e6ca",
   "metadata": {},
   "outputs": [
    {
     "data": {
      "text/plain": [
       "1    1646\n",
       "0    1452\n",
       "Name: LABEL, dtype: int64"
      ]
     },
     "execution_count": 23,
     "metadata": {},
     "output_type": "execute_result"
    }
   ],
   "source": [
    "data['LABEL'].value_counts()"
   ]
  },
  {
   "cell_type": "code",
   "execution_count": 24,
   "id": "7ade83e9",
   "metadata": {},
   "outputs": [],
   "source": [
    "data = data.astype({\"LABEL\": int})"
   ]
  },
  {
   "attachments": {},
   "cell_type": "markdown",
   "id": "7af42549",
   "metadata": {
    "papermill": {
     "duration": 0.004179,
     "end_time": "2023-03-12T14:53:01.434941",
     "exception": false,
     "start_time": "2023-03-12T14:53:01.430762",
     "status": "completed"
    },
    "tags": []
   },
   "source": [
    "# 3 Data Pre-Processing\n",
    "# 3.1 Cleaning Data + Stopwords Remove"
   ]
  },
  {
   "cell_type": "code",
   "execution_count": 25,
   "id": "e7beb99b",
   "metadata": {
    "execution": {
     "iopub.execute_input": "2023-03-12T14:53:01.445169Z",
     "iopub.status.busy": "2023-03-12T14:53:01.444829Z",
     "iopub.status.idle": "2023-03-12T14:53:01.654231Z",
     "shell.execute_reply": "2023-03-12T14:53:01.653200Z"
    },
    "papermill": {
     "duration": 0.217521,
     "end_time": "2023-03-12T14:53:01.656782",
     "exception": false,
     "start_time": "2023-03-12T14:53:01.439261",
     "status": "completed"
    },
    "tags": []
   },
   "outputs": [
    {
     "data": {
      "text/html": [
       "<div>\n",
       "<style scoped>\n",
       "    .dataframe tbody tr th:only-of-type {\n",
       "        vertical-align: middle;\n",
       "    }\n",
       "\n",
       "    .dataframe tbody tr th {\n",
       "        vertical-align: top;\n",
       "    }\n",
       "\n",
       "    .dataframe thead th {\n",
       "        text-align: right;\n",
       "    }\n",
       "</style>\n",
       "<table border=\"1\" class=\"dataframe\">\n",
       "  <thead>\n",
       "    <tr style=\"text-align: right;\">\n",
       "      <th></th>\n",
       "      <th>File Name</th>\n",
       "      <th>Caption</th>\n",
       "      <th>LABEL</th>\n",
       "      <th>cleaning_data</th>\n",
       "    </tr>\n",
       "  </thead>\n",
       "  <tbody>\n",
       "    <tr>\n",
       "      <th>0</th>\n",
       "      <td>1.txt</td>\n",
       "      <td>How I feel today #legday #jelly #aching #gym</td>\n",
       "      <td>0</td>\n",
       "      <td>feel today legday jelly aching</td>\n",
       "    </tr>\n",
       "    <tr>\n",
       "      <th>1</th>\n",
       "      <td>10.txt</td>\n",
       "      <td>@ArrivaTW absolute disgrace two carriages from...</td>\n",
       "      <td>0</td>\n",
       "      <td>absolute disgrace carriages bangor half standi...</td>\n",
       "    </tr>\n",
       "    <tr>\n",
       "      <th>2</th>\n",
       "      <td>100.txt</td>\n",
       "      <td>This is my Valentine's from 1 of my nephews. I...</td>\n",
       "      <td>1</td>\n",
       "      <td>this valentines nephews elated sometimes littl...</td>\n",
       "    </tr>\n",
       "    <tr>\n",
       "      <th>4</th>\n",
       "      <td>1001.txt</td>\n",
       "      <td>Zoe's first love #Rattled @JohnnyHarper15</td>\n",
       "      <td>1</td>\n",
       "      <td>zoes first love rattled</td>\n",
       "    </tr>\n",
       "    <tr>\n",
       "      <th>5</th>\n",
       "      <td>1002.txt</td>\n",
       "      <td>Chaotic Love - giclee print ?65 at #art #love ...</td>\n",
       "      <td>1</td>\n",
       "      <td>chaotic love giclee print love chaotic abstrac...</td>\n",
       "    </tr>\n",
       "    <tr>\n",
       "      <th>...</th>\n",
       "      <td>...</td>\n",
       "      <td>...</td>\n",
       "      <td>...</td>\n",
       "      <td>...</td>\n",
       "    </tr>\n",
       "    <tr>\n",
       "      <th>4862</th>\n",
       "      <td>993.txt</td>\n",
       "      <td>#Fanghorn forest or #Alder #woodland up Glen #...</td>\n",
       "      <td>0</td>\n",
       "      <td>fanghorn forest alder woodland glen vorlich lo...</td>\n",
       "    </tr>\n",
       "    <tr>\n",
       "      <th>4863</th>\n",
       "      <td>994.txt</td>\n",
       "      <td>Where there¡¯s a whisk, there¡¯s a way. #power...</td>\n",
       "      <td>0</td>\n",
       "      <td>where there whisk powerless bakersgonnabake</td>\n",
       "    </tr>\n",
       "    <tr>\n",
       "      <th>4864</th>\n",
       "      <td>995.txt</td>\n",
       "      <td>OMG. Well done #Eskom! 'Man dies during #LoadS...</td>\n",
       "      <td>1</td>\n",
       "      <td>well done eskom dies loadshedding powerless</td>\n",
       "    </tr>\n",
       "    <tr>\n",
       "      <th>4865</th>\n",
       "      <td>996.txt</td>\n",
       "      <td>Feelin' the love in here! #ValentinesDay #caring</td>\n",
       "      <td>1</td>\n",
       "      <td>feelin love valentinesday caring</td>\n",
       "    </tr>\n",
       "    <tr>\n",
       "      <th>4868</th>\n",
       "      <td>999.txt</td>\n",
       "      <td>#colorsplash_bw #zealous Remedios #herbales y ...</td>\n",
       "      <td>1</td>\n",
       "      <td>colorsplashbw zealous remedios herbales tratam...</td>\n",
       "    </tr>\n",
       "  </tbody>\n",
       "</table>\n",
       "<p>3098 rows × 4 columns</p>\n",
       "</div>"
      ],
      "text/plain": [
       "     File Name                                            Caption  LABEL  \\\n",
       "0        1.txt      How I feel today #legday #jelly #aching #gym       0   \n",
       "1       10.txt  @ArrivaTW absolute disgrace two carriages from...      0   \n",
       "2      100.txt  This is my Valentine's from 1 of my nephews. I...      1   \n",
       "4     1001.txt         Zoe's first love #Rattled @JohnnyHarper15       1   \n",
       "5     1002.txt  Chaotic Love - giclee print ?65 at #art #love ...      1   \n",
       "...        ...                                                ...    ...   \n",
       "4862   993.txt  #Fanghorn forest or #Alder #woodland up Glen #...      0   \n",
       "4863   994.txt  Where there¡¯s a whisk, there¡¯s a way. #power...      0   \n",
       "4864   995.txt  OMG. Well done #Eskom! 'Man dies during #LoadS...      1   \n",
       "4865   996.txt  Feelin' the love in here! #ValentinesDay #caring       1   \n",
       "4868   999.txt  #colorsplash_bw #zealous Remedios #herbales y ...      1   \n",
       "\n",
       "                                          cleaning_data  \n",
       "0                        feel today legday jelly aching  \n",
       "1     absolute disgrace carriages bangor half standi...  \n",
       "2     this valentines nephews elated sometimes littl...  \n",
       "4                               zoes first love rattled  \n",
       "5     chaotic love giclee print love chaotic abstrac...  \n",
       "...                                                 ...  \n",
       "4862  fanghorn forest alder woodland glen vorlich lo...  \n",
       "4863        where there whisk powerless bakersgonnabake  \n",
       "4864        well done eskom dies loadshedding powerless  \n",
       "4865                   feelin love valentinesday caring  \n",
       "4868  colorsplashbw zealous remedios herbales tratam...  \n",
       "\n",
       "[3098 rows x 4 columns]"
      ]
     },
     "execution_count": 25,
     "metadata": {},
     "output_type": "execute_result"
    }
   ],
   "source": [
    "from Twitterpreprocessor import TwitterPreprocessor\n",
    "data['cleaning_data'] = data['Caption'].apply(lambda x :TwitterPreprocessor(str(x)).fully_preprocess().text)\n",
    "#data['cleaning_data'] = data['Caption'].apply(lambda x: remove(x.lower()))\n",
    "data"
   ]
  },
  {
   "cell_type": "code",
   "execution_count": 26,
   "id": "9ff3a133",
   "metadata": {},
   "outputs": [],
   "source": [
    "data.drop_duplicates(subset =\"cleaning_data\", keep = 'first', inplace = True)"
   ]
  },
  {
   "attachments": {},
   "cell_type": "markdown",
   "id": "8a66fef8",
   "metadata": {},
   "source": [
    "# 3.2 Stemming"
   ]
  },
  {
   "cell_type": "code",
   "execution_count": 27,
   "id": "b1701d75",
   "metadata": {},
   "outputs": [],
   "source": [
    "from nltk.stem import PorterStemmer\n",
    "ps = PorterStemmer()\n",
    "def porterstemmer(text):\n",
    "  text = ' '.join(ps.stem(word) for word in text.split() if word in text)\n",
    "  return text  \n",
    "data['tweet_stem'] = data['cleaning_data'].apply(porterstemmer)"
   ]
  },
  {
   "attachments": {},
   "cell_type": "markdown",
   "id": "4f4875d1",
   "metadata": {},
   "source": [
    "# 3.3 Lemmazation"
   ]
  },
  {
   "cell_type": "code",
   "execution_count": 28,
   "id": "8d29d67e",
   "metadata": {},
   "outputs": [],
   "source": [
    "import spacy\n",
    "nlp = spacy.load('en_core_web_sm')\n",
    "def lemmatization (text):\n",
    "    doc = nlp(text)\n",
    "    tokens = [token.lemma_.lower() for token in doc if not token.is_stop and not token.is_punct]\n",
    "    return ' '.join(tokens)\n",
    "data['tweet_clean'] = data['tweet_stem'].apply(lemmatization)"
   ]
  },
  {
   "attachments": {},
   "cell_type": "markdown",
   "id": "dcd9ea45",
   "metadata": {},
   "source": [
    "# 3.4 Data Final"
   ]
  },
  {
   "cell_type": "code",
   "execution_count": 29,
   "id": "614f8cbe",
   "metadata": {},
   "outputs": [
    {
     "data": {
      "text/html": [
       "<div>\n",
       "<style scoped>\n",
       "    .dataframe tbody tr th:only-of-type {\n",
       "        vertical-align: middle;\n",
       "    }\n",
       "\n",
       "    .dataframe tbody tr th {\n",
       "        vertical-align: top;\n",
       "    }\n",
       "\n",
       "    .dataframe thead th {\n",
       "        text-align: right;\n",
       "    }\n",
       "</style>\n",
       "<table border=\"1\" class=\"dataframe\">\n",
       "  <thead>\n",
       "    <tr style=\"text-align: right;\">\n",
       "      <th></th>\n",
       "      <th>File Name</th>\n",
       "      <th>Caption</th>\n",
       "      <th>LABEL</th>\n",
       "      <th>cleaning_data</th>\n",
       "      <th>tweet_stem</th>\n",
       "      <th>tweet_clean</th>\n",
       "    </tr>\n",
       "  </thead>\n",
       "  <tbody>\n",
       "    <tr>\n",
       "      <th>0</th>\n",
       "      <td>1.txt</td>\n",
       "      <td>How I feel today #legday #jelly #aching #gym</td>\n",
       "      <td>0</td>\n",
       "      <td>feel today legday jelly aching</td>\n",
       "      <td>feel today legday jelli ach</td>\n",
       "      <td>feel today legday jelli ach</td>\n",
       "    </tr>\n",
       "    <tr>\n",
       "      <th>1</th>\n",
       "      <td>10.txt</td>\n",
       "      <td>@ArrivaTW absolute disgrace two carriages from...</td>\n",
       "      <td>0</td>\n",
       "      <td>absolute disgrace carriages bangor half standi...</td>\n",
       "      <td>absolut disgrac carriag bangor half stand room...</td>\n",
       "      <td>absolut disgrac carriag bangor half stand room...</td>\n",
       "    </tr>\n",
       "    <tr>\n",
       "      <th>2</th>\n",
       "      <td>100.txt</td>\n",
       "      <td>This is my Valentine's from 1 of my nephews. I...</td>\n",
       "      <td>1</td>\n",
       "      <td>this valentines nephews elated sometimes littl...</td>\n",
       "      <td>thi valentin nephew elat sometim littl thing b...</td>\n",
       "      <td>thi valentin nephew elat sometim littl thing b...</td>\n",
       "    </tr>\n",
       "    <tr>\n",
       "      <th>4</th>\n",
       "      <td>1001.txt</td>\n",
       "      <td>Zoe's first love #Rattled @JohnnyHarper15</td>\n",
       "      <td>1</td>\n",
       "      <td>zoes first love rattled</td>\n",
       "      <td>zoe first love rattl</td>\n",
       "      <td>zoe love rattl</td>\n",
       "    </tr>\n",
       "    <tr>\n",
       "      <th>5</th>\n",
       "      <td>1002.txt</td>\n",
       "      <td>Chaotic Love - giclee print ?65 at #art #love ...</td>\n",
       "      <td>1</td>\n",
       "      <td>chaotic love giclee print love chaotic abstrac...</td>\n",
       "      <td>chaotic love gicle print love chaotic abstract...</td>\n",
       "      <td>chaotic love gicle print love chaotic abstract...</td>\n",
       "    </tr>\n",
       "    <tr>\n",
       "      <th>...</th>\n",
       "      <td>...</td>\n",
       "      <td>...</td>\n",
       "      <td>...</td>\n",
       "      <td>...</td>\n",
       "      <td>...</td>\n",
       "      <td>...</td>\n",
       "    </tr>\n",
       "    <tr>\n",
       "      <th>4856</th>\n",
       "      <td>988.txt</td>\n",
       "      <td>RT @bishopcarrollhs: Great @bishopcarrollhs st...</td>\n",
       "      <td>1</td>\n",
       "      <td>great students caring empowerbchs</td>\n",
       "      <td>great student care empowerbch</td>\n",
       "      <td>great student care empowerbch</td>\n",
       "    </tr>\n",
       "    <tr>\n",
       "      <th>4857</th>\n",
       "      <td>989.txt</td>\n",
       "      <td>Big thank you to all of the teachers who atten...</td>\n",
       "      <td>1</td>\n",
       "      <td>thank teachers attended isabcpd nice meet pass...</td>\n",
       "      <td>thank teacher attend isabcpd nice meet passion...</td>\n",
       "      <td>thank teacher attend isabcpd nice meet passion...</td>\n",
       "    </tr>\n",
       "    <tr>\n",
       "      <th>4858</th>\n",
       "      <td>99.txt</td>\n",
       "      <td>@__Dave24 looks so elated ?</td>\n",
       "      <td>1</td>\n",
       "      <td>looks elated</td>\n",
       "      <td>look elat</td>\n",
       "      <td>look elat</td>\n",
       "    </tr>\n",
       "    <tr>\n",
       "      <th>4861</th>\n",
       "      <td>992.txt</td>\n",
       "      <td>RT @headquarters: To be fair, everything makes...</td>\n",
       "      <td>0</td>\n",
       "      <td>fair everything makes want scream anger</td>\n",
       "      <td>fair everyth make want scream anger</td>\n",
       "      <td>fair everyth want scream anger</td>\n",
       "    </tr>\n",
       "    <tr>\n",
       "      <th>4865</th>\n",
       "      <td>996.txt</td>\n",
       "      <td>Feelin' the love in here! #ValentinesDay #caring</td>\n",
       "      <td>1</td>\n",
       "      <td>feelin love valentinesday caring</td>\n",
       "      <td>feelin love valentinesday care</td>\n",
       "      <td>feelin love valentinesday care</td>\n",
       "    </tr>\n",
       "  </tbody>\n",
       "</table>\n",
       "<p>2886 rows × 6 columns</p>\n",
       "</div>"
      ],
      "text/plain": [
       "     File Name                                            Caption  LABEL  \\\n",
       "0        1.txt      How I feel today #legday #jelly #aching #gym       0   \n",
       "1       10.txt  @ArrivaTW absolute disgrace two carriages from...      0   \n",
       "2      100.txt  This is my Valentine's from 1 of my nephews. I...      1   \n",
       "4     1001.txt         Zoe's first love #Rattled @JohnnyHarper15       1   \n",
       "5     1002.txt  Chaotic Love - giclee print ?65 at #art #love ...      1   \n",
       "...        ...                                                ...    ...   \n",
       "4856   988.txt  RT @bishopcarrollhs: Great @bishopcarrollhs st...      1   \n",
       "4857   989.txt  Big thank you to all of the teachers who atten...      1   \n",
       "4858    99.txt                       @__Dave24 looks so elated ?       1   \n",
       "4861   992.txt  RT @headquarters: To be fair, everything makes...      0   \n",
       "4865   996.txt  Feelin' the love in here! #ValentinesDay #caring       1   \n",
       "\n",
       "                                          cleaning_data  \\\n",
       "0                        feel today legday jelly aching   \n",
       "1     absolute disgrace carriages bangor half standi...   \n",
       "2     this valentines nephews elated sometimes littl...   \n",
       "4                               zoes first love rattled   \n",
       "5     chaotic love giclee print love chaotic abstrac...   \n",
       "...                                                 ...   \n",
       "4856                  great students caring empowerbchs   \n",
       "4857  thank teachers attended isabcpd nice meet pass...   \n",
       "4858                                       looks elated   \n",
       "4861            fair everything makes want scream anger   \n",
       "4865                   feelin love valentinesday caring   \n",
       "\n",
       "                                             tweet_stem  \\\n",
       "0                           feel today legday jelli ach   \n",
       "1     absolut disgrac carriag bangor half stand room...   \n",
       "2     thi valentin nephew elat sometim littl thing b...   \n",
       "4                                  zoe first love rattl   \n",
       "5     chaotic love gicle print love chaotic abstract...   \n",
       "...                                                 ...   \n",
       "4856                      great student care empowerbch   \n",
       "4857  thank teacher attend isabcpd nice meet passion...   \n",
       "4858                                          look elat   \n",
       "4861                fair everyth make want scream anger   \n",
       "4865                     feelin love valentinesday care   \n",
       "\n",
       "                                            tweet_clean  \n",
       "0                           feel today legday jelli ach  \n",
       "1     absolut disgrac carriag bangor half stand room...  \n",
       "2     thi valentin nephew elat sometim littl thing b...  \n",
       "4                                        zoe love rattl  \n",
       "5     chaotic love gicle print love chaotic abstract...  \n",
       "...                                                 ...  \n",
       "4856                      great student care empowerbch  \n",
       "4857  thank teacher attend isabcpd nice meet passion...  \n",
       "4858                                          look elat  \n",
       "4861                     fair everyth want scream anger  \n",
       "4865                     feelin love valentinesday care  \n",
       "\n",
       "[2886 rows x 6 columns]"
      ]
     },
     "execution_count": 29,
     "metadata": {},
     "output_type": "execute_result"
    }
   ],
   "source": [
    "data"
   ]
  },
  {
   "attachments": {},
   "cell_type": "markdown",
   "id": "2f47c78e",
   "metadata": {},
   "source": [
    "# 4 TF-IDF method"
   ]
  },
  {
   "cell_type": "code",
   "execution_count": 30,
   "id": "4c4db5d2",
   "metadata": {},
   "outputs": [
    {
     "name": "stdout",
     "output_type": "stream",
     "text": [
      "  (0, 6444)\t0.3045555910597255\n",
      "  (0, 3628)\t0.5626155455615607\n",
      "  (0, 3316)\t0.5350474766947131\n",
      "  (0, 2244)\t0.3238612741066334\n",
      "  (0, 38)\t0.4467076366745674\n",
      "  (1, 5975)\t0.29806948869642014\n",
      "  (1, 5346)\t0.29806948869642014\n",
      "  (1, 2786)\t0.3173759207199378\n",
      "  (1, 1750)\t0.5596662267869166\n",
      "  (1, 1016)\t0.39401014406275664\n",
      "  (1, 491)\t0.39401014406275664\n",
      "  (1, 22)\t0.31283767693337117\n",
      "  (2, 6715)\t0.2427093251264762\n",
      "  (2, 6367)\t0.5562825541594294\n",
      "  (2, 6363)\t0.2195075839199462\n",
      "  (2, 5851)\t0.35600586846145404\n",
      "  (2, 4307)\t0.36680155141903603\n",
      "  (2, 3710)\t0.26773419051487557\n",
      "  (2, 2646)\t0.2243496207232328\n",
      "  (2, 1969)\t0.2821752785522984\n",
      "  (2, 636)\t0.3471851532228194\n",
      "  (3, 7144)\t0.6729586446255426\n",
      "  (3, 5111)\t0.6729586446255426\n",
      "  (3, 3769)\t0.3070070442962272\n",
      "  (4, 5707)\t0.2594085022248552\n",
      "  :\t:\n",
      "  (2880, 1246)\t0.31509714625890134\n",
      "  (2880, 950)\t0.31509714625890134\n",
      "  (2881, 6081)\t0.5169712843450999\n",
      "  (2881, 2692)\t0.40566531377957027\n",
      "  (2881, 2014)\t0.6418002026085182\n",
      "  (2881, 1001)\t0.39530854315378233\n",
      "  (2882, 6328)\t0.26248333224841375\n",
      "  (2882, 6270)\t0.37155982002356536\n",
      "  (2882, 4661)\t0.2675264987794103\n",
      "  (2882, 4337)\t0.3187244651161447\n",
      "  (2882, 3965)\t0.30636315595650293\n",
      "  (2882, 3262)\t0.43784751654201276\n",
      "  (2882, 1954)\t0.4011708816932353\n",
      "  (2882, 380)\t0.4163930605028352\n",
      "  (2883, 3749)\t0.6130074806124618\n",
      "  (2883, 1969)\t0.7900771030179032\n",
      "  (2884, 6841)\t0.37117307943837313\n",
      "  (2884, 5524)\t0.4646905199145618\n",
      "  (2884, 2180)\t0.530855862469754\n",
      "  (2884, 2106)\t0.44963757418894096\n",
      "  (2884, 224)\t0.40287885395084655\n",
      "  (2885, 6717)\t0.5307188093343322\n",
      "  (2885, 3769)\t0.3165585099711557\n",
      "  (2885, 2246)\t0.6598946709426502\n",
      "  (2885, 1001)\t0.4273959270338004\n"
     ]
    }
   ],
   "source": [
    "from sklearn.feature_extraction.text import TfidfVectorizer\n",
    "vectorizer = TfidfVectorizer()\n",
    "vectorizer.fit(data['tweet_clean'])\n",
    "vector = vectorizer.transform(data['tweet_clean'])\n",
    "print(vector)"
   ]
  },
  {
   "attachments": {},
   "cell_type": "markdown",
   "id": "caf67476",
   "metadata": {},
   "source": [
    "# 4.1 Word2Vec method"
   ]
  },
  {
   "cell_type": "code",
   "execution_count": 31,
   "id": "7516ae15",
   "metadata": {},
   "outputs": [
    {
     "name": "stdout",
     "output_type": "stream",
     "text": [
      "  (0, 6444)\t0.3045555910597255\n",
      "  (0, 3628)\t0.5626155455615607\n",
      "  (0, 3316)\t0.5350474766947131\n",
      "  (0, 2244)\t0.3238612741066334\n",
      "  (0, 38)\t0.4467076366745674\n",
      "  (1, 5975)\t0.29806948869642014\n",
      "  (1, 5346)\t0.29806948869642014\n",
      "  (1, 2786)\t0.3173759207199378\n",
      "  (1, 1750)\t0.5596662267869166\n",
      "  (1, 1016)\t0.39401014406275664\n",
      "  (1, 491)\t0.39401014406275664\n",
      "  (1, 22)\t0.31283767693337117\n",
      "  (2, 6715)\t0.2427093251264762\n",
      "  (2, 6367)\t0.5562825541594294\n",
      "  (2, 6363)\t0.2195075839199462\n",
      "  (2, 5851)\t0.35600586846145404\n",
      "  (2, 4307)\t0.36680155141903603\n",
      "  (2, 3710)\t0.26773419051487557\n",
      "  (2, 2646)\t0.2243496207232328\n",
      "  (2, 1969)\t0.2821752785522984\n",
      "  (2, 636)\t0.3471851532228194\n",
      "  (3, 7144)\t0.6729586446255426\n",
      "  (3, 5111)\t0.6729586446255426\n",
      "  (3, 3769)\t0.3070070442962272\n",
      "  (4, 5707)\t0.2594085022248552\n",
      "  :\t:\n",
      "  (2880, 1246)\t0.31509714625890134\n",
      "  (2880, 950)\t0.31509714625890134\n",
      "  (2881, 6081)\t0.5169712843450999\n",
      "  (2881, 2692)\t0.40566531377957027\n",
      "  (2881, 2014)\t0.6418002026085182\n",
      "  (2881, 1001)\t0.39530854315378233\n",
      "  (2882, 6328)\t0.26248333224841375\n",
      "  (2882, 6270)\t0.37155982002356536\n",
      "  (2882, 4661)\t0.2675264987794103\n",
      "  (2882, 4337)\t0.3187244651161447\n",
      "  (2882, 3965)\t0.30636315595650293\n",
      "  (2882, 3262)\t0.43784751654201276\n",
      "  (2882, 1954)\t0.4011708816932353\n",
      "  (2882, 380)\t0.4163930605028352\n",
      "  (2883, 3749)\t0.6130074806124618\n",
      "  (2883, 1969)\t0.7900771030179032\n",
      "  (2884, 6841)\t0.37117307943837313\n",
      "  (2884, 5524)\t0.4646905199145618\n",
      "  (2884, 2180)\t0.530855862469754\n",
      "  (2884, 2106)\t0.44963757418894096\n",
      "  (2884, 224)\t0.40287885395084655\n",
      "  (2885, 6717)\t0.5307188093343322\n",
      "  (2885, 3769)\t0.3165585099711557\n",
      "  (2885, 2246)\t0.6598946709426502\n",
      "  (2885, 1001)\t0.4273959270338004\n"
     ]
    }
   ],
   "source": [
    "import gensim.downloader as api\n",
    "from gensim.models import KeyedVectors\n",
    "\n",
    "# Download the pre-trained GloVe vectors for Twitter\n",
    "glove_model = api.load(\"glove-twitter-100\")\n",
    "\n",
    "# Convert the GloVe vectors to Word2Vec format\n",
    "w2v_model = KeyedVectors(vector_size=glove_model.vector_size)\n",
    "w2v_model.index_to_key = glove_model.index_to_key\n",
    "w2v_model.vectors = glove_model.vectors\n",
    "#w2v_model.index_to_key = glove_model.index_to_key\n",
    "\n",
    "# Test the trained model\n",
    "if 'king' in w2v_model:\n",
    "    vector = w2v_model['king'] # Retrieve the word vector for \"king\"\n",
    "    similar_words = w2v_model.most_similar('king') # Retrieve the most similar words\n",
    "else:\n",
    "    print(vector)"
   ]
  },
  {
   "attachments": {},
   "cell_type": "markdown",
   "id": "24d09990",
   "metadata": {
    "papermill": {
     "duration": 0.004695,
     "end_time": "2023-03-12T14:53:38.240192",
     "exception": false,
     "start_time": "2023-03-12T14:53:38.235497",
     "status": "completed"
    },
    "tags": []
   },
   "source": [
    "# 5 Split Dataset"
   ]
  },
  {
   "cell_type": "code",
   "execution_count": 32,
   "id": "4c9044f0",
   "metadata": {
    "execution": {
     "iopub.execute_input": "2023-03-12T14:53:38.251504Z",
     "iopub.status.busy": "2023-03-12T14:53:38.251184Z",
     "iopub.status.idle": "2023-03-12T14:53:38.261753Z",
     "shell.execute_reply": "2023-03-12T14:53:38.260726Z"
    },
    "papermill": {
     "duration": 0.019206,
     "end_time": "2023-03-12T14:53:38.264248",
     "exception": false,
     "start_time": "2023-03-12T14:53:38.245042",
     "status": "completed"
    },
    "tags": []
   },
   "outputs": [],
   "source": [
    "X = data['tweet_clean']\n",
    "y = data['LABEL']\n",
    "X_train, X_test, y_train, y_test = train_test_split(vector,y,test_size = 0.2, random_state=42,stratify=y)"
   ]
  },
  {
   "attachments": {},
   "cell_type": "markdown",
   "id": "0ce1618d",
   "metadata": {
    "papermill": {
     "duration": 0.005184,
     "end_time": "2023-03-12T14:53:38.274915",
     "exception": false,
     "start_time": "2023-03-12T14:53:38.269731",
     "status": "completed"
    },
    "tags": []
   },
   "source": [
    "# 6 Model MultinomialNB"
   ]
  },
  {
   "cell_type": "code",
   "execution_count": 37,
   "id": "f6e9e3ae",
   "metadata": {
    "execution": {
     "iopub.execute_input": "2023-03-12T14:53:38.386374Z",
     "iopub.status.busy": "2023-03-12T14:53:38.385867Z",
     "iopub.status.idle": "2023-03-12T14:53:38.411091Z",
     "shell.execute_reply": "2023-03-12T14:53:38.410240Z"
    },
    "papermill": {
     "duration": 0.035821,
     "end_time": "2023-03-12T14:53:38.413463",
     "exception": false,
     "start_time": "2023-03-12T14:53:38.377642",
     "status": "completed"
    },
    "tags": []
   },
   "outputs": [],
   "source": []
  },
  {
   "attachments": {},
   "cell_type": "markdown",
   "id": "20ecf79e",
   "metadata": {
    "papermill": {
     "duration": 0.006059,
     "end_time": "2023-03-12T14:53:38.425423",
     "exception": false,
     "start_time": "2023-03-12T14:53:38.419364",
     "status": "completed"
    },
    "tags": []
   },
   "source": [
    "# 7. Result "
   ]
  },
  {
   "cell_type": "code",
   "execution_count": 38,
   "id": "d9cd5c86",
   "metadata": {
    "execution": {
     "iopub.execute_input": "2023-03-12T14:53:38.440141Z",
     "iopub.status.busy": "2023-03-12T14:53:38.439809Z",
     "iopub.status.idle": "2023-03-12T14:53:38.449385Z",
     "shell.execute_reply": "2023-03-12T14:53:38.447361Z"
    },
    "papermill": {
     "duration": 0.018895,
     "end_time": "2023-03-12T14:53:38.451834",
     "exception": false,
     "start_time": "2023-03-12T14:53:38.432939",
     "status": "completed"
    },
    "tags": []
   },
   "outputs": [
    {
     "name": "stdout",
     "output_type": "stream",
     "text": [
      "Accuracy Score Testing : 0.8719723183391004\n",
      "Classification Report : \n",
      "              precision    recall  f1-score   support\n",
      "\n",
      "           0       0.94      0.77      0.85       267\n",
      "           1       0.83      0.96      0.89       311\n",
      "\n",
      "    accuracy                           0.87       578\n",
      "   macro avg       0.89      0.86      0.87       578\n",
      "weighted avg       0.88      0.87      0.87       578\n",
      "\n"
     ]
    },
    {
     "data": {
      "image/png": "[encoded data removed]",
      "text/plain": [
       "<Figure size 640x480 with 2 Axes>"
      ]
     },
     "metadata": {},
     "output_type": "display_data"
    }
   ],
   "source": [
    "from sklearn import metrics\n",
    "from sklearn.metrics import classification_report,accuracy_score\n",
    "import seaborn as sns\n",
    "import matplotlib.pyplot as plt\n",
    "from sklearn.metrics import classification_report\n",
    "model = MultinomialNB()\n",
    "model.fit(X_train,y_train)\n",
    "model.score(X_train,y_train)\n",
    "y_pred = model.predict(X_test)\n",
    "print(\"Accuracy Score Testing :\" ,accuracy_score(y_test, y_pred))\n",
    "print(\"Classification Report : \")\n",
    "print(classification_report(y_test,y_pred))\n",
    "cm = metrics.confusion_matrix(y_test, y_pred)\n",
    "cm_matrixNB = pd.DataFrame(data=cm, )\n",
    "sns.heatmap(cm_matrixNB, annot=True, fmt='d', cmap='YlGnBu')\n",
    "plt.show()"
   ]
  },
  {
   "attachments": {},
   "cell_type": "markdown",
   "id": "1df0df7b",
   "metadata": {},
   "source": [
    "# 8 Cross Validation"
   ]
  },
  {
   "cell_type": "code",
   "execution_count": 40,
   "id": "08f6978e",
   "metadata": {},
   "outputs": [
    {
     "name": "stdout",
     "output_type": "stream",
     "text": [
      "Average CV Score:  0.8275550536420102\n"
     ]
    }
   ],
   "source": [
    "from sklearn.ensemble import RandomForestClassifier\n",
    "from sklearn.model_selection import KFold, cross_val_score\n",
    "data\n",
    "k_folds = KFold(n_splits = 10)\n",
    "clf=RandomForestClassifier( random_state=42 )\n",
    "scores = cross_val_score(clf, X_train, y_train, cv = k_folds)\n",
    "print(\"Average CV Score: \", scores.mean())\n",
    "# Average CV Score:   0.8275550536420102"
   ]
  }
 ],
 "metadata": {
  "kernelspec": {
   "display_name": "Python 3",
   "language": "python",
   "name": "python3"
  },
  "language_info": {
   "codemirror_mode": {
    "name": "ipython",
    "version": 3
   },
   "file_extension": ".py",
   "mimetype": "text/x-python",
   "name": "python",
   "nbconvert_exporter": "python",
   "pygments_lexer": "ipython3",
   "version": "3.10.11"
  },
  "papermill": {
   "default_parameters": {},
   "duration": 68.560501,
   "end_time": "2023-03-12T14:53:42.170556",
   "environment_variables": {},
   "exception": null,
   "input_path": "__notebook__.ipynb",
   "output_path": "__notebook__.ipynb",
   "parameters": {},
   "start_time": "2023-03-12T14:52:33.610055",
   "version": "2.4.0"
  }
 },
 "nbformat": 4,
 "nbformat_minor": 5
}
