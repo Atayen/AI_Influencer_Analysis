{
 "cells": [
  {
   "cell_type": "code",
   "execution_count": 19,
   "metadata": {},
   "outputs": [
    {
     "ename": "GraphAPIError",
     "evalue": "(#3) Application does not have the capability to make this API call.",
     "output_type": "error",
     "traceback": [
      "\u001b[0;31m---------------------------------------------------------------------------\u001b[0m",
      "\u001b[0;31mGraphAPIError\u001b[0m                             Traceback (most recent call last)",
      "Cell \u001b[0;32mIn[19], line 18\u001b[0m\n\u001b[1;32m     16\u001b[0m \t\u001b[39mprint\u001b[39m(json\u001b[39m.\u001b[39mdumps(page,indent\u001b[39m=\u001b[39m\u001b[39m4\u001b[39m))\n\u001b[1;32m     17\u001b[0m \u001b[39mif\u001b[39;00m \u001b[39m__name__\u001b[39m \u001b[39m==\u001b[39m \u001b[39m'\u001b[39m\u001b[39m__main__\u001b[39m\u001b[39m'\u001b[39m:\n\u001b[0;32m---> 18\u001b[0m \tmain()\n",
      "Cell \u001b[0;32mIn[19], line 14\u001b[0m, in \u001b[0;36mmain\u001b[0;34m()\u001b[0m\n\u001b[1;32m     10\u001b[0m fields \u001b[39m=\u001b[39m [\u001b[39m'\u001b[39m\u001b[39mid\u001b[39m\u001b[39m'\u001b[39m,\u001b[39m'\u001b[39m\u001b[39mname\u001b[39m\u001b[39m'\u001b[39m,\u001b[39m'\u001b[39m\u001b[39mabout\u001b[39m\u001b[39m'\u001b[39m,\u001b[39m'\u001b[39m\u001b[39mlikes\u001b[39m\u001b[39m'\u001b[39m,\u001b[39m'\u001b[39m\u001b[39mlink\u001b[39m\u001b[39m'\u001b[39m,\u001b[39m'\u001b[39m\u001b[39mband_members\u001b[39m\u001b[39m'\u001b[39m]\n\u001b[1;32m     12\u001b[0m fields \u001b[39m=\u001b[39m \u001b[39m'\u001b[39m\u001b[39m,\u001b[39m\u001b[39m'\u001b[39m\u001b[39m.\u001b[39mjoin(fields)\n\u001b[0;32m---> 14\u001b[0m page \u001b[39m=\u001b[39m graph\u001b[39m.\u001b[39;49mrequest(\u001b[39m'\u001b[39;49m\u001b[39m/search?q=Poetry&type=event&limit=10000\u001b[39;49m\u001b[39m'\u001b[39;49m)\n\u001b[1;32m     16\u001b[0m \u001b[39mprint\u001b[39m(json\u001b[39m.\u001b[39mdumps(page,indent\u001b[39m=\u001b[39m\u001b[39m4\u001b[39m))\n",
      "File \u001b[0;32m~/Documents/AI/env/lib/python3.8/site-packages/facebook/__init__.py:313\u001b[0m, in \u001b[0;36mGraphAPI.request\u001b[0;34m(self, path, args, post_args, files, method)\u001b[0m\n\u001b[1;32m    310\u001b[0m     \u001b[39mraise\u001b[39;00m GraphAPIError(\u001b[39m\"\u001b[39m\u001b[39mMaintype was not text, image, or querystring\u001b[39m\u001b[39m\"\u001b[39m)\n\u001b[1;32m    312\u001b[0m \u001b[39mif\u001b[39;00m result \u001b[39mand\u001b[39;00m \u001b[39misinstance\u001b[39m(result, \u001b[39mdict\u001b[39m) \u001b[39mand\u001b[39;00m result\u001b[39m.\u001b[39mget(\u001b[39m\"\u001b[39m\u001b[39merror\u001b[39m\u001b[39m\"\u001b[39m):\n\u001b[0;32m--> 313\u001b[0m     \u001b[39mraise\u001b[39;00m GraphAPIError(result)\n\u001b[1;32m    314\u001b[0m \u001b[39mreturn\u001b[39;00m result\n",
      "\u001b[0;31mGraphAPIError\u001b[0m: (#3) Application does not have the capability to make this API call."
     ]
    }
   ],
   "source": [
    "import json\n",
    "import facebook\n",
    "\n",
    "def main():\n",
    "\ttoken = \"EAAG5oU7ZATZAUBAA3BZCIUxzSZBER6VlivVXx6fKZCTyJGiZCS0lcpa8ih9FRgHxzCyXVwuu5BryChyGhbGid5po4nle2q6ivzrZCf3AqZAoExhKdu6fYUdJTbRBZBbTiX0ZAHZCwFuVEQf4VPHqUZBBlsqWmnDWIhAQuHs1EM8ioHkRhp2a2kQCMZBZAs\"\n",
    "\tgraph = facebook.GraphAPI(token)\n",
    "\tpage_name = \"145647315578475\"\n",
    "\t\n",
    "\t# list of required fields\n",
    "\tfields = ['id','name','about','likes','link','band_members']\n",
    "\t\n",
    "\tfields = ','.join(fields)\n",
    "\t\n",
    "\tpage = graph.request('/search?q=Poetry&type=event&limit=10000')\n",
    "\t\t\n",
    "\tprint(json.dumps(page,indent=4))\n",
    "if __name__ == '__main__':\n",
    "\tmain()"
   ]
  }
 ],
 "metadata": {
  "kernelspec": {
   "display_name": "env",
   "language": "python",
   "name": "python3"
  },
  "language_info": {
   "codemirror_mode": {
    "name": "ipython",
    "version": 3
   },
   "file_extension": ".py",
   "mimetype": "text/x-python",
   "name": "python",
   "nbconvert_exporter": "python",
   "pygments_lexer": "ipython3",
   "version": "3.8.10 (default, Nov 14 2022, 12:59:47) \n[GCC 9.4.0]"
  },
  "orig_nbformat": 4,
  "vscode": {
   "interpreter": {
    "hash": "19d2761fa1ea6cb7e49546003c2aca332118a5f9cc2218a9daa5172f81fee8a0"
   }
  }
 },
 "nbformat": 4,
 "nbformat_minor": 2
}
