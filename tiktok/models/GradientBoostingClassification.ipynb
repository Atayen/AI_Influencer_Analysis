{
  "cells": [
    {
      "attachments": {},
      "cell_type": "markdown",
      "metadata": {},
      "source": [
        "Import"
      ]
    },
    {
      "cell_type": "code",
      "execution_count": 1,
      "metadata": {
        "trusted": true
      },
      "outputs": [],
      "source": [
        "import pandas as pd\n",
        "import numpy as np\n",
        "from datetime import datetime\n",
        "from sklearn.model_selection import train_test_split\n",
        "from sklearn.pipeline import Pipeline\n",
        "from sklearn.ensemble import GradientBoostingClassifier\n",
        "from sklearn.metrics import accuracy_score\n",
        "from sklearn import metrics\n",
        "from sklearn.metrics import classification_report\n",
        "from sklearn.metrics import confusion_matrix\n",
        "from matplotlib import pyplot as plt\n",
        "import seaborn as sns"
      ]
    },
    {
      "attachments": {},
      "cell_type": "markdown",
      "metadata": {},
      "source": [
        "Load Data"
      ]
    },
    {
      "cell_type": "code",
      "execution_count": 2,
      "metadata": {},
      "outputs": [],
      "source": [
        "\n",
        "\n",
        "from imblearn.under_sampling import TomekLinks\n",
        "from sklearn.preprocessing import StandardScaler\n",
        "data = pd.read_csv('../Data/cleandata.csv')\n",
        "\n",
        "x=data.iloc[:, :-1]\n",
        "y = data.IsABot.values.tolist()\n",
        "tl = TomekLinks()\n",
        "x, y = tl.fit_resample(x, y)"
      ]
    },
    {
      "cell_type": "code",
      "execution_count": 3,
      "metadata": {},
      "outputs": [],
      "source": [
        "\n",
        "\n",
        "\n",
        "\n",
        "\n",
        "x_train, x_test, y_train, y_test = train_test_split(x, y, test_size=0.2, random_state=48)"
      ]
    },
    {
      "attachments": {},
      "cell_type": "markdown",
      "metadata": {},
      "source": [
        "Train the Gradient Boosting model"
      ]
    },
    {
      "cell_type": "code",
      "execution_count": 4,
      "metadata": {
        "trusted": true
      },
      "outputs": [],
      "source": [
        "pipe = Pipeline([('gradientBoost', GradientBoostingClassifier())])\n",
        "pipe.fit(x_train,y_train)\n",
        "\n",
        "y_pred_train = pipe.predict(x_train)\n",
        "y_pred_test = pipe.predict(x_test)\n"
      ]
    },
    {
      "attachments": {},
      "cell_type": "markdown",
      "metadata": {},
      "source": [
        "Calculate the accuracy of the model"
      ]
    },
    {
      "cell_type": "code",
      "execution_count": 5,
      "metadata": {
        "trusted": true
      },
      "outputs": [
        {
          "name": "stdout",
          "output_type": "stream",
          "text": [
            "Accuracy  classification : 0.9139414802065404\n"
          ]
        }
      ],
      "source": [
        "def accurracy(y_true,y_pred_test):\n",
        "    return np.sum(y_true==y_pred_test)/len(y_true)\n",
        "print('Accuracy  classification :',accurracy(y_test,y_pred_test))\n"
      ]
    },
    {
      "attachments": {},
      "cell_type": "markdown",
      "metadata": {},
      "source": [
        "Calculate the classification report of the model"
      ]
    },
    {
      "cell_type": "code",
      "execution_count": 6,
      "metadata": {
        "trusted": true
      },
      "outputs": [
        {
          "name": "stdout",
          "output_type": "stream",
          "text": [
            "\n",
            "Training Accuracy score: 0.9560344827586207\n",
            "Testing Accuracy score: 0.9139414802065404\n",
            "classification_report \n",
            "               precision    recall  f1-score   support\n",
            "\n",
            "         0.0       0.91      0.88      0.89       237\n",
            "         1.0       0.92      0.94      0.93       344\n",
            "\n",
            "    accuracy                           0.91       581\n",
            "   macro avg       0.91      0.91      0.91       581\n",
            "weighted avg       0.91      0.91      0.91       581\n",
            "\n"
          ]
        },
        {
          "data": {
            "image/png": "[encoded data removed]",
            "text/plain": [
              "<Figure size 640x480 with 2 Axes>"
            ]
          },
          "metadata": {},
          "output_type": "display_data"
        }
      ],
      "source": [
        "\n",
        "print(\"\\nTraining Accuracy score:\",accuracy_score(y_train, y_pred_train))\n",
        "print(\"Testing Accuracy score:\",accuracy_score(y_test, y_pred_test))\n",
        "print(\"classification_report \\n \"+classification_report(y_test, y_pred_test))\n",
        "cm = metrics.confusion_matrix(y_test,  y_pred_test)\n",
        "\n",
        "cm_matrixNB = pd.DataFrame(data=cm\n",
        "                        )\n",
        "sns.heatmap(cm_matrixNB, annot=True, fmt='d', cmap='YlGnBu')\n",
        "plt.show()\n"
      ]
    },
    {
      "attachments": {},
      "cell_type": "markdown",
      "metadata": {},
      "source": [
        "with StandardScaler et dimensionality reduction techniques."
      ]
    },
    {
      "cell_type": "code",
      "execution_count": 7,
      "metadata": {},
      "outputs": [
        {
          "name": "stdout",
          "output_type": "stream",
          "text": [
            "Accuracy: 87.95%\n",
            "\n",
            "Training Accuracy score: 0.9172413793103448\n",
            "Testing Accuracy score: 0.8795180722891566\n",
            "DecisionTreeClassifier score: 0.9172413793103448\n",
            "classification_report \n",
            "               precision    recall  f1-score   support\n",
            "\n",
            "         0.0       0.89      0.81      0.85       239\n",
            "         1.0       0.87      0.93      0.90       342\n",
            "\n",
            "    accuracy                           0.88       581\n",
            "   macro avg       0.88      0.87      0.87       581\n",
            "weighted avg       0.88      0.88      0.88       581\n",
            "\n"
          ]
        },
        {
          "data": {
            "image/png": "[encoded data removed]",
            "text/plain": [
              "<Figure size 640x480 with 2 Axes>"
            ]
          },
          "metadata": {},
          "output_type": "display_data"
        }
      ],
      "source": [
        "from sklearn.pipeline import Pipeline\n",
        "from sklearn.preprocessing import StandardScaler\n",
        "from sklearn.decomposition import PCA\n",
        "from sklearn.ensemble import GradientBoostingClassifier\n",
        "\n",
        "from imblearn.under_sampling import TomekLinks\n",
        "from sklearn.preprocessing import StandardScaler\n",
        "data = pd.read_csv('../Data/cleandata.csv')\n",
        "\n",
        "x=data.iloc[:, :-1]\n",
        "y = data.IsABot.values.tolist()\n",
        "tl = TomekLinks()\n",
        "x, y = tl.fit_resample(x, y)\n",
        "x_train, x_test, y_train, y_test = train_test_split(x, y, test_size=0.2, random_state=42,stratify=y)\n",
        "pipeline = Pipeline([\n",
        "    ('scaler', StandardScaler()), # Standardizing the data\n",
        "    ('pca', PCA()), # Transforming the data with PCA\n",
        "    ('rf', GradientBoostingClassifier()) # Training a random forest classifier on the data\n",
        "])\n",
        "\n",
        "pipeline.fit(x_train, y_train)\n",
        "\n",
        "score = pipeline.score(x_test, y_test)\n",
        "print(\"Accuracy: %.2f%%\" % (score * 100))\n",
        "y_pred_train = pipeline.predict(x_train)\n",
        "y_pred_test = pipeline.predict(x_test)\n",
        "\n",
        "print(\"\\nTraining Accuracy score:\",accuracy_score(y_train, y_pred_train))\n",
        "print(\"Testing Accuracy score:\",accuracy_score(y_test, y_pred_test))\n",
        "print(\"DecisionTreeClassifier score:\",pipeline.score(x_train, y_train))\n",
        "print(\"classification_report \\n \"+classification_report(y_test, y_pred_test))\n",
        "\n",
        "from sklearn.metrics import confusion_matrix\n",
        "cm = metrics.confusion_matrix(y_test,  y_pred_test)\n",
        "\n",
        "cm_matrixNB = pd.DataFrame(data=cm)\n",
        "sns.heatmap(cm_matrixNB, annot=True, fmt='d', cmap='YlGnBu')\n",
        "plt.show()"
      ]
    }
  ],
  "metadata": {
    "kernelspec": {
      "display_name": "venv",
      "language": "python",
      "name": "python3"
    },
    "language_info": {
      "codemirror_mode": {
        "name": "ipython",
        "version": 3
      },
      "file_extension": ".py",
      "mimetype": "text/x-python",
      "name": "python",
      "nbconvert_exporter": "python",
      "pygments_lexer": "ipython3",
      "version": "3.10.6"
    },
    "vscode": {
      "interpreter": {
        "hash": "0b269af9bc916de9a69a9129747e30eb936050c74c311d5baf33ccd4b86d3e37"
      }
    }
  },
  "nbformat": 4,
  "nbformat_minor": 4
}
