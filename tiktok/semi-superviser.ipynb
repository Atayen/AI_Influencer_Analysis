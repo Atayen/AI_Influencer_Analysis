{
 "cells": [
  {
   "cell_type": "code",
   "execution_count": 28,
   "metadata": {},
   "outputs": [],
   "source": [
    "import numpy as np # linear algebra\n",
    "import pandas as pd # data processing, CSV file I/O (e.g. pd.read_csv)\n",
    "from sklearn.model_selection import train_test_split\n",
    "from sklearn.ensemble import RandomForestClassifier\n",
    "import gender_guesser.detector as gender\n",
    "\n",
    "import matplotlib.pyplot as plt \n",
    "from datetime import datetime\n",
    "from sklearn import metrics\n",
    "import seaborn as sns\n",
    "import matplotlib.pyplot as plt\n",
    "from sklearn.metrics import classification_report\n",
    "from sklearn.pipeline import Pipeline\n",
    "from sklearn.decomposition import PCA \n",
    "from sklearn.discriminant_analysis import StandardScaler \n",
    "from imblearn.over_sampling import SMOTE"
   ]
  },
  {
   "attachments": {},
   "cell_type": "markdown",
   "metadata": {},
   "source": [
    "# LabelPropagation"
   ]
  },
  {
   "cell_type": "code",
   "execution_count": 22,
   "metadata": {},
   "outputs": [
    {
     "name": "stderr",
     "output_type": "stream",
     "text": [
      "d:\\dsi\\PFE\\AI\\venv\\lib\\site-packages\\sklearn\\semi_supervised\\_label_propagation.py:318: ConvergenceWarning: max_iter=10000 was reached without convergence.\n",
      "  warnings.warn(\n",
      "d:\\dsi\\PFE\\AI\\venv\\lib\\site-packages\\sklearn\\semi_supervised\\_label_propagation.py:231: RuntimeWarning: invalid value encountered in divide\n",
      "  probabilities /= normalizer\n",
      "d:\\dsi\\PFE\\AI\\venv\\lib\\site-packages\\sklearn\\semi_supervised\\_label_propagation.py:231: RuntimeWarning: invalid value encountered in divide\n",
      "  probabilities /= normalizer\n"
     ]
    },
    {
     "name": "stdout",
     "output_type": "stream",
     "text": [
      "\n",
      " Training Accuracy score: 0.25212224108658743\n",
      "Testing Accuracy score: 0.7919911012235817\n",
      "              precision    recall  f1-score   support\n",
      "\n",
      "         0.0       0.83      0.63      0.72       376\n",
      "         1.0       0.77      0.91      0.84       523\n",
      "\n",
      "    accuracy                           0.79       899\n",
      "   macro avg       0.80      0.77      0.78       899\n",
      "weighted avg       0.80      0.79      0.79       899\n",
      "\n"
     ]
    },
    {
     "data": {
      "image/png": "[encoded data removed]",
      "text/plain": [
       "<Figure size 640x480 with 2 Axes>"
      ]
     },
     "metadata": {},
     "output_type": "display_data"
    }
   ],
   "source": [
    "import numpy as np\n",
    "from sklearn import datasets\n",
    "from sklearn.semi_supervised import LabelPropagation\n",
    "from sklearn.metrics import classification_report\n",
    "df = pd.read_csv('./Data/cleandata1.csv')\n",
    "df=df.loc[:,['HasProfilePicture', 'following', 'follower',\n",
    "       'HasAccountDescription', 'likes', 'posts', 'AverageNumberOfHashtags',\n",
    "       'AverageNumberOfComments', 'AverageNumberOfShare',\n",
    "       'AverageNumberOfLikes', 'AverageNumberOfLinkedProfiles',\n",
    "       'AverageNumberOfViews', 'IsABot']]\n",
    "origin_y=df['IsABot']\n",
    "origin_x=df.drop('IsABot', axis=1)\n",
    "# scaler = StandardScaler()\n",
    "# origin_x = scaler.fit_transform(origin_x)\n",
    "# Split the data into training and testing sets\n",
    "X_train, X_test, y_train, y_test = train_test_split(origin_x,origin_y, test_size=0.3, random_state=42)\n",
    "\n",
    "# Separate labeled and unlabeled data\n",
    "labeled_data = df[df['IsABot'] != -1]\n",
    "x_labeled_data = labeled_data.drop('IsABot', axis=1)\n",
    "x_unlabeled_data = df[df['IsABot'] == -1].drop('IsABot', axis=1)\n",
    "y_labeled_data= np.copy(labeled_data['IsABot'])\n",
    "# Train LabelPropagation model on the data\n",
    "label_prop_model =Pipeline([\n",
    "     # Transforming the data with PCA\n",
    "    ('rf', LabelPropagation(max_iter=10000)) # Training a random forest classifier on the data\n",
    "]) \n",
    "label_prop_model.fit(X_train, y_train)\n",
    "\n",
    "# Generate predictions for the labeled data\n",
    "y_pred_train = label_prop_model.predict(X_train)\n",
    "predicted_labels = label_prop_model.predict(X_test[y_test!=-1])\n",
    "print(\"\\n Training Accuracy score:\",metrics.accuracy_score(y_train, y_pred_train))\n",
    "print(\"Testing Accuracy score:\",metrics.accuracy_score(y_test[y_test!=-1], predicted_labels))\n",
    "print(classification_report(y_test[y_test!=-1], predicted_labels))\n",
    "cm = metrics.confusion_matrix(y_test[y_test!=-1], predicted_labels)\n",
    "# print('Confusion matrix\\n', cm)\n",
    "cm_matrixNB = pd.DataFrame(data=cm, )\n",
    "sns.heatmap(cm_matrixNB, annot=True, fmt='d', cmap='YlGnBu')\n",
    "plt.show()\n"
   ]
  },
  {
   "cell_type": "code",
   "execution_count": 30,
   "metadata": {},
   "outputs": [
    {
     "name": "stderr",
     "output_type": "stream",
     "text": [
      "d:\\dsi\\PFE\\AI\\venv\\lib\\site-packages\\sklearn\\semi_supervised\\_label_propagation.py:231: RuntimeWarning: invalid value encountered in divide\n",
      "  probabilities /= normalizer\n",
      "d:\\dsi\\PFE\\AI\\venv\\lib\\site-packages\\sklearn\\semi_supervised\\_label_propagation.py:231: RuntimeWarning: invalid value encountered in divide\n",
      "  probabilities /= normalizer\n",
      "d:\\dsi\\PFE\\AI\\venv\\lib\\site-packages\\sklearn\\semi_supervised\\_label_propagation.py:231: RuntimeWarning: invalid value encountered in divide\n",
      "  probabilities /= normalizer\n",
      "d:\\dsi\\PFE\\AI\\venv\\lib\\site-packages\\sklearn\\semi_supervised\\_label_propagation.py:231: RuntimeWarning: invalid value encountered in divide\n",
      "  probabilities /= normalizer\n",
      "d:\\dsi\\PFE\\AI\\venv\\lib\\site-packages\\sklearn\\semi_supervised\\_label_propagation.py:231: RuntimeWarning: invalid value encountered in divide\n",
      "  probabilities /= normalizer\n",
      "d:\\dsi\\PFE\\AI\\venv\\lib\\site-packages\\sklearn\\semi_supervised\\_label_propagation.py:231: RuntimeWarning: invalid value encountered in divide\n",
      "  probabilities /= normalizer\n",
      "d:\\dsi\\PFE\\AI\\venv\\lib\\site-packages\\sklearn\\semi_supervised\\_label_propagation.py:231: RuntimeWarning: invalid value encountered in divide\n",
      "  probabilities /= normalizer\n",
      "d:\\dsi\\PFE\\AI\\venv\\lib\\site-packages\\sklearn\\semi_supervised\\_label_propagation.py:231: RuntimeWarning: invalid value encountered in divide\n",
      "  probabilities /= normalizer\n",
      "d:\\dsi\\PFE\\AI\\venv\\lib\\site-packages\\sklearn\\semi_supervised\\_label_propagation.py:231: RuntimeWarning: invalid value encountered in divide\n",
      "  probabilities /= normalizer\n"
     ]
    },
    {
     "name": "stdout",
     "output_type": "stream",
     "text": [
      "Average CV Score:  0.22241225943719423\n"
     ]
    },
    {
     "name": "stderr",
     "output_type": "stream",
     "text": [
      "d:\\dsi\\PFE\\AI\\venv\\lib\\site-packages\\sklearn\\semi_supervised\\_label_propagation.py:231: RuntimeWarning: invalid value encountered in divide\n",
      "  probabilities /= normalizer\n"
     ]
    }
   ],
   "source": [
    "import numpy as np\n",
    "from sklearn import datasets\n",
    "from sklearn.model_selection import KFold, cross_val_score\n",
    "from sklearn.semi_supervised import LabelPropagation\n",
    "from sklearn.metrics import classification_report\n",
    "df = pd.read_csv('./Data/cleandata1.csv')\n",
    "df=df.loc[:,['HasProfilePicture', 'following', 'follower',\n",
    "       'HasAccountDescription', 'likes', 'posts', 'AverageNumberOfHashtags',\n",
    "       'AverageNumberOfComments', 'AverageNumberOfShare',\n",
    "       'AverageNumberOfLikes', 'AverageNumberOfLinkedProfiles',\n",
    "       'AverageNumberOfViews', 'IsABot']]\n",
    "origin_y=df['IsABot']\n",
    "origin_x=df.drop('IsABot', axis=1)\n",
    "# scaler = StandardScaler()\n",
    "# origin_x = scaler.fit_transform(origin_x)\n",
    "# Split the data into training and testing sets\n",
    "X_train, X_test, y_train, y_test = train_test_split(origin_x,origin_y, test_size=0.3, random_state=42)\n",
    "\n",
    "# Separate labeled and unlabeled data\n",
    "labeled_data = df[df['IsABot'] != -1]\n",
    "x_labeled_data = labeled_data.drop('IsABot', axis=1)\n",
    "x_unlabeled_data = df[df['IsABot'] == -1].drop('IsABot', axis=1)\n",
    "y_labeled_data= np.copy(labeled_data['IsABot'])\n",
    "# Train LabelPropagation model on the data\n",
    "label_prop_model =Pipeline([\n",
    "     # Transforming the data with PCA\n",
    "    ('rf', LabelPropagation(max_iter=10000)) # Training a random forest classifier on the data\n",
    "]) \n",
    "\n",
    "k_folds = KFold(n_splits = 10)\n",
    "scores = cross_val_score(label_prop_model, X_train, y_train, cv = k_folds)\n",
    "print(\"Average CV Score: \", scores.mean())\n",
    "# Average CV Score:  0.22241225943719423"
   ]
  },
  {
   "attachments": {},
   "cell_type": "markdown",
   "metadata": {},
   "source": [
    "# self training"
   ]
  },
  {
   "cell_type": "code",
   "execution_count": 27,
   "metadata": {},
   "outputs": [
    {
     "name": "stderr",
     "output_type": "stream",
     "text": [
      "d:\\dsi\\PFE\\AI\\venv\\lib\\site-packages\\sklearn\\base.py:413: UserWarning: X has feature names, but SelfTrainingClassifier was fitted without feature names\n",
      "  warnings.warn(\n",
      "d:\\dsi\\PFE\\AI\\venv\\lib\\site-packages\\sklearn\\base.py:413: UserWarning: X has feature names, but SelfTrainingClassifier was fitted without feature names\n",
      "  warnings.warn(\n"
     ]
    },
    {
     "name": "stdout",
     "output_type": "stream",
     "text": [
      "\n",
      " Training Accuracy score: 0.9982499124956248\n",
      "Testing Accuracy score: 0.9258741258741259\n",
      "              precision    recall  f1-score   support\n",
      "\n",
      "         0.0       0.92      0.93      0.93       353\n",
      "         1.0       0.93      0.92      0.93       362\n",
      "\n",
      "    accuracy                           0.93       715\n",
      "   macro avg       0.93      0.93      0.93       715\n",
      "weighted avg       0.93      0.93      0.93       715\n",
      "\n"
     ]
    },
    {
     "data": {
      "image/png": "[encoded data removed]",
      "text/plain": [
       "<Figure size 640x480 with 2 Axes>"
      ]
     },
     "metadata": {},
     "output_type": "display_data"
    }
   ],
   "source": [
    "\n",
    "import numpy as np\n",
    "from sklearn import datasets\n",
    "from sklearn.semi_supervised import SelfTrainingClassifier\n",
    "\n",
    "from sklearn.metrics import classification_report\n",
    "df = pd.read_csv('./Data/cleandata1.csv')\n",
    "df=df.loc[:,['HasProfilePicture', 'following', 'follower',\n",
    "       'HasAccountDescription', 'likes', 'posts', 'AverageNumberOfHashtags',\n",
    "       'AverageNumberOfComments', 'AverageNumberOfShare',\n",
    "       'AverageNumberOfLikes', 'AverageNumberOfLinkedProfiles',\n",
    "       'AverageNumberOfViews', 'IsABot']]\n",
    "origin_y=df['IsABot']\n",
    "origin_x=df.drop('IsABot', axis=1)\n",
    "\n",
    "\n",
    "labeled_data = df[df['IsABot'] != -1]\n",
    "x_labeled_data = labeled_data.drop('IsABot', axis=1)\n",
    "x_unlabeled_data = df[df['IsABot'] == -1].drop('IsABot', axis=1)\n",
    "y_labeled_data= np.copy(labeled_data['IsABot'])\n",
    "\n",
    "smote = SMOTE(random_state=10)\n",
    "x_labeled_data, y_labeled_data =smote.fit_resample(x_labeled_data,y_labeled_data)\n",
    "x_labeled_data_train, x_labeled_data_test, y_labeled_data_train,y_labeled_data_test = train_test_split(x_labeled_data,y_labeled_data, test_size=0.2, random_state=42)\n",
    "\n",
    "rf = RandomForestClassifier( random_state=42)\n",
    "self_training_model = SelfTrainingClassifier(rf)\n",
    "\n",
    "combined_X = np.concatenate((x_labeled_data_train, x_unlabeled_data))\n",
    "combined_y = np.concatenate((y_labeled_data_train, np.full(len(x_unlabeled_data), -1)))\n",
    "\n",
    "self_training_model.fit(combined_X,combined_y)\n",
    "\n",
    "y_pred_train = self_training_model.predict(x_labeled_data_train)\n",
    "predicted_labels = self_training_model.predict(x_labeled_data_test)\n",
    "\n",
    "print(\"\\n Training Accuracy score:\",metrics.accuracy_score(y_labeled_data_train, y_pred_train))\n",
    "print(\"Testing Accuracy score:\",metrics.accuracy_score(y_labeled_data_test, predicted_labels))\n",
    "print(classification_report(y_labeled_data_test, predicted_labels))\n",
    "cm = metrics.confusion_matrix(y_labeled_data_test, predicted_labels)\n",
    "\n",
    "cm_matrixNB = pd.DataFrame(data=cm, )\n",
    "sns.heatmap(cm_matrixNB, annot=True, fmt='d', cmap='YlGnBu')\n",
    "plt.show()"
   ]
  },
  {
   "attachments": {},
   "cell_type": "markdown",
   "metadata": {},
   "source": [
    "# cross validation"
   ]
  },
  {
   "cell_type": "code",
   "execution_count": 29,
   "metadata": {},
   "outputs": [
    {
     "name": "stdout",
     "output_type": "stream",
     "text": [
      "Average CV Score:  0.2360706860706861\n"
     ]
    }
   ],
   "source": [
    "import numpy as np # linear algebra\n",
    "import pandas as pd # data processing, CSV file I/O (e.g. pd.read_csv)\n",
    "from sklearn.model_selection import train_test_split\n",
    "from sklearn.ensemble import RandomForestClassifier\n",
    "import gender_guesser.detector as gender\n",
    "import matplotlib.pyplot as plt \n",
    "from datetime import datetime\n",
    "from sklearn import metrics\n",
    "import seaborn as sns\n",
    "import matplotlib.pyplot as plt\n",
    "from sklearn.model_selection import KFold, cross_val_score\n",
    "df = pd.read_csv('./Data/cleandata1.csv')\n",
    "df=df.loc[:,['HasProfilePicture', 'following', 'follower',\n",
    "       'HasAccountDescription', 'likes', 'posts', 'AverageNumberOfHashtags',\n",
    "       'AverageNumberOfComments', 'AverageNumberOfShare',\n",
    "       'AverageNumberOfLikes', 'AverageNumberOfLinkedProfiles',\n",
    "       'AverageNumberOfViews', 'IsABot']]\n",
    "\n",
    "origin_y=df['IsABot']\n",
    "origin_x=df.drop('IsABot', axis=1)\n",
    "\n",
    "X_train, X_test, y_train, y_test = train_test_split(origin_x,origin_y, test_size=0.2, random_state=42)\n",
    "\n",
    "labeled_data = df[df['IsABot'] != -1]\n",
    "x_labeled_data = labeled_data.drop('IsABot', axis=1)\n",
    "x_unlabeled_data = df[df['IsABot'] == -1].drop('IsABot', axis=1)\n",
    "y_labeled_data= np.copy(labeled_data['IsABot'])\n",
    "\n",
    "smote = SMOTE(random_state=10)\n",
    "x_labeled_data, y_labeled_data =smote.fit_resample(x_labeled_data,y_labeled_data)\n",
    "x_labeled_data_train, x_labeled_data_test, y_labeled_data_train,y_labeled_data_test = train_test_split(x_labeled_data,y_labeled_data, test_size=0.3, random_state=42)\n",
    "\n",
    "rf = RandomForestClassifier( random_state=42)\n",
    "self_training_model = SelfTrainingClassifier(rf)\n",
    "\n",
    "combined_X = np.concatenate((x_labeled_data_train, x_unlabeled_data))\n",
    "combined_y = np.concatenate((y_labeled_data_train, np.full(len(x_unlabeled_data), -1)))\n",
    "\n",
    "k_folds = KFold(n_splits = 10)\n",
    "scores = cross_val_score(self_training_model, combined_X, combined_y, cv = k_folds)\n",
    "print(\"Average CV Score: \", scores.mean())\n",
    "# Average CV Score:  0.2360706860706861"
   ]
  }
 ],
 "metadata": {
  "kernelspec": {
   "display_name": "venv",
   "language": "python",
   "name": "python3"
  },
  "language_info": {
   "codemirror_mode": {
    "name": "ipython",
    "version": 3
   },
   "file_extension": ".py",
   "mimetype": "text/x-python",
   "name": "python",
   "nbconvert_exporter": "python",
   "pygments_lexer": "ipython3",
   "version": "3.10.11"
  },
  "orig_nbformat": 4
 },
 "nbformat": 4,
 "nbformat_minor": 2
}
