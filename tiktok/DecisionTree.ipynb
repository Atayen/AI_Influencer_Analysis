{
  "cells": [
    {
      "attachments": {},
      "cell_type": "markdown",
      "metadata": {},
      "source": [
        "Import"
      ]
    },
    {
      "cell_type": "code",
      "execution_count": 1,
      "metadata": {
        "trusted": true
      },
      "outputs": [],
      "source": [
        "import pandas as pd\n",
        "from sklearn.model_selection import train_test_split\n",
        "from sklearn.tree import DecisionTreeClassifier\n",
        "from sklearn.metrics import accuracy_score\n",
        "from sklearn import tree\n",
        "from sklearn import metrics\n",
        "from sklearn.metrics import classification_report\n",
        "from matplotlib import pyplot as plt\n",
        "import seaborn as sns"
      ]
    },
    {
      "attachments": {},
      "cell_type": "markdown",
      "metadata": {},
      "source": [
        "Load Data"
      ]
    },
    {
      "cell_type": "code",
      "execution_count": 54,
      "metadata": {},
      "outputs": [],
      "source": []
    },
    {
      "cell_type": "code",
      "execution_count": 55,
      "metadata": {},
      "outputs": [],
      "source": [
        "from datetime import datetime\n",
        "\n",
        "\n"
      ]
    },
    {
      "cell_type": "code",
      "execution_count": 2,
      "metadata": {},
      "outputs": [],
      "source": [
        "from imblearn.under_sampling import TomekLinks\n",
        "from sklearn.preprocessing import StandardScaler\n",
        "data = pd.read_csv('./Data/cleandata.csv')\n",
        "\n",
        "x=data.iloc[:, :-1]\n",
        "y = data.IsABot.values.tolist()\n",
        "tl = TomekLinks()\n",
        "x, y = tl.fit_resample(x, y)"
      ]
    },
    {
      "cell_type": "code",
      "execution_count": 3,
      "metadata": {
        "trusted": true
      },
      "outputs": [],
      "source": [
        "\n",
        "x_train, x_test, y_train, y_test = train_test_split(x, y, test_size=0.2, random_state=48)\n"
      ]
    },
    {
      "attachments": {},
      "cell_type": "markdown",
      "metadata": {},
      "source": [
        "Train the decision tree model"
      ]
    },
    {
      "cell_type": "code",
      "execution_count": 4,
      "metadata": {
        "trusted": true
      },
      "outputs": [],
      "source": [
        "clt = DecisionTreeClassifier()\n",
        "clt.fit(x_train,y_train)\n",
        "\n",
        "y_pred_train = clt.predict(x_train)\n",
        "y_pred_test = clt.predict(x_test)\n"
      ]
    },
    {
      "attachments": {},
      "cell_type": "markdown",
      "metadata": {},
      "source": [
        "Calculate the accuracy of the model"
      ]
    },
    {
      "cell_type": "code",
      "execution_count": 5,
      "metadata": {
        "trusted": true
      },
      "outputs": [
        {
          "data": {
            "text/plain": [
              "0.8967297762478486"
            ]
          },
          "execution_count": 5,
          "metadata": {},
          "output_type": "execute_result"
        }
      ],
      "source": [
        "from sklearn.metrics import accuracy_score\n",
        "accuracy_score(y_test,  y_pred_test)\n"
      ]
    },
    {
      "attachments": {},
      "cell_type": "markdown",
      "metadata": {},
      "source": [
        "Calculate the classification report of the model"
      ]
    },
    {
      "cell_type": "code",
      "execution_count": 6,
      "metadata": {},
      "outputs": [
        {
          "name": "stdout",
          "output_type": "stream",
          "text": [
            "\n",
            "Training Accuracy score: 0.997845756139595\n",
            "Testing Accuracy score: 0.8967297762478486\n",
            "DecisionTreeClassifier score: 0.997845756139595\n",
            "classification_report \n",
            "               precision    recall  f1-score   support\n",
            "\n",
            "         0.0       0.90      0.85      0.87       244\n",
            "         1.0       0.90      0.93      0.91       337\n",
            "\n",
            "    accuracy                           0.90       581\n",
            "   macro avg       0.90      0.89      0.89       581\n",
            "weighted avg       0.90      0.90      0.90       581\n",
            "\n"
          ]
        },
        {
          "data": {
            "image/png": "[encoded data removed]",
            "text/plain": [
              "<Figure size 640x480 with 2 Axes>"
            ]
          },
          "metadata": {},
          "output_type": "display_data"
        }
      ],
      "source": [
        "print(\"\\nTraining Accuracy score:\",accuracy_score(y_train, y_pred_train))\n",
        "print(\"Testing Accuracy score:\",accuracy_score(y_test, y_pred_test))\n",
        "print(\"DecisionTreeClassifier score:\",clt.score(x_train, y_train))\n",
        "print(\"classification_report \\n \"+classification_report(y_test, y_pred_test))\n",
        "\n",
        "from sklearn.metrics import confusion_matrix\n",
        "cm = metrics.confusion_matrix(y_test,  y_pred_test)\n",
        "\n",
        "cm_matrixNB = pd.DataFrame(data=cm)\n",
        "sns.heatmap(cm_matrixNB, annot=True, fmt='d', cmap='YlGnBu')\n",
        "plt.show()"
      ]
    }
  ],
  "metadata": {
    "kernelspec": {
      "display_name": "venv",
      "language": "python",
      "name": "python3"
    },
    "language_info": {
      "codemirror_mode": {
        "name": "ipython",
        "version": 3
      },
      "file_extension": ".py",
      "mimetype": "text/x-python",
      "name": "python",
      "nbconvert_exporter": "python",
      "pygments_lexer": "ipython3",
      "version": "3.10.10"
    },
    "vscode": {
      "interpreter": {
        "hash": "919f1a12e43db5d5accd328457ee16aa753b873ae7a9cf7fbc94ca5438fe0a95"
      }
    }
  },
  "nbformat": 4,
  "nbformat_minor": 4
}
