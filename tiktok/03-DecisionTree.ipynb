{
  "cells": [
    {
      "attachments": {},
      "cell_type": "markdown",
      "metadata": {},
      "source": [
        "Import"
      ]
    },
    {
      "cell_type": "code",
      "execution_count": 1,
      "metadata": {
        "trusted": true
      },
      "outputs": [],
      "source": [
        "import pandas as pd\n",
        "from sklearn.model_selection import train_test_split\n",
        "from sklearn.tree import DecisionTreeClassifier\n",
        "from sklearn.metrics import accuracy_score\n",
        "from sklearn import tree\n",
        "from sklearn import metrics\n",
        "from sklearn.metrics import classification_report\n",
        "from matplotlib import pyplot as plt\n",
        "import seaborn as sns"
      ]
    },
    {
      "attachments": {},
      "cell_type": "markdown",
      "metadata": {},
      "source": [
        "All data"
      ]
    },
    {
      "cell_type": "code",
      "execution_count": 2,
      "metadata": {},
      "outputs": [
        {
          "name": "stdout",
          "output_type": "stream",
          "text": [
            "\n",
            "Training Accuracy score: 0.9987080103359173\n",
            "Testing Accuracy score: 0.8795180722891566\n",
            "DecisionTreeClassifier score: 0.9987080103359173\n",
            "classification_report \n",
            "               precision    recall  f1-score   support\n",
            "\n",
            "         0.0       0.86      0.86      0.86       242\n",
            "         1.0       0.90      0.90      0.90       339\n",
            "\n",
            "    accuracy                           0.88       581\n",
            "   macro avg       0.88      0.88      0.88       581\n",
            "weighted avg       0.88      0.88      0.88       581\n",
            "\n"
          ]
        },
        {
          "data": {
            "image/png": "[encoded data removed]",
            "text/plain": [
              "<Figure size 640x480 with 2 Axes>"
            ]
          },
          "metadata": {},
          "output_type": "display_data"
        }
      ],
      "source": [
        "\n",
        "from imblearn.under_sampling import TomekLinks\n",
        "df = pd.read_csv('./Data/cleandata.csv')\n",
        "tl = TomekLinks()\n",
        "x=df.iloc[:, :-1]\n",
        "y = df.IsABot.values.tolist()\n",
        "\n",
        "x, y = tl.fit_resample(x, y)\n",
        "\n",
        "x_train, x_test, y_train, y_test = train_test_split(x, y, test_size=0.2, random_state=48)\n",
        "clt = DecisionTreeClassifier()\n",
        "clt.fit(x_train,y_train)\n",
        "y_pred_train = clt.predict(x_train)\n",
        "y_pred_test = clt.predict(x_test)\n",
        "print(\"\\nTraining Accuracy score:\",accuracy_score(y_train, y_pred_train))\n",
        "print(\"Testing Accuracy score:\",accuracy_score(y_test, y_pred_test))\n",
        "\n",
        "print(\"classification_report \\n \"+classification_report(y_test, y_pred_test))\n",
        "\n",
        "from sklearn.metrics import confusion_matrix\n",
        "cm = metrics.confusion_matrix(y_test,  y_pred_test)\n",
        "\n",
        "cm_matrixNB = pd.DataFrame(data=cm)\n",
        "sns.heatmap(cm_matrixNB, annot=True, fmt='d', cmap='YlGnBu')\n",
        "plt.show()"
      ]
    },
    {
      "attachments": {},
      "cell_type": "markdown",
      "metadata": {},
      "source": [
        "all data + standar scaler"
      ]
    },
    {
      "attachments": {},
      "cell_type": "markdown",
      "metadata": {},
      "source": [
        "undersimpling"
      ]
    },
    {
      "attachments": {},
      "cell_type": "markdown",
      "metadata": {},
      "source": [
        "oversimpling"
      ]
    },
    {
      "cell_type": "code",
      "execution_count": 5,
      "metadata": {},
      "outputs": [
        {
          "name": "stdout",
          "output_type": "stream",
          "text": [
            "Accuracy: 89.51%\n",
            "\n",
            " Training Accuracy score: 0.9989499474973749\n",
            "Testing Accuracy score: 0.8951048951048951\n",
            "classification_report \n",
            "               precision    recall  f1-score   support\n",
            "\n",
            "         0.0       0.90      0.89      0.90       358\n",
            "         1.0       0.89      0.90      0.90       357\n",
            "\n",
            "    accuracy                           0.90       715\n",
            "   macro avg       0.90      0.90      0.90       715\n",
            "weighted avg       0.90      0.90      0.90       715\n",
            "\n"
          ]
        },
        {
          "data": {
            "image/png": "[encoded data removed]",
            "text/plain": [
              "<Figure size 640x480 with 2 Axes>"
            ]
          },
          "metadata": {},
          "output_type": "display_data"
        }
      ],
      "source": [
        "\n",
        "import numpy as np # linear algebra\n",
        "import pandas as pd # data processing, CSV file I/O (e.g. pd.read_csv)\n",
        "from sklearn.model_selection import train_test_split\n",
        "from sklearn.ensemble import RandomForestClassifier\n",
        "import gender_guesser.detector as gender\n",
        "import matplotlib.pyplot as plt \n",
        "from datetime import datetime\n",
        "from sklearn import metrics\n",
        "import seaborn as sns\n",
        "import matplotlib.pyplot as plt\n",
        "from sklearn.metrics import classification_report\n",
        "from imblearn.over_sampling import SMOTE\n",
        "from sklearn.pipeline import Pipeline\n",
        "df = pd.read_csv('./Data/cleandata.csv')\n",
        "\n",
        "x=df.iloc[:, :-1]\n",
        "y = df.IsABot.values.tolist()\n",
        "smote = SMOTE(random_state=10)\n",
        "x, y =smote.fit_resample(x, y)\n",
        "x_train, x_test, y_train, y_test = train_test_split(x, y, test_size=0.2, random_state=42,stratify=y)\n",
        "pipeline = Pipeline([\n",
        "    ('rf', DecisionTreeClassifier()) # Training a random forest classifier on the data\n",
        "])\n",
        "\n",
        "# Train the pipeline on the data\n",
        "pipeline.fit(x_train, y_train)\n",
        "# feat_importances = pd.Series(pipeline['rf'].feature_importances_, index=x.columns)\n",
        "# feat_importances.nlargest(20).plot(kind='barh')\n",
        "# plt.show()\n",
        "score = pipeline.score(x_test, y_test)\n",
        "print(\"Accuracy: %.2f%%\" % (score * 100))\n",
        "y_pred_train = pipeline.predict(x_train)\n",
        "y_pred_test = pipeline.predict(x_test)\n",
        "print(\"\\n Training Accuracy score:\",metrics.accuracy_score(y_train, y_pred_train))\n",
        "print(\"Testing Accuracy score:\",metrics.accuracy_score(y_test, y_pred_test))\n",
        "print(\"classification_report \\n \"+classification_report(y_test, y_pred_test))\n",
        "cm = metrics.confusion_matrix(y_test, y_pred_test)\n",
        "# print('Confusion matrix\\n', cm)\n",
        "\n",
        "cm_matrixNB = pd.DataFrame(data=cm, )\n",
        "sns.heatmap(cm_matrixNB, annot=True, fmt='d', cmap='YlGnBu')\n",
        "plt.show()"
      ]
    },
    {
      "attachments": {},
      "cell_type": "markdown",
      "metadata": {},
      "source": [
        "with feature selection "
      ]
    },
    {
      "attachments": {},
      "cell_type": "markdown",
      "metadata": {},
      "source": [
        "undersimpling"
      ]
    },
    {
      "attachments": {},
      "cell_type": "markdown",
      "metadata": {},
      "source": [
        " oversimplings"
      ]
    },
    {
      "cell_type": "code",
      "execution_count": 6,
      "metadata": {},
      "outputs": [],
      "source": [
        "from sklearn.pipeline import Pipeline"
      ]
    },
    {
      "cell_type": "code",
      "execution_count": 7,
      "metadata": {},
      "outputs": [
        {
          "name": "stdout",
          "output_type": "stream",
          "text": [
            "Accuracy: 89.23%\n",
            "\n",
            " Training Accuracy score: 0.9989499474973749\n",
            "Testing Accuracy score: 0.8923076923076924\n",
            "classification_report \n",
            "               precision    recall  f1-score   support\n",
            "\n",
            "         0.0       0.89      0.90      0.89       358\n",
            "         1.0       0.90      0.89      0.89       357\n",
            "\n",
            "    accuracy                           0.89       715\n",
            "   macro avg       0.89      0.89      0.89       715\n",
            "weighted avg       0.89      0.89      0.89       715\n",
            "\n"
          ]
        },
        {
          "data": {
            "image/png": "[encoded data removed]",
            "text/plain": [
              "<Figure size 640x480 with 2 Axes>"
            ]
          },
          "metadata": {},
          "output_type": "display_data"
        }
      ],
      "source": [
        "import numpy as np # linear algebra\n",
        "import pandas as pd # data processing, CSV file I/O (e.g. pd.read_csv)\n",
        "from sklearn.model_selection import train_test_split\n",
        "from sklearn.tree import DecisionTreeClassifier\n",
        "import matplotlib.pyplot as plt \n",
        "from datetime import datetime\n",
        "from sklearn import metrics\n",
        "import seaborn as sns\n",
        "import matplotlib.pyplot as plt\n",
        "from sklearn.metrics import classification_report\n",
        "from imblearn.over_sampling import SMOTE\n",
        "data1 = pd.read_csv('./Data/cleandata.csv')\n",
        "\n",
        "data1=data1.loc[:,['HasProfilePicture', 'following', 'follower',\n",
        "       'HasAccountDescription', 'likes', 'posts', 'AverageNumberOfHashtags',\n",
        "       'AverageNumberOfComments', 'AverageNumberOfShare',\n",
        "       'AverageNumberOfLikes', 'AverageNumberOfLinkedProfiles',\n",
        "       'AverageNumberOfViews', 'IsABot']]\n",
        "\n",
        "\n",
        "\n",
        "from imblearn.over_sampling import SMOTE\n",
        "df=data1\n",
        "x=df.iloc[:, :-1]\n",
        "y = df.IsABot.values.tolist()\n",
        "\n",
        "smote = SMOTE(random_state=10)\n",
        "x, y =smote.fit_resample(x, y)\n",
        "x_train, x_test, y_train, y_test = train_test_split(x, y, test_size=0.2, random_state=42,stratify=y)\n",
        "pipeline = Pipeline([\n",
        "    ('rf', DecisionTreeClassifier( random_state=42)) # Training a random forest classifier on the data\n",
        "])\n",
        "\n",
        "# Train the pipeline on the data\n",
        "pipeline.fit(x_train, y_train)\n",
        "score = pipeline.score(x_test, y_test)\n",
        "print(\"Accuracy: %.2f%%\" % (score * 100))\n",
        "y_pred_train = pipeline.predict(x_train)\n",
        "y_pred_test = pipeline.predict(x_test)\n",
        "print(\"\\n Training Accuracy score:\",metrics.accuracy_score(y_train, y_pred_train))\n",
        "print(\"Testing Accuracy score:\",metrics.accuracy_score(y_test, y_pred_test))\n",
        "print(\"classification_report \\n \"+classification_report(y_test, y_pred_test))\n",
        "cm = metrics.confusion_matrix(y_test, y_pred_test)\n",
        "# print('Confusion matrix\\n', cm)\n",
        "cm_matrixNB = pd.DataFrame(data=cm, )\n",
        "sns.heatmap(cm_matrixNB, annot=True, fmt='d', cmap='YlGnBu')\n",
        "plt.show()"
      ]
    },
    {
      "attachments": {},
      "cell_type": "markdown",
      "metadata": {},
      "source": [
        "# hyperparametre\n"
      ]
    },
    {
      "attachments": {},
      "cell_type": "markdown",
      "metadata": {},
      "source": [
        "oversimpling"
      ]
    },
    {
      "cell_type": "code",
      "execution_count": 10,
      "metadata": {},
      "outputs": [
        {
          "data": {
            "text/plain": [
              "{'criterion': 'entropy',\n",
              " 'max_depth': 15,\n",
              " 'max_features': None,\n",
              " 'min_samples_leaf': 1,\n",
              " 'min_samples_split': 5}"
            ]
          },
          "execution_count": 10,
          "metadata": {},
          "output_type": "execute_result"
        }
      ],
      "source": [
        "from sklearn.model_selection import GridSearchCV\n",
        "from imblearn.over_sampling import SMOTE\n",
        "data1 = pd.read_csv('./Data/cleandata.csv')\n",
        "\n",
        "data1=data1.loc[:,['HasProfilePicture', 'following', 'follower',\n",
        "       'HasAccountDescription', 'likes', 'posts', 'AverageNumberOfHashtags',\n",
        "       'AverageNumberOfComments', 'AverageNumberOfShare',\n",
        "       'AverageNumberOfLikes', 'AverageNumberOfLinkedProfiles',\n",
        "       'AverageNumberOfViews', 'IsABot']]\n",
        "\n",
        "\n",
        "\n",
        "from imblearn.over_sampling import SMOTE\n",
        "\n",
        "x=data1.iloc[:, :-1]\n",
        "y = data1.IsABot.values.tolist()\n",
        "\n",
        "smote = SMOTE(random_state=10)\n",
        "x, y =smote.fit_resample(x, y)\n",
        "param_grid = {\n",
        "    'criterion': ['gini', 'entropy'],\n",
        "    'max_depth': [None, 5, 10, 15],\n",
        "    'min_samples_split': [2, 5, 10],\n",
        "    'min_samples_leaf': [1, 2, 4],\n",
        "    'max_features': [None, 'sqrt', 'log2']\n",
        "}\n",
        "# Conducting Parameter Optmization With Pipeline\n",
        "# Creating a grid search object\n",
        "clf_GS = GridSearchCV(estimator = DecisionTreeClassifier(), param_grid=param_grid, cv = 3)\n",
        "\n",
        "# Fitting the grid search\n",
        "clf_GS.fit(x, y)\n",
        "\n",
        "clf_GS.best_params_"
      ]
    },
    {
      "attachments": {},
      "cell_type": "markdown",
      "metadata": {},
      "source": [
        "with hyperparametre "
      ]
    },
    {
      "attachments": {},
      "cell_type": "markdown",
      "metadata": {},
      "source": [
        "oversimpling"
      ]
    },
    {
      "cell_type": "code",
      "execution_count": 12,
      "metadata": {},
      "outputs": [
        {
          "name": "stdout",
          "output_type": "stream",
          "text": [
            "Accuracy: 91.19%\n",
            "\n",
            " Training Accuracy score: 0.9824991249562478\n",
            "Testing Accuracy score: 0.9118881118881119\n",
            "classification_report \n",
            "               precision    recall  f1-score   support\n",
            "\n",
            "         0.0       0.91      0.91      0.91       358\n",
            "         1.0       0.91      0.91      0.91       357\n",
            "\n",
            "    accuracy                           0.91       715\n",
            "   macro avg       0.91      0.91      0.91       715\n",
            "weighted avg       0.91      0.91      0.91       715\n",
            "\n"
          ]
        },
        {
          "data": {
            "image/png": "[encoded data removed]",
            "text/plain": [
              "<Figure size 640x480 with 2 Axes>"
            ]
          },
          "metadata": {},
          "output_type": "display_data"
        }
      ],
      "source": [
        "data1 = pd.read_csv('./Data/cleandata.csv')\n",
        "# verified  location tweet_language url avg_tweets_by_hour_of_day following/years followers/lastpost \n",
        "data1=data1.loc[:,['HasProfilePicture', 'following', 'follower',\n",
        "       'HasAccountDescription', 'likes', 'posts', 'AverageNumberOfHashtags',\n",
        "       'AverageNumberOfComments', 'AverageNumberOfShare',\n",
        "       'AverageNumberOfLikes', 'AverageNumberOfLinkedProfiles',\n",
        "       'AverageNumberOfViews', 'IsABot']]\n",
        "\n",
        "\n",
        "#  for oversimpling\n",
        "{'criterion': 'entropy',\n",
        " 'max_depth': 15,\n",
        " 'max_features': None,\n",
        " 'min_samples_leaf': 1,\n",
        " 'min_samples_split': 5}\n",
        "\n",
        "from imblearn.over_sampling import SMOTE\n",
        "df=data1\n",
        "x=df.iloc[:, :-1]\n",
        "y = df.IsABot.values.tolist()\n",
        "\n",
        "smote = SMOTE(random_state=10)\n",
        "x, y =smote.fit_resample(x, y)\n",
        "x_train, x_test, y_train, y_test = train_test_split(x, y, test_size=0.2, random_state=42,stratify=y)\n",
        "pipeline = Pipeline([\n",
        "    ('rf', DecisionTreeClassifier(criterion='entropy',random_state=42,max_depth=15,max_features=None,\n",
        "                                 min_samples_leaf=1,min_samples_split=5 )) # Training a random forest classifier on the data\n",
        "])\n",
        "\n",
        "# Train the pipeline on the data\n",
        "pipeline.fit(x_train, y_train)\n",
        "score = pipeline.score(x_test, y_test)\n",
        "print(\"Accuracy: %.2f%%\" % (score * 100))\n",
        "y_pred_train = pipeline.predict(x_train)\n",
        "y_pred_test = pipeline.predict(x_test)\n",
        "print(\"\\n Training Accuracy score:\",metrics.accuracy_score(y_train, y_pred_train))\n",
        "print(\"Testing Accuracy score:\",metrics.accuracy_score(y_test, y_pred_test))\n",
        "print(\"classification_report \\n \"+classification_report(y_test, y_pred_test))\n",
        "cm = metrics.confusion_matrix(y_test, y_pred_test)\n",
        "# print('Confusion matrix\\n', cm)\n",
        "cm_matrixNB = pd.DataFrame(data=cm, )\n",
        "sns.heatmap(cm_matrixNB, annot=True, fmt='d', cmap='YlGnBu')\n",
        "plt.show()"
      ]
    },
    {
      "attachments": {},
      "cell_type": "markdown",
      "metadata": {},
      "source": [
        "#  cross validation"
      ]
    },
    {
      "cell_type": "code",
      "execution_count": 14,
      "metadata": {},
      "outputs": [
        {
          "name": "stdout",
          "output_type": "stream",
          "text": [
            "Average CV Score:  0.8989374520758023\n"
          ]
        }
      ],
      "source": [
        "\n",
        "import numpy as np # linear algebra\n",
        "import pandas as pd # data processing, CSV file I/O (e.g. pd.read_csv)\n",
        "from sklearn.model_selection import train_test_split\n",
        "from sklearn.tree import DecisionTreeClassifier\n",
        "import gender_guesser.detector as gender\n",
        "import matplotlib.pyplot as plt \n",
        "from datetime import datetime\n",
        "from sklearn import metrics\n",
        "import seaborn as sns\n",
        "import matplotlib.pyplot as plt\n",
        "from sklearn.metrics import classification_report\n",
        "from sklearn.model_selection import KFold, cross_val_score\n",
        "data1 = pd.read_csv('./Data/cleandata.csv')\n",
        "\n",
        "data1=data1.loc[:,['HasProfilePicture', 'following', 'follower',\n",
        "       'HasAccountDescription', 'likes', 'posts', 'AverageNumberOfHashtags',\n",
        "       'AverageNumberOfComments', 'AverageNumberOfShare',\n",
        "       'AverageNumberOfLikes', 'AverageNumberOfLinkedProfiles',\n",
        "       'AverageNumberOfViews', 'IsABot']]\n",
        "\n",
        "\n",
        "{'criterion': 'entropy',\n",
        " 'max_depth': 15,\n",
        " 'max_features': None,\n",
        " 'min_samples_leaf': 1,\n",
        " 'min_samples_split': 5}\n",
        "\n",
        "from imblearn.over_sampling import SMOTE\n",
        "df=data1\n",
        "x=df.iloc[:, :-1]\n",
        "y = df.IsABot.values.tolist()\n",
        "\n",
        "smote = SMOTE(random_state=10)\n",
        "x, y =smote.fit_resample(x, y)\n",
        "k_folds = KFold(n_splits = 10)\n",
        "clf=DecisionTreeClassifier(criterion='entropy',random_state=42,max_depth=15,max_features=None,\n",
        "                                 min_samples_leaf=1,min_samples_split=5 )\n",
        "scores = cross_val_score(clf, x, y, cv = k_folds)\n",
        "\n",
        "print(\"Average CV Score: \", scores.mean())\n",
        "# Average CV Score:  0.8989374520758023"
      ]
    }
  ],
  "metadata": {
    "kernelspec": {
      "display_name": "venv",
      "language": "python",
      "name": "python3"
    },
    "language_info": {
      "codemirror_mode": {
        "name": "ipython",
        "version": 3
      },
      "file_extension": ".py",
      "mimetype": "text/x-python",
      "name": "python",
      "nbconvert_exporter": "python",
      "pygments_lexer": "ipython3",
      "version": "3.10.11"
    },
    "vscode": {
      "interpreter": {
        "hash": "919f1a12e43db5d5accd328457ee16aa753b873ae7a9cf7fbc94ca5438fe0a95"
      }
    }
  },
  "nbformat": 4,
  "nbformat_minor": 4
}
