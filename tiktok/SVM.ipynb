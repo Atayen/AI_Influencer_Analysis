{
 "cells": [
  {
   "attachments": {},
   "cell_type": "markdown",
   "metadata": {},
   "source": [
    "# import"
   ]
  },
  {
   "cell_type": "code",
   "execution_count": 5,
   "metadata": {},
   "outputs": [],
   "source": [
    "import numpy as np # linear algebra\n",
    "import pandas as pd # data processing, CSV file I/O (e.g. pd.read_csv)\n",
    "from sklearn.model_selection import train_test_split\n",
    "from sklearn.svm import SVC\n",
    "import gender_guesser.detector as gender\n",
    "\n",
    "import matplotlib.pyplot as plt \n",
    "from datetime import datetime\n",
    "from sklearn import metrics\n",
    "import seaborn as sns\n",
    "import matplotlib.pyplot as plt\n",
    "from sklearn.metrics import classification_report\n",
    "from sklearn.pipeline import Pipeline\n",
    "from sklearn.decomposition import PCA \n",
    "from sklearn.discriminant_analysis import StandardScaler \n",
    "from imblearn.over_sampling import SMOTE"
   ]
  },
  {
   "attachments": {},
   "cell_type": "markdown",
   "metadata": {},
   "source": [
    "\n",
    "# result"
   ]
  },
  {
   "attachments": {},
   "cell_type": "markdown",
   "metadata": {},
   "source": [
    "all the data"
   ]
  },
  {
   "cell_type": "code",
   "execution_count": 6,
   "metadata": {},
   "outputs": [
    {
     "name": "stdout",
     "output_type": "stream",
     "text": [
      "Accuracy: 66.16%\n",
      "\n",
      " Training Accuracy score: 0.665268456375839\n",
      "Testing Accuracy score: 0.661641541038526\n",
      "classification_report \n",
      "               precision    recall  f1-score   support\n",
      "\n",
      "         0.0       1.00      0.15      0.27       239\n",
      "         1.0       0.64      1.00      0.78       358\n",
      "\n",
      "    accuracy                           0.66       597\n",
      "   macro avg       0.82      0.58      0.52       597\n",
      "weighted avg       0.78      0.66      0.58       597\n",
      "\n"
     ]
    },
    {
     "data": {
      "image/png": "[encoded data removed]",
      "text/plain": [
       "<Figure size 640x480 with 2 Axes>"
      ]
     },
     "metadata": {},
     "output_type": "display_data"
    }
   ],
   "source": [
    "import numpy as np # linear algebra\n",
    "import pandas as pd # data processing, CSV file I/O (e.g. pd.read_csv)\n",
    "from sklearn.model_selection import train_test_split\n",
    "from sklearn.svm import SVC\n",
    "import gender_guesser.detector as gender\n",
    "\n",
    "import matplotlib.pyplot as plt \n",
    "from datetime import datetime\n",
    "from sklearn import metrics\n",
    "import seaborn as sns\n",
    "import matplotlib.pyplot as plt\n",
    "from sklearn.metrics import classification_report\n",
    "from imblearn.under_sampling import TomekLinks\n",
    "df = pd.read_csv('./Data/cleandata.csv')\n",
    "# tl = TomekLinks()\n",
    "x=df.iloc[:, :-1]\n",
    "y = df.IsABot.values.tolist()\n",
    "# x, y = tl.fit_resample(x, y)\n",
    "\n",
    "x_train, x_test, y_train, y_test = train_test_split(x, y, test_size=0.2, random_state=42,stratify=y)\n",
    "\n",
    "clf= SVC(random_state=42)\n",
    "clf.fit(x_train,y_train)\n",
    "score = clf.score(x_test, y_test)\n",
    "print(\"Accuracy: %.2f%%\" % (score * 100))\n",
    "y_pred_train = clf.predict(x_train)\n",
    "y_pred_test = clf.predict(x_test)\n",
    "print(\"\\n Training Accuracy score:\",metrics.accuracy_score(y_train, y_pred_train))\n",
    "print(\"Testing Accuracy score:\",metrics.accuracy_score(y_test, y_pred_test))\n",
    "print(\"classification_report \\n \"+classification_report(y_test, y_pred_test))\n",
    "cm = metrics.confusion_matrix(y_test, y_pred_test)\n",
    "# print('Confusion matrix\\n', cm)\n",
    "\n",
    "cm_matrixNB = pd.DataFrame(data=cm, )\n",
    "sns.heatmap(cm_matrixNB, annot=True, fmt='d', cmap='YlGnBu')\n",
    "plt.show()\n",
    "   "
   ]
  },
  {
   "attachments": {},
   "cell_type": "markdown",
   "metadata": {},
   "source": [
    "- random undersimpling"
   ]
  },
  {
   "cell_type": "code",
   "execution_count": 7,
   "metadata": {},
   "outputs": [
    {
     "name": "stdout",
     "output_type": "stream",
     "text": [
      "Accuracy: 57.74%\n",
      "\n",
      " Training Accuracy score: 0.5753138075313807\n",
      "Testing Accuracy score: 0.5774058577405857\n",
      "classification_report \n",
      "               precision    recall  f1-score   support\n",
      "\n",
      "         0.0       1.00      0.15      0.27       239\n",
      "         1.0       0.54      1.00      0.70       239\n",
      "\n",
      "    accuracy                           0.58       478\n",
      "   macro avg       0.77      0.58      0.49       478\n",
      "weighted avg       0.77      0.58      0.49       478\n",
      "\n"
     ]
    },
    {
     "data": {
      "image/png": "[encoded data removed]",
      "text/plain": [
       "<Figure size 640x480 with 2 Axes>"
      ]
     },
     "metadata": {},
     "output_type": "display_data"
    }
   ],
   "source": [
    "\n",
    "import numpy as np # linear algebra\n",
    "import pandas as pd # data processing, CSV file I/O (e.g. pd.read_csv)\n",
    "from sklearn.model_selection import train_test_split\n",
    "from sklearn.svm import SVC\n",
    "import gender_guesser.detector as gender\n",
    "import matplotlib.pyplot as plt \n",
    "from datetime import datetime\n",
    "from sklearn import metrics\n",
    "import seaborn as sns\n",
    "import matplotlib.pyplot as plt\n",
    "from sklearn.metrics import classification_report\n",
    "\n",
    "data1 = pd.read_csv('./Data/cleandata.csv')\n",
    "\n",
    "df1=data1[data1.IsABot== 1].head(1195)\n",
    "df2=data1[data1.IsABot== 0].head(1195)\n",
    "df = pd.concat([df1, df2], ignore_index=True)\n",
    "x=df.iloc[:, :-1]\n",
    "y = df.IsABot.values.tolist()\n",
    "x_train, x_test, y_train, y_test = train_test_split(x, y, test_size=0.2, random_state=42,stratify=y)\n",
    "pipeline = Pipeline([\n",
    "   \n",
    "    ('rf', SVC(random_state=42)) # Training a random forest classifier on the data\n",
    "])\n",
    "\n",
    "# Train the pipeline on the data\n",
    "pipeline.fit(x_train, y_train)\n",
    "score = pipeline.score(x_test, y_test)\n",
    "print(\"Accuracy: %.2f%%\" % (score * 100))\n",
    "y_pred_train = pipeline.predict(x_train)\n",
    "y_pred_test = pipeline.predict(x_test)\n",
    "print(\"\\n Training Accuracy score:\",metrics.accuracy_score(y_train, y_pred_train))\n",
    "print(\"Testing Accuracy score:\",metrics.accuracy_score(y_test, y_pred_test))\n",
    "print(\"classification_report \\n \"+classification_report(y_test, y_pred_test))\n",
    "cm = metrics.confusion_matrix(y_test, y_pred_test)\n",
    "# print('Confusion matrix\\n', cm)\n",
    "\n",
    "cm_matrixNB = pd.DataFrame(data=cm, )\n",
    "sns.heatmap(cm_matrixNB, annot=True, fmt='d', cmap='YlGnBu')\n",
    "plt.show()"
   ]
  },
  {
   "attachments": {},
   "cell_type": "markdown",
   "metadata": {},
   "source": [
    "- random undersimpling + StandardScaler"
   ]
  },
  {
   "cell_type": "code",
   "execution_count": 8,
   "metadata": {},
   "outputs": [
    {
     "name": "stdout",
     "output_type": "stream",
     "text": [
      "Accuracy: 79.08%\n",
      "\n",
      " Training Accuracy score: 0.7871338912133892\n",
      "Testing Accuracy score: 0.7907949790794979\n",
      "classification_report \n",
      "               precision    recall  f1-score   support\n",
      "\n",
      "         0.0       0.86      0.70      0.77       239\n",
      "         1.0       0.75      0.88      0.81       239\n",
      "\n",
      "    accuracy                           0.79       478\n",
      "   macro avg       0.80      0.79      0.79       478\n",
      "weighted avg       0.80      0.79      0.79       478\n",
      "\n"
     ]
    },
    {
     "data": {
      "image/png": "[encoded data removed]",
      "text/plain": [
       "<Figure size 640x480 with 2 Axes>"
      ]
     },
     "metadata": {},
     "output_type": "display_data"
    }
   ],
   "source": [
    "\n",
    "import numpy as np # linear algebra\n",
    "import pandas as pd # data processing, CSV file I/O (e.g. pd.read_csv)\n",
    "from sklearn.model_selection import train_test_split\n",
    "from sklearn.svm import SVC\n",
    "import gender_guesser.detector as gender\n",
    "import matplotlib.pyplot as plt \n",
    "from datetime import datetime\n",
    "from sklearn import metrics\n",
    "import seaborn as sns\n",
    "import matplotlib.pyplot as plt\n",
    "from sklearn.metrics import classification_report\n",
    "from imblearn.over_sampling import SMOTE\n",
    "data1 = pd.read_csv('./Data/cleandata.csv')\n",
    "\n",
    "df1=data1[data1.IsABot== 1].head(1195)\n",
    "df2=data1[data1.IsABot== 0].head(1195)\n",
    "df = pd.concat([df1, df2], ignore_index=True)\n",
    "x=df.iloc[:, :-1]\n",
    "y = df.IsABot.values.tolist()\n",
    "x_train, x_test, y_train, y_test = train_test_split(x, y, test_size=0.2, random_state=42,stratify=y)\n",
    "pipeline = Pipeline([\n",
    "    ('scaler', StandardScaler()), # Standardizing the data\n",
    "    ('pca', PCA()), # Transforming the data with PCA\n",
    "    ('rf',  SVC(random_state=42)) # Training a random forest classifier on the data\n",
    "])\n",
    "\n",
    "# Train the pipeline on the data\n",
    "pipeline.fit(x_train, y_train)\n",
    "score = pipeline.score(x_test, y_test)\n",
    "print(\"Accuracy: %.2f%%\" % (score * 100))\n",
    "y_pred_train = pipeline.predict(x_train)\n",
    "y_pred_test = pipeline.predict(x_test)\n",
    "print(\"\\n Training Accuracy score:\",metrics.accuracy_score(y_train, y_pred_train))\n",
    "print(\"Testing Accuracy score:\",metrics.accuracy_score(y_test, y_pred_test))\n",
    "print(\"classification_report \\n \"+classification_report(y_test, y_pred_test))\n",
    "cm = metrics.confusion_matrix(y_test, y_pred_test)\n",
    "# print('Confusion matrix\\n', cm)\n",
    "\n",
    "cm_matrixNB = pd.DataFrame(data=cm, )\n",
    "sns.heatmap(cm_matrixNB, annot=True, fmt='d', cmap='YlGnBu')\n",
    "plt.show()"
   ]
  },
  {
   "attachments": {},
   "cell_type": "markdown",
   "metadata": {},
   "source": [
    "tomklink undersimpling"
   ]
  },
  {
   "cell_type": "code",
   "execution_count": 9,
   "metadata": {},
   "outputs": [
    {
     "name": "stdout",
     "output_type": "stream",
     "text": [
      "Accuracy: 83.99%\n",
      "\n",
      " Training Accuracy score: 0.8204134366925064\n",
      "Testing Accuracy score: 0.8399311531841652\n",
      "classification_report \n",
      "               precision    recall  f1-score   support\n",
      "\n",
      "         0.0       0.93      0.66      0.77       239\n",
      "         1.0       0.80      0.96      0.88       342\n",
      "\n",
      "    accuracy                           0.84       581\n",
      "   macro avg       0.87      0.81      0.82       581\n",
      "weighted avg       0.85      0.84      0.83       581\n",
      "\n"
     ]
    },
    {
     "data": {
      "image/png": "[encoded data removed]",
      "text/plain": [
       "<Figure size 640x480 with 2 Axes>"
      ]
     },
     "metadata": {},
     "output_type": "display_data"
    }
   ],
   "source": [
    "import numpy as np # linear algebra\n",
    "import pandas as pd\n",
    "\n",
    "from sklearn.model_selection import train_test_split\n",
    "from sklearn.svm import SVC\n",
    "import gender_guesser.detector as gender\n",
    "\n",
    "import matplotlib.pyplot as plt \n",
    "from datetime import datetime\n",
    "from sklearn import metrics\n",
    "import seaborn as sns\n",
    "import matplotlib.pyplot as plt\n",
    "from sklearn.metrics import classification_report\n",
    "from imblearn.under_sampling import TomekLinks\n",
    "\n",
    "df = pd.read_csv('./Data/cleandata.csv')\n",
    "\n",
    "tl = TomekLinks()\n",
    "x=df.iloc[:, :-1]\n",
    "y = df.IsABot.values.tolist()\n",
    "x, y = tl.fit_resample(x, y)\n",
    "\n",
    "x_train, x_test, y_train, y_test = train_test_split(x, y, test_size=0.2, random_state=42,stratify=y)\n",
    "\n",
    "clf = Pipeline([\n",
    "     ('scaler', StandardScaler()), # Standardizing the data\n",
    "    ('pca', PCA()), # Transforming the data with PCA\n",
    "    ('rf',  SVC(random_state=42)) # Training a random forest classifier on the data\n",
    "])\n",
    "\n",
    "# Train the pipeline on the data\n",
    "clf.fit(x_train, y_train)\n",
    "score = clf.score(x_test, y_test)\n",
    "print(\"Accuracy: %.2f%%\" % (score * 100))\n",
    "y_pred_train = clf.predict(x_train)\n",
    "y_pred_test = clf.predict(x_test)\n",
    "print(\"\\n Training Accuracy score:\",metrics.accuracy_score(y_train, y_pred_train))\n",
    "print(\"Testing Accuracy score:\",metrics.accuracy_score(y_test, y_pred_test))\n",
    "print(\"classification_report \\n \"+classification_report(y_test, y_pred_test))\n",
    "cm = metrics.confusion_matrix(y_test, y_pred_test)\n",
    "# print('Confusion matrix\\n', cm)\n",
    "\n",
    "cm_matrixNB = pd.DataFrame(data=cm, )\n",
    "sns.heatmap(cm_matrixNB, annot=True, fmt='d', cmap='YlGnBu')\n",
    "plt.show()\n",
    "   "
   ]
  },
  {
   "attachments": {},
   "cell_type": "markdown",
   "metadata": {},
   "source": [
    "tomlink + random undersimpling"
   ]
  },
  {
   "cell_type": "code",
   "execution_count": 10,
   "metadata": {},
   "outputs": [
    {
     "name": "stdout",
     "output_type": "stream",
     "text": [
      "Accuracy: 83.99%\n",
      "\n",
      " Training Accuracy score: 0.8204134366925064\n",
      "Testing Accuracy score: 0.8399311531841652\n",
      "classification_report \n",
      "               precision    recall  f1-score   support\n",
      "\n",
      "         0.0       0.93      0.66      0.77       239\n",
      "         1.0       0.80      0.96      0.88       342\n",
      "\n",
      "    accuracy                           0.84       581\n",
      "   macro avg       0.87      0.81      0.82       581\n",
      "weighted avg       0.85      0.84      0.83       581\n",
      "\n"
     ]
    },
    {
     "data": {
      "image/png": "[encoded data removed]",
      "text/plain": [
       "<Figure size 640x480 with 2 Axes>"
      ]
     },
     "metadata": {},
     "output_type": "display_data"
    }
   ],
   "source": [
    "import numpy as np # linear algebra\n",
    "import pandas as pd\n",
    "from sklearn.decomposition import PCA\n",
    "\n",
    "from sklearn.model_selection import train_test_split\n",
    "from sklearn.svm import SVC\n",
    "import gender_guesser.detector as gender\n",
    "\n",
    "import matplotlib.pyplot as plt \n",
    "from datetime import datetime\n",
    "from sklearn import metrics\n",
    "import seaborn as sns\n",
    "import matplotlib.pyplot as plt\n",
    "from sklearn.metrics import classification_report\n",
    "from imblearn.under_sampling import TomekLinks\n",
    "from sklearn.pipeline import Pipeline\n",
    "df = pd.read_csv('./Data/cleandata.csv')\n",
    "tl = TomekLinks()\n",
    "x=df.iloc[:, :-1]\n",
    "y = df.IsABot.values.tolist()\n",
    "\n",
    "x, y = tl.fit_resample(x, y)\n",
    "# Convert the list to a DataFrame\n",
    "y = pd.DataFrame({'IsABot': y})\n",
    "\n",
    "# Concatenate the two DataFrames\n",
    "data = pd.concat([x, y], axis=1)\n",
    "df1=data[data.IsABot== 1].head(11543)\n",
    "df2=data[data.IsABot== 0].head(11543)\n",
    "df = pd.concat([df1, df2], ignore_index=True)\n",
    "x=df.iloc[:, :-1]\n",
    "y = df.IsABot.values.tolist()\n",
    "x_train, x_test, y_train, y_test = train_test_split(x, y, test_size=0.2, random_state=42,stratify=y)\n",
    "\n",
    "clf = Pipeline([\n",
    "     ('scaler', StandardScaler()), # Standardizing the data\n",
    "    ('pca', PCA()), # Transforming the data with PCA\n",
    "    ('rf',  SVC(random_state=42)) # Training a random forest classifier on the data\n",
    "])\n",
    "\n",
    "# Train the pipeline on the data\n",
    "clf.fit(x_train, y_train)\n",
    "score = clf.score(x_test, y_test)\n",
    "print(\"Accuracy: %.2f%%\" % (score * 100))\n",
    "y_pred_train = clf.predict(x_train)\n",
    "y_pred_test = clf.predict(x_test)\n",
    "print(\"\\n Training Accuracy score:\",metrics.accuracy_score(y_train, y_pred_train))\n",
    "print(\"Testing Accuracy score:\",metrics.accuracy_score(y_test, y_pred_test))\n",
    "print(\"classification_report \\n \"+classification_report(y_test, y_pred_test))\n",
    "cm = metrics.confusion_matrix(y_test, y_pred_test)\n",
    "# print('Confusion matrix\\n', cm)\n",
    "\n",
    "cm_matrixNB = pd.DataFrame(data=cm, )\n",
    "sns.heatmap(cm_matrixNB, annot=True, fmt='d', cmap='YlGnBu')\n",
    "plt.show()"
   ]
  },
  {
   "attachments": {},
   "cell_type": "markdown",
   "metadata": {},
   "source": [
    "-oversimpling"
   ]
  },
  {
   "cell_type": "code",
   "execution_count": 11,
   "metadata": {},
   "outputs": [
    {
     "name": "stdout",
     "output_type": "stream",
     "text": [
      "Accuracy: 82.52%\n",
      "\n",
      " Training Accuracy score: 0.7945397269863493\n",
      "Testing Accuracy score: 0.8251748251748252\n",
      "classification_report \n",
      "               precision    recall  f1-score   support\n",
      "\n",
      "         0.0       0.90      0.73      0.81       358\n",
      "         1.0       0.77      0.92      0.84       357\n",
      "\n",
      "    accuracy                           0.83       715\n",
      "   macro avg       0.84      0.83      0.82       715\n",
      "weighted avg       0.84      0.83      0.82       715\n",
      "\n"
     ]
    },
    {
     "data": {
      "image/png": "[encoded data removed]",
      "text/plain": [
       "<Figure size 640x480 with 2 Axes>"
      ]
     },
     "metadata": {},
     "output_type": "display_data"
    }
   ],
   "source": [
    "\n",
    "import numpy as np # linear algebra\n",
    "import pandas as pd # data processing, CSV file I/O (e.g. pd.read_csv)\n",
    "from sklearn.model_selection import train_test_split\n",
    "from sklearn.svm import SVC\n",
    "import gender_guesser.detector as gender\n",
    "import matplotlib.pyplot as plt \n",
    "from datetime import datetime\n",
    "from sklearn import metrics\n",
    "import seaborn as sns\n",
    "import matplotlib.pyplot as plt\n",
    "from sklearn.metrics import classification_report\n",
    "from imblearn.over_sampling import SMOTE\n",
    "df = pd.read_csv('./Data/cleandata.csv')\n",
    "x=df.iloc[:, :-1]\n",
    "y = df.IsABot.values.tolist()\n",
    "smote = SMOTE(random_state=10)\n",
    "x, y =smote.fit_resample(x, y)\n",
    "x_train, x_test, y_train, y_test = train_test_split(x, y, test_size=0.2, random_state=42,stratify=y)\n",
    "pipeline = Pipeline([\n",
    "    ('scaler', StandardScaler()), # Standardizing the data\n",
    "    ('pca', PCA()), # Transforming the data with PCA\n",
    "    ('rf',  SVC(random_state=42)) # Training a random forest classifier on the data\n",
    "])\n",
    "\n",
    "# Train the pipeline on the data\n",
    "pipeline.fit(x_train, y_train)\n",
    "\n",
    "# feat_importances = pd.Series(pipeline['rf'].feature_importances_, index=x.columns)\n",
    "# feat_importances.nlargest(20).plot(kind='barh')\n",
    "# plt.show()\n",
    "score = pipeline.score(x_test, y_test)\n",
    "print(\"Accuracy: %.2f%%\" % (score * 100))\n",
    "y_pred_train = pipeline.predict(x_train)\n",
    "y_pred_test = pipeline.predict(x_test)\n",
    "print(\"\\n Training Accuracy score:\",metrics.accuracy_score(y_train, y_pred_train))\n",
    "print(\"Testing Accuracy score:\",metrics.accuracy_score(y_test, y_pred_test))\n",
    "print(\"classification_report \\n \"+classification_report(y_test, y_pred_test))\n",
    "cm = metrics.confusion_matrix(y_test, y_pred_test)\n",
    "# print('Confusion matrix\\n', cm)\n",
    "\n",
    "cm_matrixNB = pd.DataFrame(data=cm, )\n",
    "sns.heatmap(cm_matrixNB, annot=True, fmt='d', cmap='YlGnBu')\n",
    "plt.show()"
   ]
  },
  {
   "attachments": {},
   "cell_type": "markdown",
   "metadata": {},
   "source": [
    "# with features selection"
   ]
  },
  {
   "cell_type": "code",
   "execution_count": 12,
   "metadata": {},
   "outputs": [],
   "source": [
    "import numpy as np # linear algebra\n",
    "import pandas as pd # data processing, CSV file I/O (e.g. pd.read_csv)\n",
    "from sklearn.model_selection import train_test_split\n",
    "from sklearn.svm import SVC\n",
    "import gender_guesser.detector as gender\n",
    "import matplotlib.pyplot as plt \n",
    "from datetime import datetime\n",
    "from sklearn import metrics\n",
    "import seaborn as sns\n",
    "import matplotlib.pyplot as plt\n",
    "from sklearn.metrics import classification_report\n",
    "from imblearn.over_sampling import SMOTE\n",
    "data1 = pd.read_csv('./Data/cleandata.csv')\n",
    "data1=data1.loc[:,['HasProfilePicture', 'following', 'follower',\n",
    "       'HasAccountDescription', 'likes', 'posts', 'AverageNumberOfHashtags',\n",
    "       'AverageNumberOfComments', 'AverageNumberOfShare',\n",
    "       'AverageNumberOfLikes', 'AverageNumberOfLinkedProfiles',\n",
    "       'AverageNumberOfViews', 'IsABot']]\n",
    "\n",
    "\n"
   ]
  },
  {
   "attachments": {},
   "cell_type": "markdown",
   "metadata": {},
   "source": [
    "- random undersimpling "
   ]
  },
  {
   "cell_type": "code",
   "execution_count": 13,
   "metadata": {},
   "outputs": [
    {
     "name": "stdout",
     "output_type": "stream",
     "text": [
      "Accuracy: 79.08%\n",
      "\n",
      " Training Accuracy score: 0.7871338912133892\n",
      "Testing Accuracy score: 0.7907949790794979\n",
      "classification_report \n",
      "               precision    recall  f1-score   support\n",
      "\n",
      "         0.0       0.86      0.70      0.77       239\n",
      "         1.0       0.75      0.88      0.81       239\n",
      "\n",
      "    accuracy                           0.79       478\n",
      "   macro avg       0.80      0.79      0.79       478\n",
      "weighted avg       0.80      0.79      0.79       478\n",
      "\n"
     ]
    },
    {
     "data": {
      "image/png": "[encoded data removed]",
      "text/plain": [
       "<Figure size 640x480 with 2 Axes>"
      ]
     },
     "metadata": {},
     "output_type": "display_data"
    }
   ],
   "source": [
    "df1=data1[data1.IsABot== 1].head(1195)\n",
    "df2=data1[data1.IsABot== 0].head(1195)\n",
    "df = pd.concat([df1, df2], ignore_index=True)\n",
    "x=df.iloc[:, :-1]\n",
    "y = df.IsABot.values.tolist()\n",
    "\n",
    "x_train, x_test, y_train, y_test = train_test_split(x, y, test_size=0.2, random_state=42,stratify=y)\n",
    "pipeline = Pipeline([\n",
    "    ('scaler', StandardScaler()), # Standardizing the data\n",
    "    ('pca', PCA()), # Transforming the data with PCA\n",
    "    ('rf',  SVC(random_state=42)) # Training a random forest classifier on the data\n",
    "])\n",
    "\n",
    "# Train the pipeline on the data\n",
    "pipeline.fit(x_train, y_train)\n",
    "\n",
    "score = pipeline.score(x_test, y_test)\n",
    "print(\"Accuracy: %.2f%%\" % (score * 100))\n",
    "y_pred_train = pipeline.predict(x_train)\n",
    "y_pred_test = pipeline.predict(x_test)\n",
    "print(\"\\n Training Accuracy score:\",metrics.accuracy_score(y_train, y_pred_train))\n",
    "print(\"Testing Accuracy score:\",metrics.accuracy_score(y_test, y_pred_test))\n",
    "print(\"classification_report \\n \"+classification_report(y_test, y_pred_test))\n",
    "cm = metrics.confusion_matrix(y_test, y_pred_test)\n",
    "# print('Confusion matrix\\n', cm)\n",
    "\n",
    "cm_matrixNB = pd.DataFrame(data=cm, )\n",
    "sns.heatmap(cm_matrixNB, annot=True, fmt='d', cmap='YlGnBu')\n",
    "plt.show()"
   ]
  },
  {
   "attachments": {},
   "cell_type": "markdown",
   "metadata": {},
   "source": [
    "- oversimpling"
   ]
  },
  {
   "cell_type": "code",
   "execution_count": 14,
   "metadata": {},
   "outputs": [
    {
     "name": "stdout",
     "output_type": "stream",
     "text": [
      "Accuracy: 82.52%\n",
      "\n",
      " Training Accuracy score: 0.7941897094854743\n",
      "Testing Accuracy score: 0.8251748251748252\n",
      "classification_report \n",
      "               precision    recall  f1-score   support\n",
      "\n",
      "         0.0       0.90      0.73      0.81       358\n",
      "         1.0       0.77      0.92      0.84       357\n",
      "\n",
      "    accuracy                           0.83       715\n",
      "   macro avg       0.84      0.83      0.82       715\n",
      "weighted avg       0.84      0.83      0.82       715\n",
      "\n"
     ]
    },
    {
     "data": {
      "image/png": "[encoded data removed]",
      "text/plain": [
       "<Figure size 640x480 with 2 Axes>"
      ]
     },
     "metadata": {},
     "output_type": "display_data"
    }
   ],
   "source": [
    "from imblearn.over_sampling import SMOTE\n",
    "df=data1\n",
    "x=df.iloc[:, :-1]\n",
    "y = df.IsABot.values.tolist()\n",
    "\n",
    "smote = SMOTE(random_state=10)\n",
    "x, y =smote.fit_resample(x, y)\n",
    "x_train, x_test, y_train, y_test = train_test_split(x, y, test_size=0.2, random_state=42,stratify=y)\n",
    "pipeline = Pipeline([\n",
    "   ('scaler', StandardScaler()), # Standardizing the data\n",
    "    ('pca', PCA()), # Transforming the data with PCA\n",
    "    ('rf',  SVC(random_state=42)) # Training a random forest classifier on the data\n",
    "])\n",
    "\n",
    "# Train the pipeline on the data\n",
    "pipeline.fit(x_train, y_train)\n",
    "score = pipeline.score(x_test, y_test)\n",
    "print(\"Accuracy: %.2f%%\" % (score * 100))\n",
    "y_pred_train = pipeline.predict(x_train)\n",
    "y_pred_test = pipeline.predict(x_test)\n",
    "print(\"\\n Training Accuracy score:\",metrics.accuracy_score(y_train, y_pred_train))\n",
    "print(\"Testing Accuracy score:\",metrics.accuracy_score(y_test, y_pred_test))\n",
    "print(\"classification_report \\n \"+classification_report(y_test, y_pred_test))\n",
    "cm = metrics.confusion_matrix(y_test, y_pred_test)\n",
    "# print('Confusion matrix\\n', cm)\n",
    "cm_matrixNB = pd.DataFrame(data=cm, )\n",
    "sns.heatmap(cm_matrixNB, annot=True, fmt='d', cmap='YlGnBu')\n",
    "plt.show()"
   ]
  },
  {
   "attachments": {},
   "cell_type": "markdown",
   "metadata": {},
   "source": [
    "tomklink undersimpling"
   ]
  },
  {
   "cell_type": "code",
   "execution_count": 16,
   "metadata": {},
   "outputs": [
    {
     "name": "stdout",
     "output_type": "stream",
     "text": [
      "Accuracy: 84.17%\n",
      "\n",
      " Training Accuracy score: 0.8195521102497847\n",
      "Testing Accuracy score: 0.8416523235800344\n",
      "classification_report \n",
      "               precision    recall  f1-score   support\n",
      "\n",
      "         0.0       0.93      0.66      0.77       239\n",
      "         1.0       0.80      0.97      0.88       342\n",
      "\n",
      "    accuracy                           0.84       581\n",
      "   macro avg       0.87      0.81      0.83       581\n",
      "weighted avg       0.86      0.84      0.84       581\n",
      "\n"
     ]
    },
    {
     "data": {
      "image/png": "[encoded data removed]",
      "text/plain": [
       "<Figure size 640x480 with 2 Axes>"
      ]
     },
     "metadata": {},
     "output_type": "display_data"
    }
   ],
   "source": [
    "import numpy as np # linear algebra\n",
    "import pandas as pd # data processing, CSV file I/O (e.g. pd.read_csv)\n",
    "from sklearn.model_selection import train_test_split\n",
    "from sklearn.svm import SVC\n",
    "import gender_guesser.detector as gender\n",
    "\n",
    "import matplotlib.pyplot as plt \n",
    "from datetime import datetime\n",
    "from sklearn import metrics\n",
    "import seaborn as sns\n",
    "import matplotlib.pyplot as plt\n",
    "from sklearn.metrics import classification_report\n",
    "from imblearn.under_sampling import TomekLinks\n",
    "df=data1\n",
    "x=df.iloc[:, :-1]\n",
    "y = df.IsABot.values.tolist()\n",
    "tl = TomekLinks()\n",
    "x, y = tl.fit_resample(x, y)\n",
    "x_train, x_test, y_train, y_test = train_test_split(x, y, test_size=0.2, random_state=42,stratify=y)\n",
    "clf = Pipeline([\n",
    "    ('scaler', StandardScaler()), # Standardizing the data\n",
    "    ('pca', PCA()), # Transforming the data with PCA\n",
    "    ('rf',  SVC(random_state=42)) # Training a random forest classifier on the data\n",
    "])\n",
    "\n",
    "# Train the pipeline on the data\n",
    "clf.fit(x_train, y_train)\n",
    "score = clf.score(x_test, y_test)\n",
    "print(\"Accuracy: %.2f%%\" % (score * 100))\n",
    "y_pred_train = clf.predict(x_train)\n",
    "y_pred_test = clf.predict(x_test)\n",
    "\n",
    "print(\"\\n Training Accuracy score:\",metrics.accuracy_score(y_train, y_pred_train))\n",
    "print(\"Testing Accuracy score:\",metrics.accuracy_score(y_test, y_pred_test))\n",
    "print(\"classification_report \\n \"+classification_report(y_test, y_pred_test))\n",
    "cm = metrics.confusion_matrix(y_test, y_pred_test)\n",
    "# print('Confusion matrix\\n', cm)\n",
    "\n",
    "cm_matrixNB = pd.DataFrame(data=cm, )\n",
    "sns.heatmap(cm_matrixNB, annot=True, fmt='d', cmap='YlGnBu')\n",
    "plt.show()\n",
    "   "
   ]
  },
  {
   "attachments": {},
   "cell_type": "markdown",
   "metadata": {},
   "source": [
    "# hyperparametre\n"
   ]
  },
  {
   "cell_type": "code",
   "execution_count": 38,
   "metadata": {},
   "outputs": [
    {
     "data": {
      "text/plain": [
       "{'mlp__activation': 'relu',\n",
       " 'mlp__hidden_layer_sizes': (10,),\n",
       " 'mlp__learning_rate': 'constant',\n",
       " 'mlp__solver': 'adam'}"
      ]
     },
     "execution_count": 38,
     "metadata": {},
     "output_type": "execute_result"
    }
   ],
   "source": [
    "from sklearn.model_selection import GridSearchCV\n",
    "from imblearn.under_sampling import TomekLinks\n",
    "data1 = pd.read_csv('./Data/cleandata.csv')\n",
    "data1=data1.loc[:,['HasProfilePicture', 'following', 'follower',\n",
    "       'HasAccountDescription', 'likes', 'posts', 'AverageNumberOfHashtags',\n",
    "       'AverageNumberOfComments', 'AverageNumberOfShare',\n",
    "       'AverageNumberOfLikes', 'AverageNumberOfLinkedProfiles',\n",
    "       'AverageNumberOfViews', 'IsABot']]\n",
    "\n",
    "x=data1.iloc[:, :-1]\n",
    "y = data1.IsABot.values.tolist()\n",
    "tl = TomekLinks()\n",
    "x, y = tl.fit_resample(x, y)\n",
    "# Create a logistic regression pipeline with StandardScaler\n",
    "param_grid = {\n",
    "    'mlp__C': [0.1, 1, 10],\n",
    "    'mlp__kernel': ['linear', 'rbf', 'poly'],\n",
    "    'mlp__degree': [2, 3, 4],\n",
    "    'mlp__gamma': ['scale', 'auto'] + [0.1, 1, 10]\n",
    "}\n",
    "\n",
    "\n",
    "pipe = Pipeline([\n",
    "    ('scaler', StandardScaler()),\n",
    "     ('pca', PCA()),\n",
    "    ('mlp',SVC())\n",
    "])\n",
    "# Perform grid search with cross-validation\n",
    "grid_search = GridSearchCV(pipe, param_grid, cv=3)\n",
    "grid_search.fit(x ,y)\n",
    "\n",
    "grid_search.best_params_"
   ]
  },
  {
   "attachments": {},
   "cell_type": "markdown",
   "metadata": {},
   "source": [
    "#  cross validation"
   ]
  },
  {
   "attachments": {},
   "cell_type": "markdown",
   "metadata": {},
   "source": [
    "smote oversampling"
   ]
  },
  {
   "cell_type": "code",
   "execution_count": 17,
   "metadata": {},
   "outputs": [
    {
     "name": "stdout",
     "output_type": "stream",
     "text": [
      "Average CV Score:  0.7905747773969923\n"
     ]
    }
   ],
   "source": [
    "import numpy as np # linear algebra\n",
    "import pandas as pd # data processing, CSV file I/O (e.g. pd.read_csv)\n",
    "from sklearn.model_selection import train_test_split\n",
    "from sklearn.svm import SVC\n",
    "import gender_guesser.detector as gender\n",
    "import matplotlib.pyplot as plt \n",
    "from datetime import datetime\n",
    "from sklearn import metrics\n",
    "import seaborn as sns\n",
    "import matplotlib.pyplot as plt\n",
    "from sklearn.model_selection import KFold, cross_val_score\n",
    "\n",
    "data1 = pd.read_csv('./Data/cleandata.csv')\n",
    "data1=data1.loc[:,['HasProfilePicture', 'following', 'follower',\n",
    "       'HasAccountDescription', 'likes', 'posts', 'AverageNumberOfHashtags',\n",
    "       'AverageNumberOfComments', 'AverageNumberOfShare',\n",
    "       'AverageNumberOfLikes', 'AverageNumberOfLinkedProfiles',\n",
    "       'AverageNumberOfViews', 'IsABot']]\n",
    "\n",
    "x=data1.iloc[:, :-1]\n",
    "y = data1.IsABot.values.tolist()\n",
    "smote = SMOTE(random_state=10)\n",
    "x, y =smote.fit_resample(x, y)\n",
    "k_folds = KFold(n_splits = 10)\n",
    "clf = Pipeline([\n",
    "    ('scaler', StandardScaler()), # Standardizing the data\n",
    "    ('pca', PCA()), # Transforming the data with PCA\n",
    "    ('rf',  SVC(random_state=42)) # Training a random forest classifier on the data\n",
    "])\n",
    "\n",
    "scores = cross_val_score(clf, x, y, cv = k_folds)\n",
    "\n",
    "print(\"Average CV Score: \", scores.mean())\n",
    "# Average CV Score:  0.7905747773969923"
   ]
  },
  {
   "attachments": {},
   "cell_type": "markdown",
   "metadata": {},
   "source": [
    "tomeklink undersampling"
   ]
  },
  {
   "cell_type": "code",
   "execution_count": 18,
   "metadata": {},
   "outputs": [
    {
     "name": "stdout",
     "output_type": "stream",
     "text": [
      "Average CV Score:  0.819824623770589\n"
     ]
    }
   ],
   "source": [
    "import numpy as np # linear algebra\n",
    "import pandas as pd # data processing, CSV file I/O (e.g. pd.read_csv)\n",
    "from sklearn.model_selection import train_test_split\n",
    "from sklearn.svm import SVC\n",
    "import gender_guesser.detector as gender\n",
    "import matplotlib.pyplot as plt \n",
    "from datetime import datetime\n",
    "from sklearn import metrics\n",
    "import seaborn as sns\n",
    "import matplotlib.pyplot as plt\n",
    "from sklearn.model_selection import KFold, cross_val_score\n",
    "\n",
    "data1 = pd.read_csv('./Data/cleandata.csv')\n",
    "data1=data1.loc[:,['HasProfilePicture', 'following', 'follower',\n",
    "       'HasAccountDescription', 'likes', 'posts', 'AverageNumberOfHashtags',\n",
    "       'AverageNumberOfComments', 'AverageNumberOfShare',\n",
    "       'AverageNumberOfLikes', 'AverageNumberOfLinkedProfiles',\n",
    "       'AverageNumberOfViews', 'IsABot']]\n",
    "\n",
    "x=data1.iloc[:, :-1]\n",
    "y = data1.IsABot.values.tolist()\n",
    "tl = TomekLinks()\n",
    "x, y = tl.fit_resample(x, y)\n",
    "k_folds = KFold(n_splits = 10)\n",
    "clf = Pipeline([\n",
    "    ('scaler', StandardScaler()), # Standardizing the data\n",
    "    ('pca', PCA()), # Transforming the data with PCA\n",
    "    ('rf',  SVC(random_state=42)) # Training a random forest classifier on the data\n",
    "])\n",
    "\n",
    "scores = cross_val_score(clf, x, y, cv = k_folds)\n",
    "\n",
    "print(\"Average CV Score: \", scores.mean())\n",
    "# Average CV Score:  0.819824623770589"
   ]
  }
 ],
 "metadata": {
  "kernelspec": {
   "display_name": "venv",
   "language": "python",
   "name": "python3"
  },
  "language_info": {
   "codemirror_mode": {
    "name": "ipython",
    "version": 3
   },
   "file_extension": ".py",
   "mimetype": "text/x-python",
   "name": "python",
   "nbconvert_exporter": "python",
   "pygments_lexer": "ipython3",
   "version": "3.10.11"
  },
  "orig_nbformat": 4,
  "vscode": {
   "interpreter": {
    "hash": "919f1a12e43db5d5accd328457ee16aa753b873ae7a9cf7fbc94ca5438fe0a95"
   }
  }
 },
 "nbformat": 4,
 "nbformat_minor": 2
}
